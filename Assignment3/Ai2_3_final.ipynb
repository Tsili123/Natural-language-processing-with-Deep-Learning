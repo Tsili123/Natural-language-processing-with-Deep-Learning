{
  "cells": [
    {
      "cell_type": "markdown",
      "source": [
        "#Aris Tsilifonis sdi1700170 - Artificial Intelligence 2 (NLP with deep learning)\n",
        "###Develop a sentiment classifier with 3 classes (pro-vax, anti-vax, neutral) using a bidirectional stacked RNN with LSTM/GRU cells for the Twitter vaccine sentiment dataset of the previous two assignments.For the development of the models, you can experiment with the number of stacked RNNs, the number of hidden layers, type of cells, skip connections, gradient clipping and dropout probability. Document the performance of different configurations on your final report. Use the Adam optimizer and the cross-entropy loss function. You should also utilize GloVe pre-trained word embeddings as the embeddings of the inputs of your models.\n"
      ],
      "metadata": {
        "id": "Agcyt24KRIyH"
      }
    },
    {
      "cell_type": "markdown",
      "source": [
        "###1.Import necessary libraries for the project"
      ],
      "metadata": {
        "id": "dfa2AwsdR6TQ"
      }
    },
    {
      "cell_type": "code",
      "execution_count": 1,
      "metadata": {
        "id": "oxhJ_ZBrNmLx",
        "colab": {
          "base_uri": "https://localhost:8080/"
        },
        "outputId": "44cf1078-4936-47a0-abd0-e22ab8127c51"
      },
      "outputs": [
        {
          "output_type": "stream",
          "name": "stdout",
          "text": [
            "[nltk_data] Downloading package brown to /root/nltk_data...\n",
            "[nltk_data]   Unzipping corpora/brown.zip.\n",
            "[nltk_data] Downloading package punkt to /root/nltk_data...\n",
            "[nltk_data]   Unzipping tokenizers/punkt.zip.\n",
            "[nltk_data] Downloading package wordnet to /root/nltk_data...\n",
            "[nltk_data]   Unzipping corpora/wordnet.zip.\n",
            "[nltk_data] Downloading package averaged_perceptron_tagger to\n",
            "[nltk_data]     /root/nltk_data...\n",
            "[nltk_data]   Unzipping taggers/averaged_perceptron_tagger.zip.\n",
            "[nltk_data] Downloading package conll2000 to /root/nltk_data...\n",
            "[nltk_data]   Unzipping corpora/conll2000.zip.\n",
            "[nltk_data] Downloading package movie_reviews to /root/nltk_data...\n",
            "[nltk_data] Error downloading 'movie_reviews' from\n",
            "[nltk_data]     <https://raw.githubusercontent.com/nltk/nltk_data/gh-\n",
            "[nltk_data]     pages/packages/corpora/movie_reviews.zip>:   HTTP\n",
            "[nltk_data]     Error 500: Internal Server Error\n",
            "Finished.\n",
            "[nltk_data] Downloading package stopwords to /root/nltk_data...\n",
            "[nltk_data]   Unzipping corpora/stopwords.zip.\n"
          ]
        }
      ],
      "source": [
        "!python -m textblob.download_corpora\n",
        "# Metrics\n",
        "from sklearn.metrics import accuracy_score\n",
        "from sklearn.metrics import classification_report,confusion_matrix\n",
        "from sklearn.metrics import precision_recall_fscore_support \n",
        "from sklearn.metrics import precision_score\n",
        "from sklearn.metrics import roc_curve\n",
        "from sklearn.metrics import roc_auc_score\n",
        "# Best parameters during classification\n",
        "from sklearn.model_selection import GridSearchCV\n",
        "# Data preprocessing\n",
        "from sklearn.model_selection import train_test_split\n",
        "# Validation of the model\n",
        "from sklearn.model_selection import KFold\n",
        "from sklearn.model_selection import cross_val_score\n",
        "from sklearn.model_selection import cross_validate\n",
        "import torchtext\n",
        "from torchtext.legacy import data\n",
        "# For NN models\n",
        "import torch.nn as nn\n",
        "import torch\n",
        "# For data vizualization \n",
        "import matplotlib as mpl\n",
        "import matplotlib.pyplot as plt\n",
        "# For large and multi-dimensional arrays\n",
        "import numpy as np\n",
        "# For basic cleaning and data preprocessing \n",
        "import re\n",
        "# For data manipulation and analysis\n",
        "import pandas as pd\n",
        "# Stop words\n",
        "import nltk \n",
        "nltk.download('stopwords')  \n",
        "#Data Preprocessing and Feature Engineering\n",
        "from textblob import TextBlob\n",
        "import scipy\n",
        "from nltk.corpus import stopwords\n",
        "from nltk.stem.wordnet import WordNetLemmatizer\n",
        "# Necessary for data format\n",
        "from sklearn.feature_extraction.text import CountVectorizer\n",
        "# Word embedings\n",
        "from sklearn.feature_extraction.text import TfidfVectorizer  \n",
        "# Machine learning model\n",
        "from sklearn.linear_model import LogisticRegression"
      ]
    },
    {
      "cell_type": "markdown",
      "source": [
        "###2.Load train and validations datasets"
      ],
      "metadata": {
        "id": "-_zyLARYSK01"
      }
    },
    {
      "cell_type": "code",
      "execution_count": 2,
      "metadata": {
        "id": "4dDOdHugNvAn",
        "colab": {
          "base_uri": "https://localhost:8080/"
        },
        "outputId": "82e87209-efa3-46b2-edb6-34ca3c71f582"
      },
      "outputs": [
        {
          "output_type": "stream",
          "name": "stdout",
          "text": [
            "Mounted at /content/drive\n"
          ]
        }
      ],
      "source": [
        "from google.colab import drive\n",
        "drive.mount('/content/drive')"
      ]
    },
    {
      "cell_type": "code",
      "execution_count": 3,
      "metadata": {
        "id": "lo22j-vaN_u6",
        "colab": {
          "base_uri": "https://localhost:8080/"
        },
        "outputId": "7eadc1b3-bdd0-4782-8b2a-d9c7ca5b435b"
      },
      "outputs": [
        {
          "output_type": "stream",
          "name": "stdout",
          "text": [
            "<class 'pandas.core.frame.DataFrame'>\n",
            "RangeIndex: 13579 entries, 0 to 13578\n",
            "Data columns (total 2 columns):\n",
            " #   Column  Non-Null Count  Dtype \n",
            "---  ------  --------------  ----- \n",
            " 0   tweet   13579 non-null  object\n",
            " 1   label   13579 non-null  int64 \n",
            "dtypes: int64(1), object(1)\n",
            "memory usage: 212.3+ KB\n"
          ]
        }
      ],
      "source": [
        "df_train = pd.read_csv(\"/content/drive/My Drive/torchtext_data/train.csv\")\n",
        "df_train.info()"
      ]
    },
    {
      "cell_type": "code",
      "execution_count": 4,
      "metadata": {
        "id": "DFgy8QxROBfz",
        "colab": {
          "base_uri": "https://localhost:8080/"
        },
        "outputId": "d7e3cdfd-d588-4a0d-b51b-1595666e6f4b"
      },
      "outputs": [
        {
          "output_type": "stream",
          "name": "stdout",
          "text": [
            "<class 'pandas.core.frame.DataFrame'>\n",
            "RangeIndex: 2282 entries, 0 to 2281\n",
            "Data columns (total 2 columns):\n",
            " #   Column  Non-Null Count  Dtype \n",
            "---  ------  --------------  ----- \n",
            " 0   tweet   2282 non-null   object\n",
            " 1   label   2282 non-null   int64 \n",
            "dtypes: int64(1), object(1)\n",
            "memory usage: 35.8+ KB\n"
          ]
        }
      ],
      "source": [
        "df_valid = pd.read_csv(\"/content/drive/My Drive/torchtext_data/valid.csv\")\n",
        "df_valid.info()"
      ]
    },
    {
      "cell_type": "code",
      "execution_count": 5,
      "metadata": {
        "id": "y3tOJvkcRC1v",
        "colab": {
          "base_uri": "https://localhost:8080/"
        },
        "outputId": "75cbf490-cc75-4f37-fc91-f52bef4f0329"
      },
      "outputs": [
        {
          "output_type": "stream",
          "name": "stdout",
          "text": [
            "<class 'pandas.core.frame.DataFrame'>\n",
            "RangeIndex: 2397 entries, 0 to 2396\n",
            "Data columns (total 2 columns):\n",
            " #   Column  Non-Null Count  Dtype \n",
            "---  ------  --------------  ----- \n",
            " 0   tweet   2397 non-null   object\n",
            " 1   label   2397 non-null   int64 \n",
            "dtypes: int64(1), object(1)\n",
            "memory usage: 37.6+ KB\n"
          ]
        }
      ],
      "source": [
        "df_test = pd.read_csv(\"/content/drive/My Drive/torchtext_data/test.csv\")\n",
        "df_test.info()"
      ]
    },
    {
      "cell_type": "markdown",
      "source": [
        "###3.Set the seed, define the Fields and get the train/test/validation splits."
      ],
      "metadata": {
        "id": "2kdwBFqzW3rm"
      }
    },
    {
      "cell_type": "markdown",
      "source": [
        "We'll be using packed padded sequences.In this way, RNN will only process the not padded elements of our sequence, and for any padded element we will have zero tensor for the output value. In order to use packed padded sequences in our RNN, we have to define how long the actual sequences are.By setting include_lengths = True for  TWEET field. Then batch.tweet will be a tuple with the first element being a text (a converted numerical tensor that has been padded) and the second element being the actual lengths of our tweets."
      ],
      "metadata": {
        "id": "CRZMt5NFUChH"
      }
    },
    {
      "cell_type": "code",
      "execution_count": 6,
      "metadata": {
        "id": "HvmYphabOnSj"
      },
      "outputs": [],
      "source": [
        "import random\n",
        "SEED = 42\n",
        "random.seed(SEED)\n",
        "torch.manual_seed(SEED)\n",
        "np.random.seed(SEED)\n",
        "torch.backends.cudnn.deterministic = True\n",
        "\n",
        "device = torch.device('cuda' if torch.cuda.is_available() else 'cpu')"
      ]
    },
    {
      "cell_type": "code",
      "execution_count": 7,
      "metadata": {
        "id": "vXNU0UcrONI9"
      },
      "outputs": [],
      "source": [
        "TWEET = data.Field(tokenize = 'spacy', include_lengths=True)\n",
        "\n",
        "LABEL = data.LabelField(dtype = torch.long)\n",
        "\n",
        "# define which fiels we are going to process\n",
        "train_val_fields = [('tweet', TWEET),('label', LABEL)] # process it as tweet,label\n"
      ]
    },
    {
      "cell_type": "code",
      "execution_count": 8,
      "metadata": {
        "id": "tBJZJuk-PvFO"
      },
      "outputs": [],
      "source": [
        "class DataFrameDataset(data.Dataset):\n",
        "\n",
        "    def __init__(self, df, fields, is_test=False):\n",
        "        examples = []\n",
        "        # iterate all the rows in order to create the dataset dict\n",
        "        for _, row in df.iterrows():\n",
        "            label = row.label \n",
        "            tweet = row.tweet\n",
        "            examples.append(data.Example.fromlist([tweet, label], fields))\n",
        "\n",
        "        super().__init__(examples, fields)\n",
        "\n",
        "    # class method in order to return the dataset in an apropriate from\n",
        "    @classmethod\n",
        "    def splits(cls, fields, train_df, test_df=None,valid_df=None):\n",
        "        train_data, test_data,valid_data = (None, None,None)\n",
        "\n",
        "        train_data = cls(train_df.copy(), fields)\n",
        "        test_data = cls(test_df.copy(), fields, True)\n",
        "        valid_data = cls(valid_df.copy(), fields, True)\n",
        "\n",
        "        return tuple(d for d in (train_data, test_data,valid_data))"
      ]
    },
    {
      "cell_type": "code",
      "execution_count": 9,
      "metadata": {
        "id": "JnsBvGj4Px7q"
      },
      "outputs": [],
      "source": [
        "train_df, test_df , valid_df = DataFrameDataset.splits(train_val_fields, train_df=df_train, test_df=df_test,valid_df=df_valid)"
      ]
    },
    {
      "cell_type": "code",
      "execution_count": 10,
      "metadata": {
        "id": "O56pUx5gRe41",
        "colab": {
          "base_uri": "https://localhost:8080/"
        },
        "outputId": "3366ee5a-4497-4ceb-9d96-004796ea92f1"
      },
      "outputs": [
        {
          "output_type": "stream",
          "name": "stdout",
          "text": [
            "TRAINING: \t 13579\n",
            "TESTING: \t 2397\n",
            "VALIDATION: \t 2282\n"
          ]
        }
      ],
      "source": [
        "print(f\"TRAINING: \\t {len(train_df)}\")\n",
        "print(f\"TESTING: \\t {len(test_df)}\")\n",
        "print(f\"VALIDATION: \\t {len(valid_df)}\")"
      ]
    },
    {
      "cell_type": "code",
      "execution_count": 11,
      "metadata": {
        "id": "5ksw5RseRkmk",
        "colab": {
          "base_uri": "https://localhost:8080/"
        },
        "outputId": "dde8b0c5-ae49-4b4c-f12d-b510e8b4ac5f"
      },
      "outputs": [
        {
          "output_type": "stream",
          "name": "stdout",
          "text": [
            "{'tweet': ['learn', 'about', 'smallpox', 'in', 'class', 'and', 'the', 'picture', 'of', 'these', 'poor', 'baby', 'be', 'break', 'my', 'heart', 'vaccines', 'be', 'not', 'the', 'enemy', 'protect', 'your', 'kid'], 'label': 2}\n"
          ]
        }
      ],
      "source": [
        "print(vars(train_df[1]))"
      ]
    },
    {
      "cell_type": "markdown",
      "source": [
        "###4.Load glove vectors , build our vocabulary and create the dataset iterators\n",
        "Instead of having our word embeddings initialized randomly, initialize them with these pre-trained vectors.\n",
        "\n",
        "Becaause we want to initialize to zero not only words in our vocabulary but also pretrained embeddings , we set unk_init = torch.Tensor.normal_. They will get parametrized via a Gaussian distribution."
      ],
      "metadata": {
        "id": "9--DlzzGXNN7"
      }
    },
    {
      "cell_type": "code",
      "execution_count": 12,
      "metadata": {
        "id": "y2xSML3yRrx8",
        "colab": {
          "base_uri": "https://localhost:8080/"
        },
        "outputId": "35921d70-7f79-4a37-96bf-ddec7bfa1613"
      },
      "outputs": [
        {
          "output_type": "stream",
          "name": "stderr",
          "text": [
            ".vector_cache/glove.6B.zip: 862MB [02:40, 5.37MB/s]                           \n",
            "100%|█████████▉| 399999/400000 [00:21<00:00, 18918.68it/s]\n"
          ]
        }
      ],
      "source": [
        "MAX_VOCAB_SIZE = 25_000\n",
        "TWEET.build_vocab(\n",
        "    train_df,\n",
        "    max_size = MAX_VOCAB_SIZE,\n",
        "    vectors= \"glove.6B.100d\",\n",
        "    unk_init = torch.Tensor.normal_\n",
        ")\n",
        "LABEL.build_vocab(train_df)"
      ]
    },
    {
      "cell_type": "code",
      "execution_count": 13,
      "metadata": {
        "id": "dgAMA28rSaqH",
        "colab": {
          "base_uri": "https://localhost:8080/"
        },
        "outputId": "fe1951b0-a21b-4927-b292-32fecb934ce0"
      },
      "outputs": [
        {
          "output_type": "execute_result",
          "data": {
            "text/plain": [
              "defaultdict(None, {0: 0, 1: 2, 2: 1})"
            ]
          },
          "metadata": {},
          "execution_count": 13
        }
      ],
      "source": [
        "LABEL.vocab.stoi"
      ]
    },
    {
      "cell_type": "code",
      "execution_count": 14,
      "metadata": {
        "id": "hNr6bBbqSxbe"
      },
      "outputs": [],
      "source": [
        "BATCH_SIZE = 64\n",
        "\n",
        "train_iterator, validation_iterator, test_iterator = data.BucketIterator.splits(\n",
        "    (train_df, valid_df, test_df),\n",
        "    batch_size = BATCH_SIZE,\n",
        "    device = device,sort_within_batch=True,\n",
        "    sort_key = lambda x: len(x.tweet)\n",
        ")"
      ]
    },
    {
      "cell_type": "markdown",
      "source": [
        "##5.Create bidirectional Recurrent Neural Network stacked with LSTM cell \n",
        "### Structure\n",
        "\n",
        "By usinng LSTM RNN instead of standard RNN we are getting rid of [vanishing gradient problem](https://en.wikipedia.org/wiki/Vanishing_gradient_problem).\n",
        "LSTM  solve this by having an extra recurrent state called a cell,c( the \"memory\" of the LSTM ) and it multiple gates which control the flow of information in and out of the memory.\n",
        "### Bidirectional\n",
        "\n",
        "The concept of bidirectional RNN is that we are having an RNN processing the words in the sentence from the first to the last (forward) and a second RNN processing(backward the words in the tweet.We make our prediction using a concatenation of the last hidden state from the forward RNN (obtained from final word of the sentence), and the last hidden state from the backward RNN (gained from the first word of the sentence).\n",
        "### Multi-layer(Stacked)\n",
        "The idea is that we have additional RNNs on top of the initial standard RNN. The hidden state output by the downside RNN at time-step  t  will be the input to the RNN upperside one . The prediction is then made from the final hidden state of the final top layer.\n",
        "### Rugularization\n",
        "\n",
        "As we know from theory, the more parameters you have inside your model, the higher the probability that  model will overfit (low training error but high validation/testing error,ex. bad for new examples).To face that, we use a method of regularization called dropout. Dropout works by randomly dropping out (set as 0) neurons in a layer during a forward pass. \n",
        "\n",
        "### Details\n",
        "The index of our token will be passed to the embeded layer in order to specify to the model that padding token wont determine the sentiment.\n",
        "\n",
        "The size of the input  layer is the double the size of the hidden layer because we include forward and backward structure.\n",
        "\n",
        "Dropout was created by setting a dropout layer(probability of dropping neurons),\n",
        "within the forward method after each layer we want to apply dropout to.\n",
        "\n",
        "We are passing the lengths of our sentences to be able to use packed padded sequences for our tweets.We then unpack the output sequence to transform it from a packed sequence to a tensor(with pack.padded.sequence).\n",
        "\n",
        "Because want the upper layer with forward and backward hidden states, we get the top two hidden layers from the first dimension and then weconcatenate them to a tensor in order to return it from the forward method."
      ],
      "metadata": {
        "id": "yGvRd6PPYI7m"
      }
    },
    {
      "cell_type": "code",
      "execution_count": 15,
      "metadata": {
        "id": "o9BGqj5eS5no"
      },
      "outputs": [],
      "source": [
        "class RNNLSTM(nn.Module):\n",
        "  def __init__(self, voc_size, embed_dim, hidden_dim, out_dim, n_layers, \n",
        "                bidir, dropout, pad_idx):\n",
        "    super(RNNLSTM, self).__init__()\n",
        "\n",
        "    self.embeds = nn.Embedding(voc_size, embedding_dim=embed_dim, padding_idx=pad_idx)\n",
        "    self.lstm = nn.LSTM(embed_dim, hidden_size=hidden_dim, \n",
        "                        bidirectional=bidir, dropout=dropout,\n",
        "                        num_layers=n_layers)\n",
        "    self.fc = nn.Linear(2 * hidden_dim, out_dim)\n",
        "    self.dropout = nn.Dropout(dropout)\n",
        "\n",
        "  def forward(self, txt, txt_lengths):\n",
        "    \n",
        "    embeddedsq = self.dropout(self.embeds(txt))\n",
        "    \n",
        "    packed_embeds = nn.utils.rnn.pack_padded_sequence(embeddedsq, txt_lengths.to('cpu'), enforce_sorted=False)\n",
        "    packed_out, (a,b) = self.lstm(packed_embeds)\n",
        "    \n",
        "    out, out_lengths = nn.utils.rnn.pad_packed_sequence(packed_out)\n",
        "    a = self.dropout(torch.cat((a[-2,:,:], a[-1,:,:]), dim = 1))        \n",
        "        \n",
        "    return self.fc(a)"
      ]
    },
    {
      "cell_type": "code",
      "execution_count": 16,
      "metadata": {
        "id": "5YbVOT06S3Rh"
      },
      "outputs": [],
      "source": [
        "import torch.nn as nn\n",
        "from torch.nn import  functional as F"
      ]
    },
    {
      "cell_type": "code",
      "execution_count": 17,
      "metadata": {
        "id": "KXcAc8h5S78h",
        "colab": {
          "base_uri": "https://localhost:8080/"
        },
        "outputId": "f1560775-f020-4065-ef94-7f9305a4a999"
      },
      "outputs": [
        {
          "output_type": "execute_result",
          "data": {
            "text/plain": [
              "RNNLSTM(\n",
              "  (embeds): Embedding(21668, 100, padding_idx=1)\n",
              "  (lstm): LSTM(100, 256, num_layers=2, dropout=0.5, bidirectional=True)\n",
              "  (fc): Linear(in_features=512, out_features=3, bias=True)\n",
              "  (dropout): Dropout(p=0.5, inplace=False)\n",
              ")"
            ]
          },
          "metadata": {},
          "execution_count": 17
        }
      ],
      "source": [
        "input_d = len(TWEET.vocab) # # 25002\n",
        "embedding_d = 100#same as dimension of glove vectors\n",
        "hidden_d = 256\n",
        "output_d = len(LABEL.vocab.stoi)\n",
        "layers_num = 2\n",
        "bidirectional = True\n",
        "dropout = 0.5\n",
        "padding = TWEET.vocab.stoi[TWEET.pad_token] # 0\n",
        "\n",
        "model = RNNLSTM(input_d, \n",
        "            embedding_d, \n",
        "            hidden_d, \n",
        "            output_d, \n",
        "            layers_num, \n",
        "            bidirectional, \n",
        "            dropout , \n",
        "            padding)\n",
        "model"
      ]
    },
    {
      "cell_type": "code",
      "execution_count": 18,
      "metadata": {
        "id": "zuAQWAVjS72_",
        "colab": {
          "base_uri": "https://localhost:8080/"
        },
        "outputId": "723fb3d4-f59f-4c31-bb14-245ba7355046"
      },
      "outputs": [
        {
          "output_type": "stream",
          "name": "stdout",
          "text": [
            "The model has  4,478,483 trainable parameters\n"
          ]
        }
      ],
      "source": [
        "def count_trainable_params(model):\n",
        "  return sum(p.numel() for p in model.parameters() if p.requires_grad)\n",
        "\n",
        "print(f'The model has  {count_trainable_params(model):,} trainable parameters')"
      ]
    },
    {
      "cell_type": "code",
      "execution_count": 19,
      "metadata": {
        "id": "FrDok0RgTC9S"
      },
      "outputs": [],
      "source": [
        "pretrained_embeddings = TWEET.vocab.vectors"
      ]
    },
    {
      "cell_type": "markdown",
      "source": [
        "We then replace the initial weights of the embedding layer with the pretrained embeddings"
      ],
      "metadata": {
        "id": "rHzt1yIWwrar"
      }
    },
    {
      "cell_type": "code",
      "execution_count": 20,
      "metadata": {
        "id": "oD4cVKl4TF05",
        "colab": {
          "base_uri": "https://localhost:8080/"
        },
        "outputId": "5e4362fa-22dc-43b7-d40e-1250acd5953e"
      },
      "outputs": [
        {
          "output_type": "execute_result",
          "data": {
            "text/plain": [
              "tensor([[ 1.9269,  1.4873,  0.9007,  ...,  0.1233,  0.3499,  0.6173],\n",
              "        [ 0.7262,  0.0912, -0.3891,  ...,  0.0821,  0.4440, -0.7240],\n",
              "        [-0.0382, -0.2449,  0.7281,  ..., -0.1459,  0.8278,  0.2706],\n",
              "        ...,\n",
              "        [-0.5005,  0.2531,  1.8303,  ...,  0.5205,  0.6098,  0.8963],\n",
              "        [-1.8683,  0.1008, -0.1267,  ...,  0.3982,  0.7209,  0.0699],\n",
              "        [ 0.1696,  1.4828, -1.0430,  ...,  2.0104,  0.0652, -0.7285]])"
            ]
          },
          "metadata": {},
          "execution_count": 20
        }
      ],
      "source": [
        "model.embeds.weight.data.copy_(pretrained_embeddings)"
      ]
    },
    {
      "cell_type": "markdown",
      "source": [
        "Unk and pad token are not responsible for producing the output.We should initialize them both to zero to explicitly define that to out model."
      ],
      "metadata": {
        "id": "4JQeAgYvw6QE"
      }
    },
    {
      "cell_type": "code",
      "execution_count": 21,
      "metadata": {
        "id": "FZYwIja0THfC",
        "colab": {
          "base_uri": "https://localhost:8080/"
        },
        "outputId": "e0a5f802-8b4a-4945-df2d-a515677f60c0"
      },
      "outputs": [
        {
          "output_type": "execute_result",
          "data": {
            "text/plain": [
              "tensor([[ 0.0000,  0.0000,  0.0000,  ...,  0.0000,  0.0000,  0.0000],\n",
              "        [ 0.0000,  0.0000,  0.0000,  ...,  0.0000,  0.0000,  0.0000],\n",
              "        [-0.0382, -0.2449,  0.7281,  ..., -0.1459,  0.8278,  0.2706],\n",
              "        ...,\n",
              "        [-0.5005,  0.2531,  1.8303,  ...,  0.5205,  0.6098,  0.8963],\n",
              "        [-1.8683,  0.1008, -0.1267,  ...,  0.3982,  0.7209,  0.0699],\n",
              "        [ 0.1696,  1.4828, -1.0430,  ...,  2.0104,  0.0652, -0.7285]])"
            ]
          },
          "metadata": {},
          "execution_count": 21
        }
      ],
      "source": [
        "for i in range(2):\n",
        "  model.embeds.weight.data[i] = torch.zeros(embedding_d)\n",
        "\n",
        "model.embeds.weight.data"
      ]
    },
    {
      "cell_type": "markdown",
      "source": [
        "Adam adapts the learning rate for each parameter, giving parameters that are updated more frequently lower learning rates and parameters that are updated infrequently higher learning rates."
      ],
      "metadata": {
        "id": "OX64blrIxh0h"
      }
    },
    {
      "cell_type": "code",
      "execution_count": 22,
      "metadata": {
        "id": "Bk-2RakATJtH"
      },
      "outputs": [],
      "source": [
        "optimizer = torch.optim.Adam(model.parameters())\n",
        "criterion = nn.CrossEntropyLoss()"
      ]
    },
    {
      "cell_type": "code",
      "execution_count": 23,
      "metadata": {
        "id": "4EnOv7H8TLE4"
      },
      "outputs": [],
      "source": [
        "model = model.to(device)\n",
        "criterion = criterion.to(device)"
      ]
    },
    {
      "cell_type": "markdown",
      "source": [
        "Calculate percentage of accuracy"
      ],
      "metadata": {
        "id": "VTwaYh_JyMeL"
      }
    },
    {
      "cell_type": "markdown",
      "source": [
        "We calculate the accuracy based on the sklearn library (precision,recall,f1)"
      ],
      "metadata": {
        "id": "0-Uqdtof2L2s"
      }
    },
    {
      "cell_type": "markdown",
      "source": [
        "Measure time"
      ],
      "metadata": {
        "id": "mBxu9FClyTKx"
      }
    },
    {
      "cell_type": "code",
      "execution_count": 24,
      "metadata": {
        "id": "wfPNmbGcTXGb"
      },
      "outputs": [],
      "source": [
        "import time\n",
        "def epoch_time(t1, t2):\n",
        "    time_el = t2 - start_time\n",
        "    minutes_el = int(time_el / 60)\n",
        "    sec_el = int(time_el - (minutes_el * 60))\n",
        "    return minutes_el, sec_el"
      ]
    },
    {
      "cell_type": "markdown",
      "source": [
        "Train and test with epochs"
      ],
      "metadata": {
        "id": "AFFn5NgayWSS"
      }
    },
    {
      "cell_type": "code",
      "source": [
        "def train(modelx, iterator, optimizer, criterion):\n",
        "    epoch_loss = 0\n",
        "    epoch_acc = 0\n",
        "    epoch_acc_f1 = 0\n",
        "    epoch_acc_rec = 0\n",
        "    epoch_acc_prec = 0\n",
        "    modelx.train()\n",
        "    for batch in iterator:\n",
        "        optimizer.zero_grad()\n",
        "        tweet, tweet_lengths = batch.tweet\n",
        "        #target = torch.autograd.Variable(target).long()\n",
        "        #print(tweet)\n",
        "        predictions = modelx(tweet, tweet_lengths).squeeze(-1)\n",
        "        #print(predictions)\n",
        "        loss = criterion(predictions, batch.label)\n",
        "        predictions = torch.argmax(predictions,dim=1).cpu()  \n",
        "        var = batch.label.cpu()\n",
        "        acc = precision_recall_fscore_support( predictions,var, average='weighted',warn_for=tuple())\n",
        "        loss.backward()\n",
        "        # Clip params\n",
        "        for param in modelx.parameters():\n",
        "            if param.grad is None:\n",
        "                continue\n",
        "            grad_val = torch.clamp(param.grad, -5, 5)\n",
        "        optimizer.step()\n",
        "        epoch_loss += loss.item()\n",
        "        epoch_acc_prec += acc[0]\n",
        "        epoch_acc_rec += acc[1]\n",
        "        epoch_acc_f1 += acc[2]\n",
        "\n",
        "    return epoch_loss / len(iterator), epoch_acc_prec / len(iterator),epoch_acc_rec / len(iterator),epoch_acc_f1 / len(iterator)\n",
        "\n",
        "def evaluate(modelx, iterator, criterion):\n",
        "    epoch_loss = 0\n",
        "    epoch_acc_f1 = 0\n",
        "    epoch_acc_rec = 0\n",
        "    epoch_acc_prec = 0\n",
        "    modelx.eval()\n",
        "    with torch.no_grad():\n",
        "        for batch in iterator:\n",
        "            tweet, tweet_lengths = batch.tweet\n",
        "            predictions = modelx(tweet, tweet_lengths).squeeze(-1)\n",
        "            loss = criterion(predictions, batch.label)\n",
        "            predictions = torch.argmax(predictions,dim=1).cpu()  \n",
        "            var = batch.label.cpu()\n",
        "            acc = precision_recall_fscore_support( predictions, var, average='weighted',warn_for=tuple())\n",
        "            epoch_loss += loss.item()\n",
        "            epoch_acc_prec += acc[0]\n",
        "            epoch_acc_rec += acc[1]\n",
        "            epoch_acc_f1 += acc[2]\n",
        "\n",
        "    return epoch_loss / len(iterator), epoch_acc_prec / len(iterator),epoch_acc_rec / len(iterator),epoch_acc_f1 / len(iterator)\n"
      ],
      "metadata": {
        "id": "JPrJdSGilMtR"
      },
      "execution_count": 25,
      "outputs": []
    },
    {
      "cell_type": "code",
      "execution_count": 26,
      "metadata": {
        "id": "-Z2wrwgFTfTg",
        "colab": {
          "base_uri": "https://localhost:8080/"
        },
        "outputId": "a0fc60b1-c95f-40c9-8faf-10ac19a35cb6"
      },
      "outputs": [
        {
          "output_type": "stream",
          "name": "stdout",
          "text": [
            "Epoch: 01 | Epoch Time: 0m 9s\n",
            "\tTrain Loss: 0.897 | Train Precision: 73.80  | Train Recall: 73.80  | Train F1: 62.13%\n",
            "\t Val. Loss: 0.783 |  Val. Precision: 80.38  | Val. Recall: 80.38  | Val.  F1: 68.73%\n",
            "Epoch: 02 | Epoch Time: 0m 8s\n",
            "\tTrain Loss: 0.772 | Train Precision: 73.56  | Train Recall: 73.56  | Train F1: 67.67%\n",
            "\t Val. Loss: 0.713 |  Val. Precision: 76.83  | Val. Recall: 76.83  | Val.  F1: 71.27%\n",
            "Epoch: 03 | Epoch Time: 0m 8s\n",
            "\tTrain Loss: 0.705 | Train Precision: 74.56  | Train Recall: 74.56  | Train F1: 70.46%\n",
            "\t Val. Loss: 0.663 |  Val. Precision: 74.04  | Val. Recall: 74.04  | Val.  F1: 71.35%\n",
            "Epoch: 04 | Epoch Time: 0m 8s\n",
            "\tTrain Loss: 0.649 | Train Precision: 76.15  | Train Recall: 76.15  | Train F1: 73.13%\n",
            "\t Val. Loss: 0.643 |  Val. Precision: 74.17  | Val. Recall: 74.17  | Val.  F1: 72.50%\n",
            "Epoch: 05 | Epoch Time: 0m 8s\n",
            "\tTrain Loss: 0.606 | Train Precision: 77.11  | Train Recall: 77.11  | Train F1: 74.87%\n",
            "\t Val. Loss: 0.630 |  Val. Precision: 75.69  | Val. Recall: 75.69  | Val.  F1: 72.99%\n",
            "Epoch: 06 | Epoch Time: 0m 8s\n",
            "\tTrain Loss: 0.558 | Train Precision: 79.29  | Train Recall: 79.29  | Train F1: 77.35%\n",
            "\t Val. Loss: 0.646 |  Val. Precision: 76.59  | Val. Recall: 76.59  | Val.  F1: 73.59%\n",
            "Epoch: 07 | Epoch Time: 0m 8s\n",
            "\tTrain Loss: 0.519 | Train Precision: 81.08  | Train Recall: 81.08  | Train F1: 79.09%\n",
            "\t Val. Loss: 0.639 |  Val. Precision: 78.63  | Val. Recall: 78.63  | Val.  F1: 74.55%\n",
            "Epoch: 08 | Epoch Time: 0m 8s\n",
            "\tTrain Loss: 0.479 | Train Precision: 82.65  | Train Recall: 82.65  | Train F1: 81.04%\n",
            "\t Val. Loss: 0.643 |  Val. Precision: 77.72  | Val. Recall: 77.72  | Val.  F1: 74.44%\n"
          ]
        }
      ],
      "source": [
        "\n",
        "N_EPOCHS = 8\n",
        "best_valid_loss = float('inf')\n",
        "losslist = []\n",
        "losslist2 = []\n",
        "train_epoch_acc_f1 = 0\n",
        "train_epoch_acc_rec = 0\n",
        "train_epoch_acc_prec = 0\n",
        "valid_epoch_acc_f1 = 0\n",
        "valid_epoch_acc_rec = 0\n",
        "valid_epoch_acc_prec = 0\n",
        "for epoch in range(N_EPOCHS):\n",
        "    start_time = time.time()\n",
        "    train_loss, train_epoch_acc_prec ,train_epoch_acc_rec ,train_epoch_acc_f1  = train(model, train_iterator, optimizer, criterion)\n",
        "    valid_loss, valid_epoch_acc_prec ,valid_epoch_acc_rec ,valid_epoch_acc_f1  = evaluate(model, validation_iterator, criterion)\n",
        "    end_time = time.time()\n",
        "    epoch_mins, epoch_secs = epoch_time(start_time, end_time)\n",
        "    losslist.append(train_loss)\n",
        "    losslist2.append(valid_loss)\n",
        "    if valid_loss < best_valid_loss:\n",
        "      best_valid_loss = valid_loss\n",
        "      torch.save(model.state_dict(), 'best-model1.pt')\n",
        "    print(f'Epoch: {epoch+1:02} | Epoch Time: {epoch_mins}m {epoch_secs}s')\n",
        "    print(f'\\tTrain Loss: {train_loss:.3f} | Train Precision: {train_epoch_acc_prec*100:.2f}  | Train Recall: {train_epoch_acc_prec*100:.2f}  | Train F1: {train_epoch_acc_f1*100:.2f}%')\n",
        "    print(f'\\t Val. Loss: {valid_loss:.3f} |  Val. Precision: {valid_epoch_acc_prec*100:.2f}  | Val. Recall: {valid_epoch_acc_prec*100:.2f}  | Val.  F1: {valid_epoch_acc_f1*100:.2f}%')"
      ]
    },
    {
      "cell_type": "code",
      "source": [
        "plt.plot(losslist2)\n",
        "plt.xlabel(\"Epochs\", fontsize=15)\n",
        "plt.ylabel(\"Cross Entropy Loss\", fontsize=15)\n",
        "plt.show()"
      ],
      "metadata": {
        "id": "yln6jEdHF5jX",
        "colab": {
          "base_uri": "https://localhost:8080/",
          "height": 284
        },
        "outputId": "99466d71-c8df-41e3-ede1-26adbd3f42b0"
      },
      "execution_count": 27,
      "outputs": [
        {
          "output_type": "display_data",
          "data": {
            "image/png": "[encoded data removed]",
            "text/plain": [
              "<Figure size 432x288 with 1 Axes>"
            ]
          },
          "metadata": {
            "needs_background": "light"
          }
        }
      ]
    },
    {
      "cell_type": "markdown",
      "source": [
        "Improved accuracy on testing set"
      ],
      "metadata": {
        "id": "XCx80u6Zye1G"
      }
    },
    {
      "cell_type": "code",
      "execution_count": 28,
      "metadata": {
        "id": "TrHIb11nejFV",
        "colab": {
          "base_uri": "https://localhost:8080/"
        },
        "outputId": "30124f14-e3d0-4700-9ea4-7b50b33698ed"
      },
      "outputs": [
        {
          "output_type": "stream",
          "name": "stdout",
          "text": [
            "Test Loss: 0.641 |  Val. Precision: 75.29  | Val. Recall: 75.29  | Val.  F1: 73.00%\n"
          ]
        }
      ],
      "source": [
        "model.load_state_dict(torch.load('best-model1.pt'))\n",
        "\n",
        "test_epoch_acc_f1 = 0\n",
        "test_epoch_acc_rec = 0\n",
        "test_epoch_acc_prec = 0\n",
        "test_loss, test_epoch_acc_prec,test_epoch_acc_rec,test_epoch_acc_f1 = evaluate(model, test_iterator, criterion)\n",
        "\n",
        "print(f'Test Loss: {test_loss:.3f} |  Val. Precision: {test_epoch_acc_prec*100:.2f}  | Val. Recall: {test_epoch_acc_prec*100:.2f}  | Val.  F1: {test_epoch_acc_f1*100:.2f}%')"
      ]
    },
    {
      "cell_type": "markdown",
      "source": [
        "GRU is impemented in a similar way, but this time pack_padded_sequence is not returning cells."
      ],
      "metadata": {
        "id": "Jp9vvoi2ymt8"
      }
    },
    {
      "cell_type": "code",
      "source": [
        "class RNNGRU(nn.Module):\n",
        "  def __init__(self, voc_size, embed_dim, hidden_dim, out_dim, n_layers, \n",
        "                bidir, dropout, pad_idx):\n",
        "    super(RNNGRU, self).__init__()\n",
        "\n",
        "    self.embeds = nn.Embedding(voc_size, embedding_dim=embed_dim, padding_idx=pad_idx)\n",
        "    self.gru = nn.GRU(embed_dim, hidden_size=hidden_dim, \n",
        "                        bidirectional=bidir, dropout=dropout,\n",
        "                        num_layers=n_layers)\n",
        "    self.fc = nn.Linear(2 * hidden_dim, out_dim)\n",
        "    self.dropout = nn.Dropout(dropout)\n",
        "\n",
        "  def forward(self, txt, txt_lengths):\n",
        "   \n",
        "    embeddedsq = self.dropout(self.embeds(txt))\n",
        "    \n",
        "    packed_embeds = nn.utils.rnn.pack_padded_sequence(embeddedsq, txt_lengths.to('cpu'), enforce_sorted=False)\n",
        "    packed_out, a = self.gru(packed_embeds)\n",
        "    \n",
        "    #unpack sequence\n",
        "    out, out_lengths = nn.utils.rnn.pad_packed_sequence(packed_out)\n",
        "    a = self.dropout(torch.cat((a[-2,:,:], a[-1,:,:]), dim = 1))        \n",
        "       \n",
        "    return self.fc(a)"
      ],
      "metadata": {
        "id": "y3xQADA2tA-3"
      },
      "execution_count": 29,
      "outputs": []
    },
    {
      "cell_type": "code",
      "source": [
        "input_d = len(TWEET.vocab) # # 25002\n",
        "embedding_d = 100#same as dimension of glove vectors\n",
        "hidden_d = 256\n",
        "output_d = len(LABEL.vocab.stoi)\n",
        "layers_num = 2\n",
        "bidirectional = True\n",
        "dropout = 0.5\n",
        "padding = TWEET.vocab.stoi[TWEET.pad_token] # 0\n",
        "\n",
        "model2 = RNNGRU(input_d, \n",
        "            embedding_d, \n",
        "            hidden_d, \n",
        "            output_d, \n",
        "            layers_num, \n",
        "            bidirectional, \n",
        "            dropout , \n",
        "            padding)\n",
        "model2"
      ],
      "metadata": {
        "id": "tfWmrUpcumgz",
        "colab": {
          "base_uri": "https://localhost:8080/"
        },
        "outputId": "4bdc3b52-de06-4607-c7a7-b98620a2ce93"
      },
      "execution_count": 30,
      "outputs": [
        {
          "output_type": "execute_result",
          "data": {
            "text/plain": [
              "RNNGRU(\n",
              "  (embeds): Embedding(21668, 100, padding_idx=1)\n",
              "  (gru): GRU(100, 256, num_layers=2, dropout=0.5, bidirectional=True)\n",
              "  (fc): Linear(in_features=512, out_features=3, bias=True)\n",
              "  (dropout): Dropout(p=0.5, inplace=False)\n",
              ")"
            ]
          },
          "metadata": {},
          "execution_count": 30
        }
      ]
    },
    {
      "cell_type": "code",
      "source": [
        "def count_trainable_params(model):\n",
        "  return sum(p.numel() for p in model2.parameters() if p.requires_grad)\n",
        "\n",
        "print(f'The model has  {count_trainable_params(model2):,} trainable parameters')"
      ],
      "metadata": {
        "id": "PkFJlPdBG-Dd",
        "colab": {
          "base_uri": "https://localhost:8080/"
        },
        "outputId": "93a4501f-a99e-437e-9d65-7617bfa32ecc"
      },
      "execution_count": 31,
      "outputs": [
        {
          "output_type": "stream",
          "name": "stdout",
          "text": [
            "The model has  3,900,947 trainable parameters\n"
          ]
        }
      ]
    },
    {
      "cell_type": "code",
      "source": [
        "model2.embeds.weight.data.copy_(pretrained_embeddings)"
      ],
      "metadata": {
        "id": "AfotcRVaHGw0",
        "colab": {
          "base_uri": "https://localhost:8080/"
        },
        "outputId": "f93d26e9-f4bd-41e0-8696-609b2b52fc6e"
      },
      "execution_count": 32,
      "outputs": [
        {
          "output_type": "execute_result",
          "data": {
            "text/plain": [
              "tensor([[ 1.9269,  1.4873,  0.9007,  ...,  0.1233,  0.3499,  0.6173],\n",
              "        [ 0.7262,  0.0912, -0.3891,  ...,  0.0821,  0.4440, -0.7240],\n",
              "        [-0.0382, -0.2449,  0.7281,  ..., -0.1459,  0.8278,  0.2706],\n",
              "        ...,\n",
              "        [-0.5005,  0.2531,  1.8303,  ...,  0.5205,  0.6098,  0.8963],\n",
              "        [-1.8683,  0.1008, -0.1267,  ...,  0.3982,  0.7209,  0.0699],\n",
              "        [ 0.1696,  1.4828, -1.0430,  ...,  2.0104,  0.0652, -0.7285]])"
            ]
          },
          "metadata": {},
          "execution_count": 32
        }
      ]
    },
    {
      "cell_type": "code",
      "source": [
        "for i in range(2):\n",
        "  model2.embeds.weight.data[i] = torch.zeros(embedding_d)\n",
        "\n",
        "model2.embeds.weight.data"
      ],
      "metadata": {
        "id": "UcF6GmzyHO77",
        "colab": {
          "base_uri": "https://localhost:8080/"
        },
        "outputId": "70a1a35b-52c4-4181-e161-e4d726452fe9"
      },
      "execution_count": 33,
      "outputs": [
        {
          "output_type": "execute_result",
          "data": {
            "text/plain": [
              "tensor([[ 0.0000,  0.0000,  0.0000,  ...,  0.0000,  0.0000,  0.0000],\n",
              "        [ 0.0000,  0.0000,  0.0000,  ...,  0.0000,  0.0000,  0.0000],\n",
              "        [-0.0382, -0.2449,  0.7281,  ..., -0.1459,  0.8278,  0.2706],\n",
              "        ...,\n",
              "        [-0.5005,  0.2531,  1.8303,  ...,  0.5205,  0.6098,  0.8963],\n",
              "        [-1.8683,  0.1008, -0.1267,  ...,  0.3982,  0.7209,  0.0699],\n",
              "        [ 0.1696,  1.4828, -1.0430,  ...,  2.0104,  0.0652, -0.7285]])"
            ]
          },
          "metadata": {},
          "execution_count": 33
        }
      ]
    },
    {
      "cell_type": "code",
      "source": [
        "optimizer = torch.optim.Adam(model2.parameters())\n",
        "model2 = model2.to(device)\n",
        "criterion = criterion.to(device)"
      ],
      "metadata": {
        "id": "DrVfQ0GBz2zc"
      },
      "execution_count": 34,
      "outputs": []
    },
    {
      "cell_type": "code",
      "source": [
        "N_EPOCHS = 8\n",
        "best_valid_loss = float('inf')\n",
        "losslist3 = []\n",
        "losslist4 = []\n",
        "train_epoch_acc_f1 = 0\n",
        "train_epoch_acc_rec = 0\n",
        "train_epoch_acc_prec = 0\n",
        "valid_epoch_acc_f1 = 0\n",
        "valid_epoch_acc_rec = 0\n",
        "valid_epoch_acc_prec = 0\n",
        "for epoch in range(N_EPOCHS):\n",
        "    start_time = time.time()\n",
        "    train_loss, train_epoch_acc_prec ,train_epoch_acc_rec ,train_epoch_acc_f1  = train(model2, train_iterator, optimizer, criterion)\n",
        "    valid_loss, valid_epoch_acc_prec ,valid_epoch_acc_rec ,valid_epoch_acc_f1  = evaluate(model2, validation_iterator, criterion)\n",
        "    end_time = time.time()\n",
        "    epoch_mins, epoch_secs = epoch_time(start_time, end_time)\n",
        "    losslist3.append(train_loss)\n",
        "    losslist4.append(valid_loss)\n",
        "    if valid_loss < best_valid_loss:\n",
        "        best_valid_loss = valid_loss\n",
        "        torch.save(model2.state_dict(), 'best-model2.pt')\n",
        "    print(f'Epoch: {epoch+1:02} | Epoch Time: {epoch_mins}m {epoch_secs}s')\n",
        "    print(f'\\tTrain Loss: {train_loss:.3f} | Train Precision: {train_epoch_acc_prec*100:.2f}  | Train Recall: {train_epoch_acc_prec*100:.2f}  | Train F1: {train_epoch_acc_f1*100:.2f}%')\n",
        "    print(f'\\t Val. Loss: {valid_loss:.3f} |  Val. Precision: {valid_epoch_acc_prec*100:.2f}  | Val. Recall: {valid_epoch_acc_prec*100:.2f}  | Val.  F1: {valid_epoch_acc_f1*100:.2f}%')"
      ],
      "metadata": {
        "id": "32DeAq15-BTJ",
        "colab": {
          "base_uri": "https://localhost:8080/"
        },
        "outputId": "c709606d-1ab2-4166-cb84-d219093de71b"
      },
      "execution_count": 35,
      "outputs": [
        {
          "output_type": "stream",
          "name": "stdout",
          "text": [
            "Epoch: 01 | Epoch Time: 0m 8s\n",
            "\tTrain Loss: 0.895 | Train Precision: 69.73  | Train Recall: 69.73  | Train F1: 61.40%\n",
            "\t Val. Loss: 0.777 |  Val. Precision: 76.84  | Val. Recall: 76.84  | Val.  F1: 69.99%\n",
            "Epoch: 02 | Epoch Time: 0m 8s\n",
            "\tTrain Loss: 0.778 | Train Precision: 72.66  | Train Recall: 72.66  | Train F1: 67.45%\n",
            "\t Val. Loss: 0.728 |  Val. Precision: 74.60  | Val. Recall: 74.60  | Val.  F1: 69.06%\n",
            "Epoch: 03 | Epoch Time: 0m 7s\n",
            "\tTrain Loss: 0.715 | Train Precision: 74.22  | Train Recall: 74.22  | Train F1: 70.56%\n",
            "\t Val. Loss: 0.694 |  Val. Precision: 71.76  | Val. Recall: 71.76  | Val.  F1: 69.59%\n",
            "Epoch: 04 | Epoch Time: 0m 7s\n",
            "\tTrain Loss: 0.665 | Train Precision: 75.75  | Train Recall: 75.75  | Train F1: 72.78%\n",
            "\t Val. Loss: 0.683 |  Val. Precision: 77.01  | Val. Recall: 77.01  | Val.  F1: 71.57%\n",
            "Epoch: 05 | Epoch Time: 0m 7s\n",
            "\tTrain Loss: 0.610 | Train Precision: 77.77  | Train Recall: 77.77  | Train F1: 75.20%\n",
            "\t Val. Loss: 0.665 |  Val. Precision: 78.52  | Val. Recall: 78.52  | Val.  F1: 73.47%\n",
            "Epoch: 06 | Epoch Time: 0m 8s\n",
            "\tTrain Loss: 0.571 | Train Precision: 79.59  | Train Recall: 79.59  | Train F1: 77.25%\n",
            "\t Val. Loss: 0.662 |  Val. Precision: 74.06  | Val. Recall: 74.06  | Val.  F1: 72.52%\n",
            "Epoch: 07 | Epoch Time: 0m 8s\n",
            "\tTrain Loss: 0.521 | Train Precision: 81.22  | Train Recall: 81.22  | Train F1: 79.25%\n",
            "\t Val. Loss: 0.639 |  Val. Precision: 74.87  | Val. Recall: 74.87  | Val.  F1: 73.19%\n",
            "Epoch: 08 | Epoch Time: 0m 9s\n",
            "\tTrain Loss: 0.490 | Train Precision: 82.51  | Train Recall: 82.51  | Train F1: 80.94%\n",
            "\t Val. Loss: 0.659 |  Val. Precision: 75.29  | Val. Recall: 75.29  | Val.  F1: 73.24%\n"
          ]
        }
      ]
    },
    {
      "cell_type": "code",
      "source": [
        "model2.load_state_dict(torch.load('best-model2.pt'))\n",
        "\n",
        "test_epoch_acc_f1 = 0\n",
        "test_epoch_acc_rec = 0\n",
        "test_epoch_acc_prec = 0\n",
        "test_loss, test_epoch_acc_prec,test_epoch_acc_rec,test_epoch_acc_f1 = evaluate(model2, test_iterator, criterion)\n",
        "\n",
        "print(f'Test Loss: {test_loss:.3f} |  Val. Precision: {test_epoch_acc_prec*100:.2f}  | Val. Recall: {test_epoch_acc_prec*100:.2f}  | Val.  F1: {test_epoch_acc_f1*100:.2f}%')"
      ],
      "metadata": {
        "id": "4ye1dwLpzFV3",
        "colab": {
          "base_uri": "https://localhost:8080/"
        },
        "outputId": "c7108178-5f5c-4d4c-d27f-19e3d25885de"
      },
      "execution_count": 36,
      "outputs": [
        {
          "output_type": "stream",
          "name": "stdout",
          "text": [
            "Test Loss: 0.639 |  Val. Precision: 75.99  | Val. Recall: 75.99  | Val.  F1: 74.42%\n"
          ]
        }
      ]
    },
    {
      "cell_type": "code",
      "source": [
        "plt.plot(losslist4)\n",
        "plt.xlabel(\"Epochs\", fontsize=15)\n",
        "plt.ylabel(\"Cross Entropy Loss\", fontsize=15)\n",
        "plt.show()"
      ],
      "metadata": {
        "id": "1axiaunoARjk",
        "colab": {
          "base_uri": "https://localhost:8080/",
          "height": 284
        },
        "outputId": "a1fb782e-cf2e-4c76-ba1a-7408d96c20e0"
      },
      "execution_count": 37,
      "outputs": [
        {
          "output_type": "display_data",
          "data": {
            "image/png": "[encoded data removed]",
            "text/plain": [
              "<Figure size 432x288 with 1 Axes>"
            ]
          },
          "metadata": {
            "needs_background": "light"
          }
        }
      ]
    },
    {
      "cell_type": "markdown",
      "source": [
        "##Multiheaded Attention implementation"
      ],
      "metadata": {
        "id": "e-gGfw7vBtnD"
      }
    },
    {
      "cell_type": "markdown",
      "source": [
        "I created an additional layer for attention which I initialized the model with.I am dropping some neurons for each one layer as it imporves efficacy of the model.I pass the output of the model to the multiheaded attention in order to compute the output based on the specific weights that it produces.Num of heads must be divisable with hidden dim.I chosed multi headed attention because it does all of the difficult computations(with the masks etc.) on the background.\n",
        "I encountered problems with the returned output of the model because it was much greater than expected.I chosed the first value of the prediction because it was the most consistently produced value of the model.I did't change anything else from previous implementations.As you will see below, it improves accuracy of the model by almost 1-2%)."
      ],
      "metadata": {
        "id": "CbnEeo-ICNKB"
      }
    },
    {
      "cell_type": "code",
      "source": [
        "class RNNLSTMA(nn.Module):\n",
        "  def __init__(self, voc_size, embed_dim, hidden_dim, out_dim, n_layers, \n",
        "                bidir, dropout, pad_idx):\n",
        "    super(RNNLSTMA, self).__init__()\n",
        "\n",
        "    self.embeds = nn.Embedding(voc_size, embedding_dim=embed_dim, padding_idx=pad_idx)\n",
        "    self.lstma = nn.LSTM(embed_dim, hidden_size=hidden_dim, \n",
        "                        bidirectional=bidir, dropout=dropout,\n",
        "                        num_layers=n_layers)\n",
        "    self.mha = nn.MultiheadAttention(2*hidden_dim, num_heads = 8)\n",
        "    self.dropout = nn.Dropout(dropout)\n",
        "    self.fc = nn.Linear(2 * hidden_dim, out_dim) \n",
        "    self.dropout = nn.Dropout(dropout)\n",
        "\n",
        "  def forward(self, txt, txt_lengths):\n",
        "    embeddedsq = self.dropout(self.embeds(txt))\n",
        "    \n",
        "    packed_embeds = nn.utils.rnn.pack_padded_sequence(embeddedsq, txt_lengths.to('cpu'), enforce_sorted=False)\n",
        "    packed_out, (a,b) = self.lstma(packed_embeds)\n",
        "    \n",
        "    out, out_lengths = nn.utils.rnn.pad_packed_sequence(packed_out)\n",
        "    \n",
        "    attn_output, attn_output_weights = self.mha(out, out, out)   \n",
        "\n",
        "    return self.fc(attn_output)"
      ],
      "metadata": {
        "id": "NeuzT5RX3dE0"
      },
      "execution_count": 38,
      "outputs": []
    },
    {
      "cell_type": "code",
      "source": [
        "input_d = len(TWEET.vocab) # # 25002\n",
        "embedding_d = 100#same as dimension of glove vectors\n",
        "hidden_d = 256\n",
        "output_d = len(LABEL.vocab.stoi)\n",
        "layers_num = 2\n",
        "bidirectional = True\n",
        "dropout = 0.5\n",
        "padding = TWEET.vocab.stoi[TWEET.pad_token] # 0\n",
        "\n",
        "model3 = RNNLSTMA(input_d, \n",
        "            embedding_d, \n",
        "            hidden_d, \n",
        "            output_d, \n",
        "            layers_num, \n",
        "            bidirectional, \n",
        "            dropout , \n",
        "            padding)\n",
        "model3"
      ],
      "metadata": {
        "id": "W0aNRxr7O9P8",
        "colab": {
          "base_uri": "https://localhost:8080/"
        },
        "outputId": "55210bbd-0c62-4c80-f3e0-2f6f861020a4"
      },
      "execution_count": 39,
      "outputs": [
        {
          "output_type": "execute_result",
          "data": {
            "text/plain": [
              "RNNLSTMA(\n",
              "  (embeds): Embedding(21668, 100, padding_idx=1)\n",
              "  (lstma): LSTM(100, 256, num_layers=2, dropout=0.5, bidirectional=True)\n",
              "  (mha): MultiheadAttention(\n",
              "    (out_proj): NonDynamicallyQuantizableLinear(in_features=512, out_features=512, bias=True)\n",
              "  )\n",
              "  (dropout): Dropout(p=0.5, inplace=False)\n",
              "  (fc): Linear(in_features=512, out_features=3, bias=True)\n",
              ")"
            ]
          },
          "metadata": {},
          "execution_count": 39
        }
      ]
    },
    {
      "cell_type": "code",
      "source": [
        "def count_trainable_params(model):\n",
        "  return sum(p.numel() for p in model3.parameters() if p.requires_grad)\n",
        "\n",
        "print(f'The model has  {count_trainable_params(model3):,} trainable parameters')"
      ],
      "metadata": {
        "id": "bo0wtyLGB3Fj",
        "colab": {
          "base_uri": "https://localhost:8080/"
        },
        "outputId": "61449892-42bd-4579-ab2a-c095e73f465c"
      },
      "execution_count": 40,
      "outputs": [
        {
          "output_type": "stream",
          "name": "stdout",
          "text": [
            "The model has  5,529,107 trainable parameters\n"
          ]
        }
      ]
    },
    {
      "cell_type": "code",
      "source": [
        "model3.embeds.weight.data.copy_(pretrained_embeddings)"
      ],
      "metadata": {
        "id": "lHUQ3udvlg1-",
        "colab": {
          "base_uri": "https://localhost:8080/"
        },
        "outputId": "3e396793-c1fa-490b-a6e6-620b0a69f03b"
      },
      "execution_count": 41,
      "outputs": [
        {
          "output_type": "execute_result",
          "data": {
            "text/plain": [
              "tensor([[ 1.9269,  1.4873,  0.9007,  ...,  0.1233,  0.3499,  0.6173],\n",
              "        [ 0.7262,  0.0912, -0.3891,  ...,  0.0821,  0.4440, -0.7240],\n",
              "        [-0.0382, -0.2449,  0.7281,  ..., -0.1459,  0.8278,  0.2706],\n",
              "        ...,\n",
              "        [-0.5005,  0.2531,  1.8303,  ...,  0.5205,  0.6098,  0.8963],\n",
              "        [-1.8683,  0.1008, -0.1267,  ...,  0.3982,  0.7209,  0.0699],\n",
              "        [ 0.1696,  1.4828, -1.0430,  ...,  2.0104,  0.0652, -0.7285]])"
            ]
          },
          "metadata": {},
          "execution_count": 41
        }
      ]
    },
    {
      "cell_type": "code",
      "source": [
        "optimizer = torch.optim.Adam(model3.parameters())\n",
        "model3 = model3.to(device)"
      ],
      "metadata": {
        "id": "DkMgvwQRloCq"
      },
      "execution_count": 42,
      "outputs": []
    },
    {
      "cell_type": "code",
      "source": [
        "criterion = criterion.to(device)"
      ],
      "metadata": {
        "id": "26bli9WulpFE"
      },
      "execution_count": 43,
      "outputs": []
    },
    {
      "cell_type": "code",
      "source": [
        "for i in range(2):\n",
        "  model3.embeds.weight.data[i] = torch.zeros(embedding_d)\n"
      ],
      "metadata": {
        "id": "Wf04nyaBlj-J"
      },
      "execution_count": 44,
      "outputs": []
    },
    {
      "cell_type": "code",
      "source": [
        "model3.embeds.weight.data"
      ],
      "metadata": {
        "id": "x6ZI9rrZlmD_",
        "colab": {
          "base_uri": "https://localhost:8080/"
        },
        "outputId": "eb8704ab-4329-414e-ebd9-000120f94478"
      },
      "execution_count": 45,
      "outputs": [
        {
          "output_type": "execute_result",
          "data": {
            "text/plain": [
              "tensor([[ 0.0000,  0.0000,  0.0000,  ...,  0.0000,  0.0000,  0.0000],\n",
              "        [ 0.0000,  0.0000,  0.0000,  ...,  0.0000,  0.0000,  0.0000],\n",
              "        [-0.0382, -0.2449,  0.7281,  ..., -0.1459,  0.8278,  0.2706],\n",
              "        ...,\n",
              "        [-0.5005,  0.2531,  1.8303,  ...,  0.5205,  0.6098,  0.8963],\n",
              "        [-1.8683,  0.1008, -0.1267,  ...,  0.3982,  0.7209,  0.0699],\n",
              "        [ 0.1696,  1.4828, -1.0430,  ...,  2.0104,  0.0652, -0.7285]],\n",
              "       device='cuda:0')"
            ]
          },
          "metadata": {},
          "execution_count": 45
        }
      ]
    },
    {
      "cell_type": "code",
      "source": [
        ""
      ],
      "metadata": {
        "id": "B5ehWUChWPFW"
      },
      "execution_count": 45,
      "outputs": []
    },
    {
      "cell_type": "code",
      "source": [
        "def train2(modely, iterator, optimizer, criterion):\n",
        "    epoch_loss = 0\n",
        "    epoch_acc = 0\n",
        "    epoch_acc_f1 = 0\n",
        "    epoch_acc_rec = 0\n",
        "    epoch_acc_prec = 0\n",
        "    modely.train()\n",
        "    for batch in iterator:\n",
        "        optimizer.zero_grad()\n",
        "        tweet, tweet_lengths = batch.tweet\n",
        "        predictions = modely(tweet, tweet_lengths).squeeze(1)\n",
        "        loss = criterion(predictions[0], batch.label)\n",
        "        var = torch.argmax(predictions[0],dim=1).cpu()  \n",
        "        batch.label = batch.label.cpu()\n",
        "        acc = precision_recall_fscore_support( var,batch.label, average='weighted',warn_for=tuple())\n",
        "        loss.backward()\n",
        "        # Clip params\n",
        "        for param in modely.parameters():\n",
        "            if param.grad is None:\n",
        "                continue\n",
        "            grad_val = torch.clamp(param.grad, -5, 5)\n",
        "        optimizer.step()\n",
        "        epoch_loss += loss.item()\n",
        "        epoch_acc_prec += acc[0]\n",
        "        epoch_acc_rec += acc[1]\n",
        "        epoch_acc_f1 += acc[2]\n",
        "\n",
        "    return epoch_loss / len(iterator), epoch_acc_prec / len(iterator),epoch_acc_rec / len(iterator),epoch_acc_f1 / len(iterator)\n",
        "\n",
        "def evaluate2(modely, iterator, criterion):\n",
        "    epoch_loss = 0\n",
        "    epoch_acc_f1 = 0\n",
        "    epoch_acc_rec = 0\n",
        "    epoch_acc_prec = 0\n",
        "    modely.eval()\n",
        "    with torch.no_grad():\n",
        "        for batch in iterator:\n",
        "            tweet, tweet_lengths = batch.tweet\n",
        "            predictions = modely(tweet, tweet_lengths).squeeze(1)\n",
        "            loss = criterion(predictions[0], batch.label)\n",
        "            var = torch.argmax(predictions[0],dim=1).cpu()  \n",
        "            batch.label = batch.label.cpu()\n",
        "            acc = precision_recall_fscore_support( var, batch.label, average='weighted',warn_for=tuple())\n",
        "            epoch_loss += loss.item()\n",
        "            epoch_acc_prec += acc[0]\n",
        "            epoch_acc_rec += acc[1]\n",
        "            epoch_acc_f1 += acc[2]\n",
        "\n",
        "    return epoch_loss / len(iterator), epoch_acc_prec / len(iterator),epoch_acc_rec / len(iterator),epoch_acc_f1 / len(iterator)"
      ],
      "metadata": {
        "id": "AvTkHbYwkxSV"
      },
      "execution_count": 46,
      "outputs": []
    },
    {
      "cell_type": "code",
      "source": [
        "N_EPOCHS = 6\n",
        "best_valid_loss = float('inf')\n",
        "losslist5 = []\n",
        "losslist6 = []\n",
        "train_epoch_acc_f1 = 0\n",
        "train_epoch_acc_rec = 0\n",
        "train_epoch_acc_prec = 0\n",
        "valid_epoch_acc_f1 = 0\n",
        "valid_epoch_acc_rec = 0\n",
        "valid_epoch_acc_prec = 0\n",
        "for epoch in range(N_EPOCHS):\n",
        "    start_time = time.time()\n",
        "    train_loss, train_epoch_acc_prec ,train_epoch_acc_rec ,train_epoch_acc_f1  = train2(model3, train_iterator, optimizer, criterion)\n",
        "    valid_loss, valid_epoch_acc_prec ,valid_epoch_acc_rec ,valid_epoch_acc_f1  = evaluate2(model3, validation_iterator, criterion)\n",
        "    end_time = time.time()\n",
        "    epoch_mins, epoch_secs = epoch_time(start_time, end_time)\n",
        "    losslist5.append(train_loss)\n",
        "    losslist6.append(valid_loss)\n",
        "    if valid_loss < best_valid_loss:\n",
        "        best_valid_loss = valid_loss\n",
        "        torch.save(model3.state_dict(), 'best-model3.pt')\n",
        "    print(f'Epoch: {epoch+1:02} | Epoch Time: {epoch_mins}m {epoch_secs}s')\n",
        "    print(f'\\tTrain Loss: {train_loss:.3f} | Train Precision: {train_epoch_acc_prec*100:.2f}  | Train Recall: {train_epoch_acc_prec*100:.2f}  | Train F1: {train_epoch_acc_f1*100:.2f}%')\n",
        "    print(f'\\t Val. Loss: {valid_loss:.3f} |  Val. Precision: {valid_epoch_acc_prec*100:.2f}  | Val. Recall: {valid_epoch_acc_prec*100:.2f}  | Val.  F1: {valid_epoch_acc_f1*100:.2f}%')"
      ],
      "metadata": {
        "id": "YrKN1qU2ChRW",
        "colab": {
          "base_uri": "https://localhost:8080/"
        },
        "outputId": "4420759e-dcbf-4883-f21f-db25232671aa"
      },
      "execution_count": 47,
      "outputs": [
        {
          "output_type": "stream",
          "name": "stdout",
          "text": [
            "Epoch: 01 | Epoch Time: 0m 11s\n",
            "\tTrain Loss: 0.883 | Train Precision: 75.32  | Train Recall: 75.32  | Train F1: 63.33%\n",
            "\t Val. Loss: 0.775 |  Val. Precision: 76.44  | Val. Recall: 76.44  | Val.  F1: 67.50%\n",
            "Epoch: 02 | Epoch Time: 0m 11s\n",
            "\tTrain Loss: 0.770 | Train Precision: 73.56  | Train Recall: 73.56  | Train F1: 67.98%\n",
            "\t Val. Loss: 0.697 |  Val. Precision: 76.40  | Val. Recall: 76.40  | Val.  F1: 70.83%\n",
            "Epoch: 03 | Epoch Time: 0m 11s\n",
            "\tTrain Loss: 0.701 | Train Precision: 75.31  | Train Recall: 75.31  | Train F1: 70.78%\n",
            "\t Val. Loss: 0.675 |  Val. Precision: 75.69  | Val. Recall: 75.69  | Val.  F1: 72.19%\n",
            "Epoch: 04 | Epoch Time: 0m 11s\n",
            "\tTrain Loss: 0.661 | Train Precision: 77.01  | Train Recall: 77.01  | Train F1: 73.21%\n",
            "\t Val. Loss: 0.706 |  Val. Precision: 80.19  | Val. Recall: 80.19  | Val.  F1: 73.95%\n",
            "Epoch: 05 | Epoch Time: 0m 11s\n",
            "\tTrain Loss: 0.610 | Train Precision: 78.10  | Train Recall: 78.10  | Train F1: 75.22%\n",
            "\t Val. Loss: 0.644 |  Val. Precision: 74.44  | Val. Recall: 74.44  | Val.  F1: 72.60%\n",
            "Epoch: 06 | Epoch Time: 0m 11s\n",
            "\tTrain Loss: 0.572 | Train Precision: 79.57  | Train Recall: 79.57  | Train F1: 77.02%\n",
            "\t Val. Loss: 0.635 |  Val. Precision: 75.69  | Val. Recall: 75.69  | Val.  F1: 73.04%\n"
          ]
        }
      ]
    },
    {
      "cell_type": "code",
      "source": [
        "model3.load_state_dict(torch.load('best-model3.pt'))\n",
        "\n",
        "test_epoch_acc_f1 = 0\n",
        "test_epoch_acc_rec = 0\n",
        "test_epoch_acc_prec = 0\n",
        "test_loss, test_epoch_acc_prec,test_epoch_acc_rec,test_epoch_acc_f1 = evaluate2(model3, test_iterator, criterion)\n",
        "\n",
        "print(f'Test Loss: {test_loss:.3f} |  Test. Precision: {test_epoch_acc_prec*100:.2f}  | Test. Recall: {test_epoch_acc_prec*100:.2f}  | Test.  F1: {test_epoch_acc_f1*100:.2f}%')"
      ],
      "metadata": {
        "id": "l9QBDzme57gp",
        "colab": {
          "base_uri": "https://localhost:8080/"
        },
        "outputId": "6568d52a-6a9c-4dbf-cc51-961f308d1b94"
      },
      "execution_count": 48,
      "outputs": [
        {
          "output_type": "stream",
          "name": "stdout",
          "text": [
            "Test Loss: 0.647 |  Test. Precision: 76.08  | Test. Recall: 76.08  | Test.  F1: 73.57%\n"
          ]
        }
      ]
    },
    {
      "cell_type": "code",
      "source": [
        "plt.plot(losslist6)\n",
        "plt.xlabel(\"Epochs\", fontsize=15)\n",
        "plt.ylabel(\"Cross Entropy Loss\", fontsize=15)\n",
        "plt.show()"
      ],
      "metadata": {
        "id": "82UiMwEoLnag",
        "colab": {
          "base_uri": "https://localhost:8080/",
          "height": 285
        },
        "outputId": "146a9a7c-c717-4b5c-bb7e-ac649b2ff993"
      },
      "execution_count": 49,
      "outputs": [
        {
          "output_type": "display_data",
          "data": {
            "image/png": "[encoded data removed]",
            "text/plain": [
              "<Figure size 432x288 with 1 Axes>"
            ]
          },
          "metadata": {
            "needs_background": "light"
          }
        }
      ]
    },
    {
      "cell_type": "markdown",
      "source": [
        "My stratagy in order to value accuracy of the models was to find the best f1 score for each model(bacause we have inbalanced dataset - very small sample of class 1 ).After that , I realized the best scores were quite similar for the epochs above.Then I started to value the precision scores so as to judge which model produces better results."
      ],
      "metadata": {
        "id": "E15ecf6OPF3h"
      }
    },
    {
      "cell_type": "markdown",
      "source": [
        "##Experimentation with models"
      ],
      "metadata": {
        "id": "OhaGFqyGsBcN"
      }
    },
    {
      "cell_type": "markdown",
      "source": [
        "Tuning hyperparameters such as learning rate in optimizer and number of epochs"
      ],
      "metadata": {
        "id": "UIjWcHdOYYVW"
      }
    },
    {
      "cell_type": "markdown",
      "source": [
        "LSTM"
      ],
      "metadata": {
        "id": "WDbRuwD4LCrv"
      }
    },
    {
      "cell_type": "code",
      "source": [
        "input_d = len(TWEET.vocab) # # 25002\n",
        "embedding_d = 100#same as dimension of glove vectors\n",
        "hidden_d = 256\n",
        "output_d = len(LABEL.vocab.stoi)\n",
        "layers_num = 2\n",
        "bidirectional = True\n",
        "dropout = 0.5\n",
        "padding = TWEET.vocab.stoi[TWEET.pad_token] # 0\n",
        "\n",
        "model4 = RNNLSTM(input_d, \n",
        "            embedding_d, \n",
        "            hidden_d, \n",
        "            output_d, \n",
        "            layers_num, \n",
        "            bidirectional, \n",
        "            dropout , \n",
        "            padding)\n",
        "model4\n"
      ],
      "metadata": {
        "id": "baN9IwddSOkL",
        "colab": {
          "base_uri": "https://localhost:8080/"
        },
        "outputId": "1165da84-110c-48b8-95a2-3deac6bc24b0"
      },
      "execution_count": 50,
      "outputs": [
        {
          "output_type": "execute_result",
          "data": {
            "text/plain": [
              "RNNLSTM(\n",
              "  (embeds): Embedding(21668, 100, padding_idx=1)\n",
              "  (lstm): LSTM(100, 256, num_layers=2, dropout=0.5, bidirectional=True)\n",
              "  (fc): Linear(in_features=512, out_features=3, bias=True)\n",
              "  (dropout): Dropout(p=0.5, inplace=False)\n",
              ")"
            ]
          },
          "metadata": {},
          "execution_count": 50
        }
      ]
    },
    {
      "cell_type": "code",
      "source": [
        "def count_trainable_params(modelx):\n",
        "  return sum(p.numel() for p in modelx.parameters() if p.requires_grad)\n",
        "\n",
        "print(f'The model has  {count_trainable_params(model4):,} trainable parameters')\n",
        "model4.embeds.weight.data.copy_(pretrained_embeddings)\n",
        "optimizer = torch.optim.Adam(model4.parameters())\n",
        "model4 = model4.to(device)\n",
        "criterion = criterion.to(device)\n",
        "for i in range(2):\n",
        "  model4.embeds.weight.data[i] = torch.zeros(embedding_d)\n",
        "model4.embeds.weight.data\n",
        "optimizer = torch.optim.Adam(model4.parameters(),lr=0.03)\n",
        "model4 = model4.to(device)"
      ],
      "metadata": {
        "id": "G5GttYGkWmWn",
        "colab": {
          "base_uri": "https://localhost:8080/"
        },
        "outputId": "dd8d1a44-ae61-43c3-db44-89874e28e0e8"
      },
      "execution_count": 51,
      "outputs": [
        {
          "output_type": "stream",
          "name": "stdout",
          "text": [
            "The model has  4,478,483 trainable parameters\n"
          ]
        }
      ]
    },
    {
      "cell_type": "code",
      "source": [
        "N_EPOCHS = 15\n",
        "best_valid_loss = float('inf')\n",
        "losslist7 = []\n",
        "losslist8 = []\n",
        "train_epoch_acc_f1 = 0\n",
        "train_epoch_acc_rec = 0\n",
        "train_epoch_acc_prec = 0\n",
        "valid_epoch_acc_f1 = 0\n",
        "valid_epoch_acc_rec = 0\n",
        "valid_epoch_acc_prec = 0\n",
        "for epoch in range(N_EPOCHS):\n",
        "    start_time = time.time()\n",
        "    train_loss, train_epoch_acc_prec ,train_epoch_acc_rec ,train_epoch_acc_f1  = train(model4, train_iterator, optimizer, criterion)\n",
        "    valid_loss, valid_epoch_acc_prec ,valid_epoch_acc_rec ,valid_epoch_acc_f1  = evaluate(model4, validation_iterator, criterion)\n",
        "    end_time = time.time()\n",
        "    epoch_mins, epoch_secs = epoch_time(start_time, end_time)\n",
        "    losslist7.append(train_loss)\n",
        "    losslist8.append(valid_loss)\n",
        "    if valid_loss < best_valid_loss:\n",
        "        best_valid_loss = valid_loss\n",
        "        torch.save(model4.state_dict(), 'best-model4.pt')\n",
        "    print(f'Epoch: {epoch+1:02} | Epoch Time: {epoch_mins}m {epoch_secs}s')\n",
        "    print(f'\\tTrain Loss: {train_loss:.3f} | Train Precision: {train_epoch_acc_prec*100:.2f}  | Train Recall: {train_epoch_acc_prec*100:.2f}  | Train F1: {train_epoch_acc_f1*100:.2f}%')\n",
        "    print(f'\\t Val. Loss: {valid_loss:.3f} |  Val. Precision: {valid_epoch_acc_prec*100:.2f}  | Val. Recall: {valid_epoch_acc_prec*100:.2f}  | Val.  F1: {valid_epoch_acc_f1*100:.2f}%')"
      ],
      "metadata": {
        "id": "XfhUFZjWsGCv",
        "colab": {
          "base_uri": "https://localhost:8080/"
        },
        "outputId": "88ecfbd7-dc79-440f-8b1f-67b19c0c33d8"
      },
      "execution_count": 52,
      "outputs": [
        {
          "output_type": "stream",
          "name": "stdout",
          "text": [
            "Epoch: 01 | Epoch Time: 0m 8s\n",
            "\tTrain Loss: 1.130 | Train Precision: 67.98  | Train Recall: 67.98  | Train F1: 50.43%\n",
            "\t Val. Loss: 1.072 |  Val. Precision: 95.76  | Val. Recall: 95.76  | Val.  F1: 56.17%\n",
            "Epoch: 02 | Epoch Time: 0m 8s\n",
            "\tTrain Loss: 1.013 | Train Precision: 63.23  | Train Recall: 63.23  | Train F1: 54.11%\n",
            "\t Val. Loss: 1.004 |  Val. Precision: 85.32  | Val. Recall: 85.32  | Val.  F1: 58.46%\n",
            "Epoch: 03 | Epoch Time: 0m 8s\n",
            "\tTrain Loss: 1.207 | Train Precision: 56.17  | Train Recall: 56.17  | Train F1: 51.24%\n",
            "\t Val. Loss: 1.226 |  Val. Precision: 48.14  | Val. Recall: 48.14  | Val.  F1: 43.51%\n",
            "Epoch: 04 | Epoch Time: 0m 8s\n",
            "\tTrain Loss: 1.761 | Train Precision: 47.02  | Train Recall: 47.02  | Train F1: 43.05%\n",
            "\t Val. Loss: 1.501 |  Val. Precision: 69.05  | Val. Recall: 69.05  | Val.  F1: 48.65%\n",
            "Epoch: 05 | Epoch Time: 0m 8s\n",
            "\tTrain Loss: 1.666 | Train Precision: 46.44  | Train Recall: 46.44  | Train F1: 42.60%\n",
            "\t Val. Loss: 2.020 |  Val. Precision: 71.56  | Val. Recall: 71.56  | Val.  F1: 47.22%\n",
            "Epoch: 06 | Epoch Time: 0m 8s\n",
            "\tTrain Loss: 1.617 | Train Precision: 45.59  | Train Recall: 45.59  | Train F1: 42.35%\n",
            "\t Val. Loss: 1.261 |  Val. Precision: 41.35  | Val. Recall: 41.35  | Val.  F1: 40.71%\n",
            "Epoch: 07 | Epoch Time: 0m 8s\n",
            "\tTrain Loss: 1.585 | Train Precision: 45.87  | Train Recall: 45.87  | Train F1: 42.32%\n",
            "\t Val. Loss: 1.307 |  Val. Precision: 52.91  | Val. Recall: 52.91  | Val.  F1: 46.94%\n",
            "Epoch: 08 | Epoch Time: 0m 8s\n",
            "\tTrain Loss: 1.570 | Train Precision: 44.59  | Train Recall: 44.59  | Train F1: 41.89%\n",
            "\t Val. Loss: 1.376 |  Val. Precision: 59.08  | Val. Recall: 59.08  | Val.  F1: 49.90%\n",
            "Epoch: 09 | Epoch Time: 0m 8s\n",
            "\tTrain Loss: 1.563 | Train Precision: 46.19  | Train Recall: 46.19  | Train F1: 42.68%\n",
            "\t Val. Loss: 1.292 |  Val. Precision: 55.51  | Val. Recall: 55.51  | Val.  F1: 46.94%\n",
            "Epoch: 10 | Epoch Time: 0m 8s\n",
            "\tTrain Loss: 1.578 | Train Precision: 46.27  | Train Recall: 46.27  | Train F1: 42.47%\n",
            "\t Val. Loss: 1.340 |  Val. Precision: 55.18  | Val. Recall: 55.18  | Val.  F1: 46.37%\n",
            "Epoch: 11 | Epoch Time: 0m 8s\n",
            "\tTrain Loss: 1.540 | Train Precision: 46.22  | Train Recall: 46.22  | Train F1: 42.75%\n",
            "\t Val. Loss: 1.403 |  Val. Precision: 54.82  | Val. Recall: 54.82  | Val.  F1: 42.05%\n",
            "Epoch: 12 | Epoch Time: 0m 8s\n",
            "\tTrain Loss: 1.566 | Train Precision: 45.59  | Train Recall: 45.59  | Train F1: 41.93%\n",
            "\t Val. Loss: 1.412 |  Val. Precision: 61.30  | Val. Recall: 61.30  | Val.  F1: 45.92%\n",
            "Epoch: 13 | Epoch Time: 0m 8s\n",
            "\tTrain Loss: nan | Train Precision: 57.14  | Train Recall: 57.14  | Train F1: 46.86%\n",
            "\t Val. Loss: nan |  Val. Precision: 100.00  | Val. Recall: 100.00  | Val.  F1: 61.78%\n",
            "Epoch: 14 | Epoch Time: 0m 8s\n",
            "\tTrain Loss: nan | Train Precision: 100.00  | Train Recall: 100.00  | Train F1: 62.65%\n",
            "\t Val. Loss: nan |  Val. Precision: 100.00  | Val. Recall: 100.00  | Val.  F1: 61.78%\n",
            "Epoch: 15 | Epoch Time: 0m 8s\n",
            "\tTrain Loss: nan | Train Precision: 100.00  | Train Recall: 100.00  | Train F1: 62.65%\n",
            "\t Val. Loss: nan |  Val. Precision: 100.00  | Val. Recall: 100.00  | Val.  F1: 61.78%\n"
          ]
        }
      ]
    },
    {
      "cell_type": "code",
      "source": [
        "plt.plot(losslist8)\n",
        "plt.xlabel(\"Epochs\", fontsize=15)\n",
        "plt.ylabel(\"Cross Entropy Loss\", fontsize=15)\n",
        "plt.show()"
      ],
      "metadata": {
        "id": "6OCjf6CJSdKD",
        "colab": {
          "base_uri": "https://localhost:8080/",
          "height": 284
        },
        "outputId": "91bbbaa6-ef0d-435f-d77a-25407cb2766f"
      },
      "execution_count": 53,
      "outputs": [
        {
          "output_type": "display_data",
          "data": {
            "image/png": "[encoded data removed]",
            "text/plain": [
              "<Figure size 432x288 with 1 Axes>"
            ]
          },
          "metadata": {
            "needs_background": "light"
          }
        }
      ]
    },
    {
      "cell_type": "code",
      "source": [
        "model4.load_state_dict(torch.load('best-model4.pt'))\n",
        "\n",
        "test_epoch_acc_f1 = 0\n",
        "test_epoch_acc_rec = 0\n",
        "test_epoch_acc_prec = 0\n",
        "test_loss, test_epoch_acc_prec,test_epoch_acc_rec,test_epoch_acc_f1 = evaluate(model4, test_iterator, criterion)\n",
        "\n",
        "print(f'Test Loss: {test_loss:.3f} |  Test. Precision: {test_epoch_acc_prec*100:.2f}  | Test. Recall: {test_epoch_acc_prec*100:.2f}  | Test.  F1: {test_epoch_acc_f1*100:.2f}%')"
      ],
      "metadata": {
        "id": "4uh42-19SXmS",
        "colab": {
          "base_uri": "https://localhost:8080/"
        },
        "outputId": "f0a4a463-2c93-41dd-d4e3-5385bea0103c"
      },
      "execution_count": 54,
      "outputs": [
        {
          "output_type": "stream",
          "name": "stdout",
          "text": [
            "Test Loss: 0.977 |  Test. Precision: 86.26  | Test. Recall: 86.26  | Test.  F1: 60.90%\n"
          ]
        }
      ]
    },
    {
      "cell_type": "code",
      "source": [
        "input_d = len(TWEET.vocab) # # 25002\n",
        "embedding_d = 100#same as dimension of glove vectors\n",
        "hidden_d = 256\n",
        "output_d = len(LABEL.vocab.stoi)\n",
        "layers_num = 2\n",
        "bidirectional = True\n",
        "dropout = 0.5\n",
        "padding = TWEET.vocab.stoi[TWEET.pad_token] # 0\n",
        "\n",
        "model5 = RNNGRU(input_d, \n",
        "            embedding_d, \n",
        "            hidden_d, \n",
        "            output_d, \n",
        "            layers_num, \n",
        "            bidirectional, \n",
        "            dropout , \n",
        "            padding)\n",
        "model5\n"
      ],
      "metadata": {
        "id": "harSnUQiSuW2",
        "colab": {
          "base_uri": "https://localhost:8080/"
        },
        "outputId": "4648b783-9fbb-4356-dfaa-56fb980e46ff"
      },
      "execution_count": 55,
      "outputs": [
        {
          "output_type": "execute_result",
          "data": {
            "text/plain": [
              "RNNGRU(\n",
              "  (embeds): Embedding(21668, 100, padding_idx=1)\n",
              "  (gru): GRU(100, 256, num_layers=2, dropout=0.5, bidirectional=True)\n",
              "  (fc): Linear(in_features=512, out_features=3, bias=True)\n",
              "  (dropout): Dropout(p=0.5, inplace=False)\n",
              ")"
            ]
          },
          "metadata": {},
          "execution_count": 55
        }
      ]
    },
    {
      "cell_type": "code",
      "source": [
        "def count_trainable_params(modelx):\n",
        "  return sum(p.numel() for p in modelx.parameters() if p.requires_grad)\n",
        "\n",
        "print(f'The model has  {count_trainable_params(model5):,} trainable parameters')\n",
        "model5.embeds.weight.data.copy_(pretrained_embeddings)\n",
        "optimizer = torch.optim.Adam(model5.parameters())\n",
        "model5 = model5.to(device)\n",
        "criterion = criterion.to(device)\n",
        "for i in range(2):\n",
        "  model5.embeds.weight.data[i] = torch.zeros(embedding_d)\n",
        "model5.embeds.weight.data\n",
        "optimizer = torch.optim.Adam(model5.parameters(),lr=0.0015)\n",
        "model5 = model5.to(device)"
      ],
      "metadata": {
        "id": "HsUtht5RVpQL",
        "colab": {
          "base_uri": "https://localhost:8080/"
        },
        "outputId": "9902fcfb-a2ea-4204-f027-1cbc0c9489f4"
      },
      "execution_count": 56,
      "outputs": [
        {
          "output_type": "stream",
          "name": "stdout",
          "text": [
            "The model has  3,900,947 trainable parameters\n"
          ]
        }
      ]
    },
    {
      "cell_type": "code",
      "source": [
        "N_EPOCHS = 15\n",
        "best_valid_loss = float('inf')\n",
        "losslist9 = []\n",
        "losslist10 = []\n",
        "train_epoch_acc_f1 = 0\n",
        "train_epoch_acc_rec = 0\n",
        "train_epoch_acc_prec = 0\n",
        "valid_epoch_acc_f1 = 0\n",
        "valid_epoch_acc_rec = 0\n",
        "valid_epoch_acc_prec = 0\n",
        "for epoch in range(N_EPOCHS):\n",
        "    start_time = time.time()\n",
        "    train_loss, train_epoch_acc_prec ,train_epoch_acc_rec ,train_epoch_acc_f1  = train(model5, train_iterator, optimizer, criterion)\n",
        "    valid_loss, valid_epoch_acc_prec ,valid_epoch_acc_rec ,valid_epoch_acc_f1  = evaluate(model5, validation_iterator, criterion)\n",
        "    end_time = time.time()\n",
        "    epoch_mins, epoch_secs = epoch_time(start_time, end_time)\n",
        "    losslist9.append(train_loss)\n",
        "    losslist10.append(valid_loss)\n",
        "    if valid_loss < best_valid_loss:\n",
        "        best_valid_loss = valid_loss\n",
        "        torch.save(model5.state_dict(), 'best-model5.pt')\n",
        "    print(f'Epoch: {epoch+1:02} | Epoch Time: {epoch_mins}m {epoch_secs}s')\n",
        "    print(f'\\tTrain Loss: {train_loss:.3f} | Train Precision: {train_epoch_acc_prec*100:.2f}  | Train Recall: {train_epoch_acc_prec*100:.2f}  | Train F1: {train_epoch_acc_f1*100:.2f}%')\n",
        "    print(f'\\t Val. Loss: {valid_loss:.3f} |  Val. Precision: {valid_epoch_acc_prec*100:.2f}  | Val. Recall: {valid_epoch_acc_prec*100:.2f}  | Val.  F1: {valid_epoch_acc_f1*100:.2f}%')"
      ],
      "metadata": {
        "id": "Th5wIpThLFyp",
        "colab": {
          "base_uri": "https://localhost:8080/"
        },
        "outputId": "1dcd9b95-e70c-4146-fa13-d6b0c4c5388d"
      },
      "execution_count": 57,
      "outputs": [
        {
          "output_type": "stream",
          "name": "stdout",
          "text": [
            "Epoch: 01 | Epoch Time: 0m 8s\n",
            "\tTrain Loss: 0.882 | Train Precision: 70.77  | Train Recall: 70.77  | Train F1: 62.43%\n",
            "\t Val. Loss: 0.742 |  Val. Precision: 77.52  | Val. Recall: 77.52  | Val.  F1: 69.98%\n",
            "Epoch: 02 | Epoch Time: 0m 8s\n",
            "\tTrain Loss: 0.750 | Train Precision: 73.15  | Train Recall: 73.15  | Train F1: 68.64%\n",
            "\t Val. Loss: 0.698 |  Val. Precision: 80.05  | Val. Recall: 80.05  | Val.  F1: 71.78%\n",
            "Epoch: 03 | Epoch Time: 0m 8s\n",
            "\tTrain Loss: 0.685 | Train Precision: 74.98  | Train Recall: 74.98  | Train F1: 71.61%\n",
            "\t Val. Loss: 0.698 |  Val. Precision: 73.90  | Val. Recall: 73.90  | Val.  F1: 71.30%\n",
            "Epoch: 04 | Epoch Time: 0m 7s\n",
            "\tTrain Loss: 0.617 | Train Precision: 78.02  | Train Recall: 78.02  | Train F1: 75.39%\n",
            "\t Val. Loss: 0.721 |  Val. Precision: 79.35  | Val. Recall: 79.35  | Val.  F1: 72.51%\n",
            "Epoch: 05 | Epoch Time: 0m 7s\n",
            "\tTrain Loss: 0.563 | Train Precision: 79.59  | Train Recall: 79.59  | Train F1: 77.32%\n",
            "\t Val. Loss: 0.658 |  Val. Precision: 76.08  | Val. Recall: 76.08  | Val.  F1: 73.56%\n",
            "Epoch: 06 | Epoch Time: 0m 8s\n",
            "\tTrain Loss: 0.512 | Train Precision: 81.43  | Train Recall: 81.43  | Train F1: 79.77%\n",
            "\t Val. Loss: 0.800 |  Val. Precision: 81.91  | Val. Recall: 81.91  | Val.  F1: 72.22%\n",
            "Epoch: 07 | Epoch Time: 0m 7s\n",
            "\tTrain Loss: 0.468 | Train Precision: 83.38  | Train Recall: 83.38  | Train F1: 81.77%\n",
            "\t Val. Loss: 0.814 |  Val. Precision: 76.42  | Val. Recall: 76.42  | Val.  F1: 69.85%\n",
            "Epoch: 08 | Epoch Time: 0m 7s\n",
            "\tTrain Loss: 0.424 | Train Precision: 85.06  | Train Recall: 85.06  | Train F1: 83.69%\n",
            "\t Val. Loss: 0.729 |  Val. Precision: 75.93  | Val. Recall: 75.93  | Val.  F1: 74.16%\n",
            "Epoch: 09 | Epoch Time: 0m 7s\n",
            "\tTrain Loss: 0.383 | Train Precision: 86.24  | Train Recall: 86.24  | Train F1: 85.17%\n",
            "\t Val. Loss: 0.791 |  Val. Precision: 78.18  | Val. Recall: 78.18  | Val.  F1: 73.13%\n",
            "Epoch: 10 | Epoch Time: 0m 8s\n",
            "\tTrain Loss: 0.346 | Train Precision: 87.64  | Train Recall: 87.64  | Train F1: 86.65%\n",
            "\t Val. Loss: 0.742 |  Val. Precision: 73.45  | Val. Recall: 73.45  | Val.  F1: 72.14%\n",
            "Epoch: 11 | Epoch Time: 0m 7s\n",
            "\tTrain Loss: 0.317 | Train Precision: 88.84  | Train Recall: 88.84  | Train F1: 88.02%\n",
            "\t Val. Loss: 0.837 |  Val. Precision: 74.89  | Val. Recall: 74.89  | Val.  F1: 72.55%\n",
            "Epoch: 12 | Epoch Time: 0m 8s\n",
            "\tTrain Loss: 0.293 | Train Precision: 89.64  | Train Recall: 89.64  | Train F1: 88.86%\n",
            "\t Val. Loss: 0.830 |  Val. Precision: 74.07  | Val. Recall: 74.07  | Val.  F1: 72.63%\n",
            "Epoch: 13 | Epoch Time: 0m 7s\n",
            "\tTrain Loss: 0.265 | Train Precision: 90.77  | Train Recall: 90.77  | Train F1: 90.10%\n",
            "\t Val. Loss: 0.899 |  Val. Precision: 73.86  | Val. Recall: 73.86  | Val.  F1: 71.94%\n",
            "Epoch: 14 | Epoch Time: 0m 8s\n",
            "\tTrain Loss: 0.245 | Train Precision: 91.47  | Train Recall: 91.47  | Train F1: 90.80%\n",
            "\t Val. Loss: 0.933 |  Val. Precision: 73.05  | Val. Recall: 73.05  | Val.  F1: 72.05%\n",
            "Epoch: 15 | Epoch Time: 0m 8s\n",
            "\tTrain Loss: 0.217 | Train Precision: 92.24  | Train Recall: 92.24  | Train F1: 91.75%\n",
            "\t Val. Loss: 0.989 |  Val. Precision: 73.89  | Val. Recall: 73.89  | Val.  F1: 72.28%\n"
          ]
        }
      ]
    },
    {
      "cell_type": "code",
      "source": [
        "plt.plot(losslist10)\n",
        "plt.xlabel(\"Epochs\", fontsize=15)\n",
        "plt.ylabel(\"Cross Entropy Loss\", fontsize=15)\n",
        "plt.show()"
      ],
      "metadata": {
        "id": "OPVBi5QDTBH-",
        "colab": {
          "base_uri": "https://localhost:8080/",
          "height": 285
        },
        "outputId": "ccfb2818-8075-4be6-8632-5e57dce3dc1b"
      },
      "execution_count": 58,
      "outputs": [
        {
          "output_type": "display_data",
          "data": {
            "image/png": "[encoded data removed]",
            "text/plain": [
              "<Figure size 432x288 with 1 Axes>"
            ]
          },
          "metadata": {
            "needs_background": "light"
          }
        }
      ]
    },
    {
      "cell_type": "code",
      "source": [
        "model5.load_state_dict(torch.load('best-model5.pt'))\n",
        "\n",
        "test_epoch_acc_f1 = 0\n",
        "test_epoch_acc_rec = 0\n",
        "test_epoch_acc_prec = 0\n",
        "test_loss, test_epoch_acc_prec,test_epoch_acc_rec,test_epoch_acc_f1 = evaluate(model5, test_iterator, criterion)\n",
        "\n",
        "print(f'Test Loss: {test_loss:.3f} |  Test. Precision: {test_epoch_acc_prec*100:.2f}  | Test. Recall: {test_epoch_acc_prec*100:.2f}  | Test.  F1: {test_epoch_acc_f1*100:.2f}%')"
      ],
      "metadata": {
        "id": "vzDS1njfS2lf",
        "colab": {
          "base_uri": "https://localhost:8080/"
        },
        "outputId": "f9fb6d7f-2515-468a-cb03-f94f8bb4b1ed"
      },
      "execution_count": 59,
      "outputs": [
        {
          "output_type": "stream",
          "name": "stdout",
          "text": [
            "Test Loss: 0.672 |  Test. Precision: 76.07  | Test. Recall: 76.07  | Test.  F1: 73.85%\n"
          ]
        }
      ]
    },
    {
      "cell_type": "code",
      "source": [
        "input_d = len(TWEET.vocab) # # 25002\n",
        "embedding_d = 100#same as dimension of glove vectors\n",
        "hidden_d = 512\n",
        "output_d = len(LABEL.vocab.stoi)\n",
        "layers_num = 2\n",
        "bidirectional = True\n",
        "dropout = 0.3\n",
        "padding = TWEET.vocab.stoi[TWEET.pad_token] # 0\n",
        "\n",
        "model6 = RNNLSTMA(input_d, \n",
        "            embedding_d, \n",
        "            hidden_d, \n",
        "            output_d, \n",
        "            layers_num, \n",
        "            bidirectional, \n",
        "            dropout , \n",
        "            padding)\n",
        "model6\n"
      ],
      "metadata": {
        "id": "rVr0Am3XTF6H",
        "colab": {
          "base_uri": "https://localhost:8080/"
        },
        "outputId": "b8936bb0-9234-4303-9290-fec6127ca7c1"
      },
      "execution_count": 60,
      "outputs": [
        {
          "output_type": "execute_result",
          "data": {
            "text/plain": [
              "RNNLSTMA(\n",
              "  (embeds): Embedding(21668, 100, padding_idx=1)\n",
              "  (lstma): LSTM(100, 512, num_layers=2, dropout=0.3, bidirectional=True)\n",
              "  (mha): MultiheadAttention(\n",
              "    (out_proj): NonDynamicallyQuantizableLinear(in_features=1024, out_features=1024, bias=True)\n",
              "  )\n",
              "  (dropout): Dropout(p=0.3, inplace=False)\n",
              "  (fc): Linear(in_features=1024, out_features=3, bias=True)\n",
              ")"
            ]
          },
          "metadata": {},
          "execution_count": 60
        }
      ]
    },
    {
      "cell_type": "code",
      "source": [
        "def count_trainable_params(modelx):\n",
        "  return sum(p.numel() for p in modelx.parameters() if p.requires_grad)\n",
        "\n",
        "print(f'The model has  {count_trainable_params(model6):,} trainable parameters')\n",
        "model6.embeds.weight.data.copy_(pretrained_embeddings)\n",
        "optimizer = torch.optim.Adam(model6.parameters())\n",
        "model6 = model6.to(device)\n",
        "criterion = criterion.to(device)\n",
        "for i in range(2):\n",
        "  model6.embeds.weight.data[i] = torch.zeros(embedding_d)\n",
        "model6.embeds.weight.data\n",
        "optimizer = torch.optim.Adam(model6.parameters())\n",
        "model6 = model6.to(device)"
      ],
      "metadata": {
        "id": "mJ0c1NIYVqwR",
        "colab": {
          "base_uri": "https://localhost:8080/"
        },
        "outputId": "c1ca8970-834a-46a3-d0b1-a067ddb17084"
      },
      "execution_count": 61,
      "outputs": [
        {
          "output_type": "stream",
          "name": "stdout",
          "text": [
            "The model has  15,182,867 trainable parameters\n"
          ]
        }
      ]
    },
    {
      "cell_type": "code",
      "source": [
        "N_EPOCHS = 15\n",
        "best_valid_loss = float('inf')\n",
        "losslist11 = []\n",
        "losslist12= []\n",
        "train_epoch_acc_f1 = 0\n",
        "train_epoch_acc_rec = 0\n",
        "train_epoch_acc_prec = 0\n",
        "valid_epoch_acc_f1 = 0\n",
        "valid_epoch_acc_rec = 0\n",
        "valid_epoch_acc_prec = 0\n",
        "for epoch in range(N_EPOCHS):\n",
        "    start_time = time.time()\n",
        "    train_loss, train_epoch_acc_prec ,train_epoch_acc_rec ,train_epoch_acc_f1  = train2(model6, train_iterator, optimizer, criterion)\n",
        "    valid_loss, valid_epoch_acc_prec ,valid_epoch_acc_rec ,valid_epoch_acc_f1  = evaluate2(model6, validation_iterator, criterion)\n",
        "    end_time = time.time()\n",
        "    epoch_mins, epoch_secs = epoch_time(start_time, end_time)\n",
        "    losslist11.append(train_loss)\n",
        "    losslist12.append(valid_loss)\n",
        "    if valid_loss < best_valid_loss:\n",
        "        best_valid_loss = valid_loss\n",
        "        torch.save(model6.state_dict(), 'best-model6.pt')\n",
        "    print(f'Epoch: {epoch+1:02} | Epoch Time: {epoch_mins}m {epoch_secs}s')\n",
        "    print(f'\\tTrain Loss: {train_loss:.3f} | Train Precision: {train_epoch_acc_prec*100:.2f}  | Train Recall: {train_epoch_acc_prec*100:.2f}  | Train F1: {train_epoch_acc_f1*100:.2f}%')\n",
        "    print(f'\\t Val. Loss: {valid_loss:.3f} |  Val. Precision: {valid_epoch_acc_prec*100:.2f}  | Val. Recall: {valid_epoch_acc_prec*100:.2f}  | Val.  F1: {valid_epoch_acc_f1*100:.2f}%')"
      ],
      "metadata": {
        "id": "ssv3IBzFLUlM",
        "colab": {
          "base_uri": "https://localhost:8080/"
        },
        "outputId": "41cf6b22-1c0c-4ebb-fcf4-d1c37db24aea"
      },
      "execution_count": 62,
      "outputs": [
        {
          "output_type": "stream",
          "name": "stdout",
          "text": [
            "Epoch: 01 | Epoch Time: 0m 24s\n",
            "\tTrain Loss: 0.869 | Train Precision: 76.51  | Train Recall: 76.51  | Train F1: 64.75%\n",
            "\t Val. Loss: 0.760 |  Val. Precision: 80.84  | Val. Recall: 80.84  | Val.  F1: 70.88%\n",
            "Epoch: 02 | Epoch Time: 0m 24s\n",
            "\tTrain Loss: 0.736 | Train Precision: 74.42  | Train Recall: 74.42  | Train F1: 69.18%\n",
            "\t Val. Loss: 0.730 |  Val. Precision: 81.61  | Val. Recall: 81.61  | Val.  F1: 72.09%\n",
            "Epoch: 03 | Epoch Time: 0m 24s\n",
            "\tTrain Loss: 0.677 | Train Precision: 77.02  | Train Recall: 77.02  | Train F1: 72.58%\n",
            "\t Val. Loss: 0.705 |  Val. Precision: 79.91  | Val. Recall: 79.91  | Val.  F1: 72.47%\n",
            "Epoch: 04 | Epoch Time: 0m 24s\n",
            "\tTrain Loss: 0.589 | Train Precision: 79.70  | Train Recall: 79.70  | Train F1: 76.72%\n",
            "\t Val. Loss: 0.649 |  Val. Precision: 74.48  | Val. Recall: 74.48  | Val.  F1: 72.05%\n",
            "Epoch: 05 | Epoch Time: 0m 24s\n",
            "\tTrain Loss: 0.513 | Train Precision: 81.83  | Train Recall: 81.83  | Train F1: 79.88%\n",
            "\t Val. Loss: 0.765 |  Val. Precision: 75.58  | Val. Recall: 75.58  | Val.  F1: 70.72%\n",
            "Epoch: 06 | Epoch Time: 0m 24s\n",
            "\tTrain Loss: 0.466 | Train Precision: 83.81  | Train Recall: 83.81  | Train F1: 82.10%\n",
            "\t Val. Loss: 0.699 |  Val. Precision: 73.39  | Val. Recall: 73.39  | Val.  F1: 72.11%\n",
            "Epoch: 07 | Epoch Time: 0m 24s\n",
            "\tTrain Loss: 0.398 | Train Precision: 86.18  | Train Recall: 86.18  | Train F1: 84.97%\n",
            "\t Val. Loss: 0.711 |  Val. Precision: 74.77  | Val. Recall: 74.77  | Val.  F1: 73.45%\n",
            "Epoch: 08 | Epoch Time: 0m 24s\n",
            "\tTrain Loss: 0.345 | Train Precision: 87.82  | Train Recall: 87.82  | Train F1: 86.77%\n",
            "\t Val. Loss: 0.776 |  Val. Precision: 74.62  | Val. Recall: 74.62  | Val.  F1: 72.73%\n",
            "Epoch: 09 | Epoch Time: 0m 24s\n",
            "\tTrain Loss: 0.305 | Train Precision: 89.44  | Train Recall: 89.44  | Train F1: 88.60%\n",
            "\t Val. Loss: 0.801 |  Val. Precision: 74.69  | Val. Recall: 74.69  | Val.  F1: 71.85%\n",
            "Epoch: 10 | Epoch Time: 0m 24s\n",
            "\tTrain Loss: 0.274 | Train Precision: 90.55  | Train Recall: 90.55  | Train F1: 89.66%\n",
            "\t Val. Loss: 0.888 |  Val. Precision: 72.95  | Val. Recall: 72.95  | Val.  F1: 71.12%\n",
            "Epoch: 11 | Epoch Time: 0m 24s\n",
            "\tTrain Loss: 0.236 | Train Precision: 92.06  | Train Recall: 92.06  | Train F1: 91.40%\n",
            "\t Val. Loss: 0.995 |  Val. Precision: 71.36  | Val. Recall: 71.36  | Val.  F1: 70.17%\n",
            "Epoch: 12 | Epoch Time: 0m 24s\n",
            "\tTrain Loss: 0.202 | Train Precision: 93.11  | Train Recall: 93.11  | Train F1: 92.59%\n",
            "\t Val. Loss: 0.881 |  Val. Precision: 73.43  | Val. Recall: 73.43  | Val.  F1: 71.67%\n",
            "Epoch: 13 | Epoch Time: 0m 24s\n",
            "\tTrain Loss: 0.180 | Train Precision: 93.99  | Train Recall: 93.99  | Train F1: 93.43%\n",
            "\t Val. Loss: 1.041 |  Val. Precision: 72.02  | Val. Recall: 72.02  | Val.  F1: 70.37%\n",
            "Epoch: 14 | Epoch Time: 0m 24s\n",
            "\tTrain Loss: 0.159 | Train Precision: 94.61  | Train Recall: 94.61  | Train F1: 94.20%\n",
            "\t Val. Loss: 1.218 |  Val. Precision: 72.56  | Val. Recall: 72.56  | Val.  F1: 71.48%\n",
            "Epoch: 15 | Epoch Time: 0m 24s\n",
            "\tTrain Loss: 0.145 | Train Precision: 95.20  | Train Recall: 95.20  | Train F1: 94.83%\n",
            "\t Val. Loss: 1.190 |  Val. Precision: 71.79  | Val. Recall: 71.79  | Val.  F1: 70.70%\n"
          ]
        }
      ]
    },
    {
      "cell_type": "code",
      "source": [
        "model6.load_state_dict(torch.load('best-model6.pt'))\n",
        "\n",
        "test_epoch_acc_f1 = 0\n",
        "test_epoch_acc_rec = 0\n",
        "test_epoch_acc_prec = 0\n",
        "test_loss, test_epoch_acc_prec,test_epoch_acc_rec,test_epoch_acc_f1 = evaluate2(model6, test_iterator, criterion)\n",
        "\n",
        "print(f'Test Loss: {test_loss:.3f} |  Test. Precision: {test_epoch_acc_prec*100:.2f}  | Test. Recall: {test_epoch_acc_prec*100:.2f}  | Test.  F1: {test_epoch_acc_f1*100:.2f}%')"
      ],
      "metadata": {
        "id": "LpeJ6EAwULJ5",
        "colab": {
          "base_uri": "https://localhost:8080/"
        },
        "outputId": "43aaefd5-a5c4-46e4-f3e1-d223153411e3"
      },
      "execution_count": 63,
      "outputs": [
        {
          "output_type": "stream",
          "name": "stdout",
          "text": [
            "Test Loss: 0.658 |  Test. Precision: 73.44  | Test. Recall: 73.44  | Test.  F1: 71.84%\n"
          ]
        }
      ]
    },
    {
      "cell_type": "code",
      "source": [
        "plt.plot(losslist12)\n",
        "plt.xlabel(\"Epochs\", fontsize=15)\n",
        "plt.ylabel(\"Cross Entropy Loss\", fontsize=15)\n",
        "plt.show()"
      ],
      "metadata": {
        "id": "bJ2bVKt5UPde",
        "colab": {
          "base_uri": "https://localhost:8080/",
          "height": 284
        },
        "outputId": "d537ef40-d8a5-4138-a05f-0cbcf4a40666"
      },
      "execution_count": 64,
      "outputs": [
        {
          "output_type": "display_data",
          "data": {
            "image/png": "[encoded data removed]",
            "text/plain": [
              "<Figure size 432x288 with 1 Axes>"
            ]
          },
          "metadata": {
            "needs_background": "light"
          }
        }
      ]
    },
    {
      "cell_type": "code",
      "source": [
        "BATCH_SIZE = 512\n",
        "\n",
        "train_iterator, validation_iterator, test_iterator = data.BucketIterator.splits(\n",
        "    (train_df, valid_df, test_df),\n",
        "    batch_size = BATCH_SIZE,\n",
        "    device = device,sort_within_batch=True,\n",
        "    sort_key = lambda x: len(x.tweet)\n",
        ")"
      ],
      "metadata": {
        "id": "0PPmczYlcnW0"
      },
      "execution_count": 65,
      "outputs": []
    },
    {
      "cell_type": "code",
      "source": [
        "input_d = len(TWEET.vocab) # # 25002\n",
        "embedding_d = 100#same as dimension of glove vectors\n",
        "hidden_d = 256\n",
        "output_d = len(LABEL.vocab.stoi)\n",
        "layers_num = 2\n",
        "bidirectional = True\n",
        "dropout = 0.7\n",
        "padding = TWEET.vocab.stoi[TWEET.pad_token] # 0\n",
        "\n",
        "model7 = RNNLSTMA(input_d, \n",
        "            embedding_d, \n",
        "            hidden_d, \n",
        "            output_d, \n",
        "            layers_num, \n",
        "            bidirectional, \n",
        "            dropout , \n",
        "            padding)\n",
        "model7\n"
      ],
      "metadata": {
        "id": "1buxKrijcs51",
        "colab": {
          "base_uri": "https://localhost:8080/"
        },
        "outputId": "0980038f-2b00-4a03-f0bb-da5b1d2e719c"
      },
      "execution_count": 66,
      "outputs": [
        {
          "output_type": "execute_result",
          "data": {
            "text/plain": [
              "RNNLSTMA(\n",
              "  (embeds): Embedding(21668, 100, padding_idx=1)\n",
              "  (lstma): LSTM(100, 256, num_layers=2, dropout=0.7, bidirectional=True)\n",
              "  (mha): MultiheadAttention(\n",
              "    (out_proj): NonDynamicallyQuantizableLinear(in_features=512, out_features=512, bias=True)\n",
              "  )\n",
              "  (dropout): Dropout(p=0.7, inplace=False)\n",
              "  (fc): Linear(in_features=512, out_features=3, bias=True)\n",
              ")"
            ]
          },
          "metadata": {},
          "execution_count": 66
        }
      ]
    },
    {
      "cell_type": "code",
      "source": [
        "def count_trainable_params(modelx):\n",
        "  return sum(p.numel() for p in modelx.parameters() if p.requires_grad)\n",
        "\n",
        "print(f'The model has  {count_trainable_params(model4):,} trainable parameters')\n",
        "model7.embeds.weight.data.copy_(pretrained_embeddings)\n",
        "optimizer = torch.optim.Adam(model7.parameters())\n",
        "model7 = model7.to(device)\n",
        "criterion = criterion.to(device)\n",
        "for i in range(2):\n",
        "  model7.embeds.weight.data[i] = torch.zeros(embedding_d)\n",
        "model7.embeds.weight.data\n",
        "optimizer = torch.optim.Adam(model7.parameters())\n",
        "model7 = model7.to(device)"
      ],
      "metadata": {
        "id": "AuQnLKljczbI",
        "colab": {
          "base_uri": "https://localhost:8080/"
        },
        "outputId": "a89dfefb-9e69-452f-aad7-f45e99ff9323"
      },
      "execution_count": 67,
      "outputs": [
        {
          "output_type": "stream",
          "name": "stdout",
          "text": [
            "The model has  4,478,483 trainable parameters\n"
          ]
        }
      ]
    },
    {
      "cell_type": "code",
      "source": [
        "N_EPOCHS = 15\n",
        "best_valid_loss = float('inf')\n",
        "losslist13 = []\n",
        "losslist14 = []\n",
        "train_epoch_acc_f1 = 0\n",
        "train_epoch_acc_rec = 0\n",
        "train_epoch_acc_prec = 0\n",
        "valid_epoch_acc_f1 = 0\n",
        "valid_epoch_acc_rec = 0\n",
        "valid_epoch_acc_prec = 0\n",
        "for epoch in range(N_EPOCHS):\n",
        "    start_time = time.time()\n",
        "    train_loss, train_epoch_acc_prec ,train_epoch_acc_rec ,train_epoch_acc_f1  = train2(model7, train_iterator, optimizer, criterion)\n",
        "    valid_loss, valid_epoch_acc_prec ,valid_epoch_acc_rec ,valid_epoch_acc_f1  = evaluate2(model7, validation_iterator, criterion)\n",
        "    end_time = time.time()\n",
        "    epoch_mins, epoch_secs = epoch_time(start_time, end_time)\n",
        "    losslist13.append(train_loss)\n",
        "    losslist14.append(valid_loss)\n",
        "    if valid_loss < best_valid_loss:\n",
        "        best_valid_loss = valid_loss\n",
        "        torch.save(model7.state_dict(), 'best-model7.pt')\n",
        "    print(f'Epoch: {epoch+1:02} | Epoch Time: {epoch_mins}m {epoch_secs}s')\n",
        "    print(f'\\tTrain Loss: {train_loss:.3f} | Train Precision: {train_epoch_acc_prec*100:.2f}  | Train Recall: {train_epoch_acc_prec*100:.2f}  | Train F1: {train_epoch_acc_f1*100:.2f}%')\n",
        "    print(f'\\t Val. Loss: {valid_loss:.3f} |  Val. Precision: {valid_epoch_acc_prec*100:.2f}  | Val. Recall: {valid_epoch_acc_prec*100:.2f}  | Val.  F1: {valid_epoch_acc_f1*100:.2f}%')"
      ],
      "metadata": {
        "id": "ANgjQ-mzc9pJ",
        "colab": {
          "base_uri": "https://localhost:8080/"
        },
        "outputId": "5923c311-5427-4ad4-d93f-5edbd4b30b48"
      },
      "execution_count": 68,
      "outputs": [
        {
          "output_type": "stream",
          "name": "stdout",
          "text": [
            "Epoch: 01 | Epoch Time: 0m 6s\n",
            "\tTrain Loss: 1.049 | Train Precision: 89.97  | Train Recall: 89.97  | Train F1: 58.88%\n",
            "\t Val. Loss: 0.986 |  Val. Precision: 71.25  | Val. Recall: 71.25  | Val.  F1: 59.84%\n",
            "Epoch: 02 | Epoch Time: 0m 6s\n",
            "\tTrain Loss: 0.931 | Train Precision: 68.47  | Train Recall: 68.47  | Train F1: 60.22%\n",
            "\t Val. Loss: 0.890 |  Val. Precision: 73.09  | Val. Recall: 73.09  | Val.  F1: 65.17%\n",
            "Epoch: 03 | Epoch Time: 0m 6s\n",
            "\tTrain Loss: 0.888 | Train Precision: 72.52  | Train Recall: 72.52  | Train F1: 62.18%\n",
            "\t Val. Loss: 0.850 |  Val. Precision: 67.16  | Val. Recall: 67.16  | Val.  F1: 63.49%\n",
            "Epoch: 04 | Epoch Time: 0m 6s\n",
            "\tTrain Loss: 0.851 | Train Precision: 70.67  | Train Recall: 70.67  | Train F1: 64.16%\n",
            "\t Val. Loss: 0.857 |  Val. Precision: 72.97  | Val. Recall: 72.97  | Val.  F1: 65.77%\n",
            "Epoch: 05 | Epoch Time: 0m 6s\n",
            "\tTrain Loss: 0.824 | Train Precision: 70.85  | Train Recall: 70.85  | Train F1: 65.87%\n",
            "\t Val. Loss: 0.804 |  Val. Precision: 76.18  | Val. Recall: 76.18  | Val.  F1: 69.03%\n",
            "Epoch: 06 | Epoch Time: 0m 6s\n",
            "\tTrain Loss: 0.794 | Train Precision: 72.01  | Train Recall: 72.01  | Train F1: 66.31%\n",
            "\t Val. Loss: 0.780 |  Val. Precision: 78.15  | Val. Recall: 78.15  | Val.  F1: 68.82%\n",
            "Epoch: 07 | Epoch Time: 0m 6s\n",
            "\tTrain Loss: 0.766 | Train Precision: 71.64  | Train Recall: 71.64  | Train F1: 67.55%\n",
            "\t Val. Loss: 0.753 |  Val. Precision: 78.17  | Val. Recall: 78.17  | Val.  F1: 71.06%\n",
            "Epoch: 08 | Epoch Time: 0m 6s\n",
            "\tTrain Loss: 0.752 | Train Precision: 74.01  | Train Recall: 74.01  | Train F1: 69.02%\n",
            "\t Val. Loss: 0.737 |  Val. Precision: 74.88  | Val. Recall: 74.88  | Val.  F1: 69.16%\n",
            "Epoch: 09 | Epoch Time: 0m 6s\n",
            "\tTrain Loss: 0.738 | Train Precision: 72.56  | Train Recall: 72.56  | Train F1: 69.07%\n",
            "\t Val. Loss: 0.739 |  Val. Precision: 81.07  | Val. Recall: 81.07  | Val.  F1: 72.08%\n",
            "Epoch: 10 | Epoch Time: 0m 6s\n",
            "\tTrain Loss: 0.719 | Train Precision: 74.76  | Train Recall: 74.76  | Train F1: 70.41%\n",
            "\t Val. Loss: 0.711 |  Val. Precision: 76.24  | Val. Recall: 76.24  | Val.  F1: 71.12%\n",
            "Epoch: 11 | Epoch Time: 0m 6s\n",
            "\tTrain Loss: 0.707 | Train Precision: 74.13  | Train Recall: 74.13  | Train F1: 70.80%\n",
            "\t Val. Loss: 0.704 |  Val. Precision: 73.25  | Val. Recall: 73.25  | Val.  F1: 70.10%\n",
            "Epoch: 12 | Epoch Time: 0m 6s\n",
            "\tTrain Loss: 0.704 | Train Precision: 75.17  | Train Recall: 75.17  | Train F1: 71.30%\n",
            "\t Val. Loss: 0.690 |  Val. Precision: 76.77  | Val. Recall: 76.77  | Val.  F1: 72.42%\n",
            "Epoch: 13 | Epoch Time: 0m 6s\n",
            "\tTrain Loss: 0.681 | Train Precision: 74.46  | Train Recall: 74.46  | Train F1: 71.73%\n",
            "\t Val. Loss: 0.717 |  Val. Precision: 75.07  | Val. Recall: 75.07  | Val.  F1: 69.06%\n",
            "Epoch: 14 | Epoch Time: 0m 6s\n",
            "\tTrain Loss: 0.678 | Train Precision: 74.90  | Train Recall: 74.90  | Train F1: 72.22%\n",
            "\t Val. Loss: 0.710 |  Val. Precision: 82.29  | Val. Recall: 82.29  | Val.  F1: 71.61%\n",
            "Epoch: 15 | Epoch Time: 0m 6s\n",
            "\tTrain Loss: 0.656 | Train Precision: 74.94  | Train Recall: 74.94  | Train F1: 72.61%\n",
            "\t Val. Loss: 0.659 |  Val. Precision: 74.64  | Val. Recall: 74.64  | Val.  F1: 72.77%\n"
          ]
        }
      ]
    },
    {
      "cell_type": "code",
      "source": [
        "model7.load_state_dict(torch.load('best-model7.pt'))\n",
        "\n",
        "test_epoch_acc_f1 = 0\n",
        "test_epoch_acc_rec = 0\n",
        "test_epoch_acc_prec = 0\n",
        "test_loss, test_epoch_acc_prec,test_epoch_acc_rec,test_epoch_acc_f1 = evaluate2(model7, test_iterator, criterion)\n",
        "\n",
        "print(f'Test Loss: {test_loss:.3f} |  Test. Precision: {test_epoch_acc_prec*100:.2f}  | Test. Recall: {test_epoch_acc_prec*100:.2f}  | Test.  F1: {test_epoch_acc_f1*100:.2f}%')"
      ],
      "metadata": {
        "id": "iHSJlFcidBnl",
        "colab": {
          "base_uri": "https://localhost:8080/"
        },
        "outputId": "802c2ddc-54d5-4531-adb3-643cb241f4c7"
      },
      "execution_count": 69,
      "outputs": [
        {
          "output_type": "stream",
          "name": "stdout",
          "text": [
            "Test Loss: 0.658 |  Test. Precision: 77.01  | Test. Recall: 77.01  | Test.  F1: 74.55%\n"
          ]
        }
      ]
    },
    {
      "cell_type": "code",
      "source": [
        "plt.plot(losslist14)\n",
        "plt.xlabel(\"Epochs\", fontsize=15)\n",
        "plt.ylabel(\"Cross Entropy Loss\", fontsize=15)\n",
        "plt.show()"
      ],
      "metadata": {
        "id": "prmQWQdTc5R2",
        "colab": {
          "base_uri": "https://localhost:8080/",
          "height": 287
        },
        "outputId": "a1143b53-aaec-4500-c486-9abd9d825725"
      },
      "execution_count": 70,
      "outputs": [
        {
          "output_type": "display_data",
          "data": {
            "image/png": "[encoded data removed]",
            "text/plain": [
              "<Figure size 432x288 with 1 Axes>"
            ]
          },
          "metadata": {
            "needs_background": "light"
          }
        }
      ]
    },
    {
      "cell_type": "markdown",
      "source": [
        "##Conclusion\n",
        "###I observe that increasing the number of epochs is reducing the efficiency of the models(overfitting of the training set).Also , increasing or decreasing the learning rate doesn't play much role in the results of the models.Additional hidden dimension is not good for our model too.Another interesting observation is that LSTM with attention produces very high precision scores of the first two epochs of the training(on validation set).It could probably mean that batch size was helping enough in determining the accuracy on validation set.The problem is that f1 is quite low on that occasion(only 60%) and the loss is very high.It shows that those results are misleading and unreliable on that stage, so we need more epochs for better results.Finally , increasing the batch size is a little beneficial for the model's perfomance.In addition,reducing the droppout value to 0.3 is seen as not beneficial for the model's result.On the other hand , increasing that value to 0.7 is showing 1% better results.\n",
        "###Comparing to the previous assignment , the results are slightly better (10% more accuracy with better f1 score) which is quite satisfying.The loss here is quite greater than the previous assignment , but this may be because I used BCE Loss on previous assignment and also I did not depend on validation set for the loss.Nevertheless, the results are obviously better here "
      ],
      "metadata": {
        "id": "eF51ZPXFaPMS"
      }
    },
    {
      "cell_type": "markdown",
      "source": [
        "### Regarding the roc curve scores ,they are also better here.As you see below the roc score is 0.75 when previously was 0.7.As we know,classifiers that give curves closer to the top left corner indicate a better performance. The closer the curve comes to the 45 – degree diagonal of the ROC space , the less accurate the test. As we see at the notebook , the curves are acceptable .Moreover, the classifier produces better true positive rate for 1st class comparing to the other classes.As the area under an ROC curve is a measure of the usefulness of a test in general, where a greater area means a more useful test, the areas under ROC curves are used to compare the usefulness of tests.Class 1 curve covers more area."
      ],
      "metadata": {
        "id": "q1bI-ZOkita8"
      }
    },
    {
      "cell_type": "markdown",
      "source": [
        "##ROC Curve"
      ],
      "metadata": {
        "id": "e9oHpaSqgEAt"
      }
    },
    {
      "cell_type": "code",
      "source": [
        "def get_labels(model, iterator):\n",
        "\n",
        "    list_ypred = []\n",
        "    list_ytrue = []\n",
        "\n",
        "    with torch.no_grad():\n",
        "        model.eval()\n",
        "        for batch in iterator:\n",
        "\n",
        "            tweet, lengths = batch.tweet\n",
        "            pred_y = model(tweet, lengths)\n",
        "            true_y = batch.label.reshape(-1, 1)\n",
        "\n",
        "            list_ypred.append(pred_y)\n",
        "            list_ytrue.append(true_y)\n",
        "    \n",
        "    pred_y_full = torch.cat(list_ypred, dim=0).cpu()\n",
        "    true_y_full = torch.cat(list_ytrue, dim=0).cpu()\n",
        "\n",
        "    return true_y_full, pred_y_full"
      ],
      "metadata": {
        "id": "H8dzON6iUeAJ"
      },
      "execution_count": 71,
      "outputs": []
    },
    {
      "cell_type": "code",
      "source": [
        "def one_hot_encoder(train_labels):\n",
        "    onehot_encoded = list()\n",
        "    for value in train_labels:\n",
        "      letter = [float(0) for _ in range(3)]\n",
        "      letter[int(value)] = float(1)\n",
        "      onehot_encoded.append(letter)\n",
        "    return np.array(onehot_encoded)"
      ],
      "metadata": {
        "id": "R08acSNCavwX"
      },
      "execution_count": 72,
      "outputs": []
    },
    {
      "cell_type": "code",
      "source": [
        "# get the true and predicted labels from the appropriate function\n",
        "Y_test, predict_outs = get_labels(model, validation_iterator)\n",
        "\n",
        "# calculate the fpr and tpr for all thresholds of the classification\n",
        "probs = predict_outs.detach().numpy()\n",
        "\n",
        "# keep probabilities for the positive outcome only\n",
        "ns_probs = [[0,0,0] for _ in range(len(Y_test))]\n",
        "\n",
        "Y_test_tensor =  torch.as_tensor(Y_test, dtype=torch.float32)\n",
        "print(Y_test_tensor)\n",
        "Y_testb = one_hot_encoder(Y_test_tensor)\n",
        "Y_testb = torch.as_tensor(Y_testb, dtype=torch.float32)\n",
        "\n",
        "print(Y_testb)\n",
        "probs = torch.as_tensor(probs, dtype=torch.float32)\n",
        "probs = torch.argmax(probs,dim=1)\n",
        "probs = one_hot_encoder(probs)\n",
        "print(probs)\n",
        "\n",
        "ns_auc = roc_auc_score(Y_testb, ns_probs, multi_class=\"ovr\")\n",
        "lr_auc = roc_auc_score(Y_testb, probs, multi_class=\"ovr\")\n",
        "\n",
        "# summarize scores\n",
        "print('No Skill: ROC AUC=%.3f' % (ns_auc))\n",
        "print('Logistic: ROC AUC=%.3f' % (lr_auc))\n",
        "\n"
      ],
      "metadata": {
        "id": "9jdYtcoVWObt",
        "colab": {
          "base_uri": "https://localhost:8080/"
        },
        "outputId": "908e2955-dcb5-45d5-dcb0-9d63f111c841"
      },
      "execution_count": 73,
      "outputs": [
        {
          "output_type": "stream",
          "name": "stdout",
          "text": [
            "tensor([[2.],\n",
            "        [1.],\n",
            "        [0.],\n",
            "        ...,\n",
            "        [0.],\n",
            "        [2.],\n",
            "        [0.]])\n",
            "tensor([[0., 0., 1.],\n",
            "        [0., 1., 0.],\n",
            "        [1., 0., 0.],\n",
            "        ...,\n",
            "        [1., 0., 0.],\n",
            "        [0., 0., 1.],\n",
            "        [1., 0., 0.]])\n",
            "[[0. 0. 1.]\n",
            " [0. 1. 0.]\n",
            " [1. 0. 0.]\n",
            " ...\n",
            " [1. 0. 0.]\n",
            " [1. 0. 0.]\n",
            " [1. 0. 0.]]\n",
            "No Skill: ROC AUC=0.500\n",
            "Logistic: ROC AUC=0.756\n"
          ]
        }
      ]
    },
    {
      "cell_type": "code",
      "source": [
        "import matplotlib.pyplot as plt\n",
        "from sklearn import svm, datasets\n",
        "from sklearn.model_selection import train_test_split\n",
        "from sklearn.preprocessing import label_binarize\n",
        "from sklearn.metrics import roc_curve, auc\n",
        "from sklearn.multiclass import OneVsRestClassifier\n",
        "import numpy as np\n",
        "import matplotlib.pyplot as plt\n",
        "from itertools import cycle\n",
        "\n",
        "predict_outs = predict_outs.detach().numpy()\n",
        "\n",
        "fpr = dict()\n",
        "tpr = dict()\n",
        "roc_auc = dict()\n",
        "for i in range(3):\n",
        "    fpr[i], tpr[i], _ = roc_curve(Y_testb[:, i],predict_outs[:, i] )\n",
        "    roc_auc[i] = auc(fpr[i], tpr[i])\n",
        "\n",
        "colors = cycle(['blue', 'red', 'green'])\n",
        "for i, color in zip(range(3), colors):\n",
        "    plt.plot(fpr[i], tpr[i], color=color,\n",
        "             label='ROC curve of class {0} (area = {1:0.2f})'\n",
        "             ''.format(i, roc_auc[i]))\n",
        "plt.plot([0, 1], [0, 1], 'k--')\n",
        "plt.xlim([-0.05, 1.0])\n",
        "plt.ylim([0.0, 1.05])\n",
        "plt.xlabel('False Positive Rate')\n",
        "plt.ylabel('True Positive Rate')\n",
        "plt.title('Receiver operating characteristic for multi-class data')\n",
        "plt.legend(loc=\"lower right\")\n",
        "plt.show()"
      ],
      "metadata": {
        "id": "JHz9PwEXcADX",
        "colab": {
          "base_uri": "https://localhost:8080/",
          "height": 295
        },
        "outputId": "b797514a-df6c-4053-c39d-be3dbd3f145d"
      },
      "execution_count": 74,
      "outputs": [
        {
          "output_type": "display_data",
          "data": {
            "image/png": "[encoded data removed]",
            "text/plain": [
              "<Figure size 432x288 with 1 Axes>"
            ]
          },
          "metadata": {
            "needs_background": "light"
          }
        }
      ]
    }
  ],
  "metadata": {
    "colab": {
      "collapsed_sections": [
        "q1bI-ZOkita8"
      ],
      "name": "Ai2_3_final.ipynb",
      "provenance": []
    },
    "kernelspec": {
      "display_name": "Python 3",
      "name": "python3"
    },
    "language_info": {
      "name": "python"
    },
    "accelerator": "GPU"
  },
  "nbformat": 4,
  "nbformat_minor": 0
}