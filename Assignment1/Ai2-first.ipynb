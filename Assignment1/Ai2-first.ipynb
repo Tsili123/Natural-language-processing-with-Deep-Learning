{
 "cells": [
  {
   "cell_type": "markdown",
   "metadata": {},
   "source": [
    "# Softmax Regression Assignment "
   ]
  },
  {
   "cell_type": "markdown",
   "metadata": {},
   "source": [
    "### Assignment to the course Artificial Intelligence 2 - Aris Tsilifonis 1115201700170"
   ]
  },
  {
   "cell_type": "markdown",
   "metadata": {},
   "source": [
    "Importing the libraries for the project "
   ]
  },
  {
   "cell_type": "code",
   "execution_count": 1,
   "metadata": {},
   "outputs": [],
   "source": [
    "# For data manipulation \n",
    "import pandas as pd\n",
    "# For large and multi-dimensional arrays\n",
    "import numpy as np\n",
    "# For data vizualization \n",
    "import matplotlib.pyplot as plt\n",
    "\n",
    "#For algorithms\n",
    "# For ML algorithms\n",
    "#load all necessary libraries\n",
    "from sklearn.model_selection import train_test_split\n",
    "from sklearn.linear_model import LogisticRegression\n",
    "from sklearn.metrics import classification_report\n",
    "from sklearn import metrics \n",
    "from sklearn.metrics import confusion_matrix\n",
    "from sklearn.feature_extraction.text import TfidfVectorizer"
   ]
  },
  {
   "cell_type": "markdown",
   "metadata": {},
   "source": [
    "### Read the csv file for the train and test set"
   ]
  },
  {
   "cell_type": "code",
   "execution_count": 2,
   "metadata": {},
   "outputs": [
    {
     "name": "stdout",
     "output_type": "stream",
     "text": [
      "<class 'pandas.core.frame.DataFrame'>\n",
      "RangeIndex: 15976 entries, 0 to 15975\n",
      "Data columns (total 3 columns):\n",
      " #   Column      Non-Null Count  Dtype \n",
      "---  ------      --------------  ----- \n",
      " 0   Unnamed: 0  15976 non-null  int64 \n",
      " 1   tweet       15976 non-null  object\n",
      " 2   label       15976 non-null  int64 \n",
      "dtypes: int64(2), object(1)\n",
      "memory usage: 374.6+ KB\n"
     ]
    }
   ],
   "source": [
    "\n",
    "df_train = pd.read_csv(\"vaccine_train_set.csv\")\n",
    "df_train.info()"
   ]
  },
  {
   "cell_type": "markdown",
   "metadata": {},
   "source": [
    "# Overview of data"
   ]
  },
  {
   "cell_type": "markdown",
   "metadata": {},
   "source": [
    "#### Getting some general info about them"
   ]
  },
  {
   "cell_type": "code",
   "execution_count": 3,
   "metadata": {},
   "outputs": [
    {
     "name": "stdout",
     "output_type": "stream",
     "text": [
      "<class 'pandas.core.frame.DataFrame'>\n",
      "RangeIndex: 2282 entries, 0 to 2281\n",
      "Data columns (total 3 columns):\n",
      " #   Column      Non-Null Count  Dtype \n",
      "---  ------      --------------  ----- \n",
      " 0   Unnamed: 0  2282 non-null   int64 \n",
      " 1   tweet       2282 non-null   object\n",
      " 2   label       2282 non-null   int64 \n",
      "dtypes: int64(2), object(1)\n",
      "memory usage: 53.6+ KB\n"
     ]
    }
   ],
   "source": [
    "df_test = pd.read_csv(\"vaccine_validation_set.csv\")\n",
    "df_test.info()"
   ]
  },
  {
   "cell_type": "code",
   "execution_count": 4,
   "metadata": {},
   "outputs": [
    {
     "data": {
      "text/html": [
       "<div>\n",
       "<style scoped>\n",
       "    .dataframe tbody tr th:only-of-type {\n",
       "        vertical-align: middle;\n",
       "    }\n",
       "\n",
       "    .dataframe tbody tr th {\n",
       "        vertical-align: top;\n",
       "    }\n",
       "\n",
       "    .dataframe thead th {\n",
       "        text-align: right;\n",
       "    }\n",
       "</style>\n",
       "<table border=\"1\" class=\"dataframe\">\n",
       "  <thead>\n",
       "    <tr style=\"text-align: right;\">\n",
       "      <th></th>\n",
       "      <th>Unnamed: 0</th>\n",
       "      <th>tweet</th>\n",
       "      <th>label</th>\n",
       "    </tr>\n",
       "  </thead>\n",
       "  <tbody>\n",
       "    <tr>\n",
       "      <th>0</th>\n",
       "      <td>0</td>\n",
       "      <td>Sip N Shop Come thru right now #Marjais #Popul...</td>\n",
       "      <td>0</td>\n",
       "    </tr>\n",
       "    <tr>\n",
       "      <th>1</th>\n",
       "      <td>1</td>\n",
       "      <td>I don't know about you but My family and I wil...</td>\n",
       "      <td>1</td>\n",
       "    </tr>\n",
       "    <tr>\n",
       "      <th>2</th>\n",
       "      <td>2</td>\n",
       "      <td>@MSignorile Immunizations should be mandatory....</td>\n",
       "      <td>2</td>\n",
       "    </tr>\n",
       "    <tr>\n",
       "      <th>3</th>\n",
       "      <td>3</td>\n",
       "      <td>President Obama spoke in favor of vaccination ...</td>\n",
       "      <td>0</td>\n",
       "    </tr>\n",
       "    <tr>\n",
       "      <th>4</th>\n",
       "      <td>4</td>\n",
       "      <td>\"@myfoxla: Arizona monitoring hundreds for mea...</td>\n",
       "      <td>0</td>\n",
       "    </tr>\n",
       "  </tbody>\n",
       "</table>\n",
       "</div>"
      ],
      "text/plain": [
       "   Unnamed: 0                                              tweet  label\n",
       "0           0  Sip N Shop Come thru right now #Marjais #Popul...      0\n",
       "1           1  I don't know about you but My family and I wil...      1\n",
       "2           2  @MSignorile Immunizations should be mandatory....      2\n",
       "3           3  President Obama spoke in favor of vaccination ...      0\n",
       "4           4  \"@myfoxla: Arizona monitoring hundreds for mea...      0"
      ]
     },
     "execution_count": 4,
     "metadata": {},
     "output_type": "execute_result"
    }
   ],
   "source": [
    "df_train.head()"
   ]
  },
  {
   "cell_type": "code",
   "execution_count": 5,
   "metadata": {},
   "outputs": [
    {
     "data": {
      "text/html": [
       "<div>\n",
       "<style scoped>\n",
       "    .dataframe tbody tr th:only-of-type {\n",
       "        vertical-align: middle;\n",
       "    }\n",
       "\n",
       "    .dataframe tbody tr th {\n",
       "        vertical-align: top;\n",
       "    }\n",
       "\n",
       "    .dataframe thead th {\n",
       "        text-align: right;\n",
       "    }\n",
       "</style>\n",
       "<table border=\"1\" class=\"dataframe\">\n",
       "  <thead>\n",
       "    <tr style=\"text-align: right;\">\n",
       "      <th></th>\n",
       "      <th>Unnamed: 0</th>\n",
       "      <th>tweet</th>\n",
       "      <th>label</th>\n",
       "    </tr>\n",
       "  </thead>\n",
       "  <tbody>\n",
       "    <tr>\n",
       "      <th>0</th>\n",
       "      <td>0</td>\n",
       "      <td>@user They had a massive surge in with covid d...</td>\n",
       "      <td>1</td>\n",
       "    </tr>\n",
       "    <tr>\n",
       "      <th>1</th>\n",
       "      <td>1</td>\n",
       "      <td>Required vaccines for school: Parents and guar...</td>\n",
       "      <td>0</td>\n",
       "    </tr>\n",
       "    <tr>\n",
       "      <th>2</th>\n",
       "      <td>2</td>\n",
       "      <td>“@KCStar: Two more Johnson County children hav...</td>\n",
       "      <td>0</td>\n",
       "    </tr>\n",
       "    <tr>\n",
       "      <th>3</th>\n",
       "      <td>3</td>\n",
       "      <td>NV can do better. Which states are the best (a...</td>\n",
       "      <td>2</td>\n",
       "    </tr>\n",
       "    <tr>\n",
       "      <th>4</th>\n",
       "      <td>4</td>\n",
       "      <td>Nothing like killing ourselves w/ our own fear...</td>\n",
       "      <td>2</td>\n",
       "    </tr>\n",
       "  </tbody>\n",
       "</table>\n",
       "</div>"
      ],
      "text/plain": [
       "   Unnamed: 0                                              tweet  label\n",
       "0           0  @user They had a massive surge in with covid d...      1\n",
       "1           1  Required vaccines for school: Parents and guar...      0\n",
       "2           2  “@KCStar: Two more Johnson County children hav...      0\n",
       "3           3  NV can do better. Which states are the best (a...      2\n",
       "4           4  Nothing like killing ourselves w/ our own fear...      2"
      ]
     },
     "execution_count": 5,
     "metadata": {},
     "output_type": "execute_result"
    }
   ],
   "source": [
    "df_test.head()"
   ]
  },
  {
   "cell_type": "code",
   "execution_count": 6,
   "metadata": {},
   "outputs": [
    {
     "data": {
      "text/plain": [
       "array([1, 0, 2])"
      ]
     },
     "execution_count": 6,
     "metadata": {},
     "output_type": "execute_result"
    }
   ],
   "source": [
    "df_train.label.unique()\n",
    "df_test.label.unique()"
   ]
  },
  {
   "cell_type": "markdown",
   "metadata": {},
   "source": [
    "### Printing the occurences of the vaccines in train and test dataframe on a barchart"
   ]
  },
  {
   "cell_type": "markdown",
   "metadata": {},
   "source": [
    "#### Train set"
   ]
  },
  {
   "cell_type": "code",
   "execution_count": 7,
   "metadata": {},
   "outputs": [
    {
     "data": {
      "image/png": "[encoded data removed]",
      "text/plain": [
       "<matplotlib.figure.Figure at 0x7f12c4d2da20>"
      ]
     },
     "metadata": {
      "needs_background": "light"
     },
     "output_type": "display_data"
    }
   ],
   "source": [
    "fig, ax = plt.subplots(1, 1)\n",
    "\n",
    "ax.hist(df_train.label.values,range=[0,3],bins=3,edgecolor = 'black')\n",
    "plt.xlabel('label-vaccine', fontsize = 18)\n",
    "plt.ylabel('# of occurrences', fontsize = 18)\n",
    "# Make some labels.\n",
    "rects = ax.patches\n",
    "labels = [\"label_%d\" % i for i in range(len(rects))]\n",
    "  \n",
    "for rect, label in zip(rects, labels):\n",
    "    height = rect.get_height()\n",
    "    ax.text(rect.get_x() + rect.get_width() / 2, height+0.01, label,\n",
    "            ha='center', va='bottom')\n",
    "  \n",
    "# Show plot\n",
    "plt.show()"
   ]
  },
  {
   "cell_type": "markdown",
   "metadata": {},
   "source": [
    "#### test set"
   ]
  },
  {
   "cell_type": "code",
   "execution_count": 8,
   "metadata": {},
   "outputs": [
    {
     "data": {
      "image/png": "[encoded data removed]",
      "text/plain": [
       "<matplotlib.figure.Figure at 0x7f12c4cb5a58>"
      ]
     },
     "metadata": {
      "needs_background": "light"
     },
     "output_type": "display_data"
    }
   ],
   "source": [
    "fig, ax = plt.subplots(1, 1)\n",
    "\n",
    "ax.hist(df_test.label.values,range=[0,3],bins=3,edgecolor = 'black')\n",
    "plt.xlabel('label-vaccine', fontsize = 18)\n",
    "plt.ylabel('# of occurrences', fontsize = 18)\n",
    "# Make some labels.\n",
    "rects = ax.patches\n",
    "labels = [\"label_%d\" % i for i in range(len(rects))]\n",
    "  \n",
    "for rect, label in zip(rects, labels):\n",
    "    height = rect.get_height()\n",
    "    ax.text(rect.get_x() + rect.get_width() / 2, height+0.01, label,\n",
    "            ha='center', va='bottom')\n",
    "  \n",
    "# Show plot\n",
    "plt.show()"
   ]
  },
  {
   "cell_type": "markdown",
   "metadata": {},
   "source": [
    "### Combining the labels with the vaccines to make the dataframe more readable"
   ]
  },
  {
   "cell_type": "code",
   "execution_count": 9,
   "metadata": {},
   "outputs": [
    {
     "data": {
      "text/html": [
       "<div>\n",
       "<style scoped>\n",
       "    .dataframe tbody tr th:only-of-type {\n",
       "        vertical-align: middle;\n",
       "    }\n",
       "\n",
       "    .dataframe tbody tr th {\n",
       "        vertical-align: top;\n",
       "    }\n",
       "\n",
       "    .dataframe thead th {\n",
       "        text-align: right;\n",
       "    }\n",
       "</style>\n",
       "<table border=\"1\" class=\"dataframe\">\n",
       "  <thead>\n",
       "    <tr style=\"text-align: right;\">\n",
       "      <th></th>\n",
       "      <th>Unnamed: 0</th>\n",
       "      <th>tweet</th>\n",
       "      <th>label</th>\n",
       "      <th>vaccine</th>\n",
       "    </tr>\n",
       "  </thead>\n",
       "  <tbody>\n",
       "    <tr>\n",
       "      <th>0</th>\n",
       "      <td>0</td>\n",
       "      <td>Sip N Shop Come thru right now #Marjais #Popul...</td>\n",
       "      <td>0</td>\n",
       "      <td>neutral</td>\n",
       "    </tr>\n",
       "    <tr>\n",
       "      <th>1</th>\n",
       "      <td>1</td>\n",
       "      <td>I don't know about you but My family and I wil...</td>\n",
       "      <td>1</td>\n",
       "      <td>anti-vax</td>\n",
       "    </tr>\n",
       "    <tr>\n",
       "      <th>2</th>\n",
       "      <td>2</td>\n",
       "      <td>@MSignorile Immunizations should be mandatory....</td>\n",
       "      <td>2</td>\n",
       "      <td>pro-vax</td>\n",
       "    </tr>\n",
       "    <tr>\n",
       "      <th>3</th>\n",
       "      <td>3</td>\n",
       "      <td>President Obama spoke in favor of vaccination ...</td>\n",
       "      <td>0</td>\n",
       "      <td>neutral</td>\n",
       "    </tr>\n",
       "    <tr>\n",
       "      <th>4</th>\n",
       "      <td>4</td>\n",
       "      <td>\"@myfoxla: Arizona monitoring hundreds for mea...</td>\n",
       "      <td>0</td>\n",
       "      <td>neutral</td>\n",
       "    </tr>\n",
       "  </tbody>\n",
       "</table>\n",
       "</div>"
      ],
      "text/plain": [
       "   Unnamed: 0                                              tweet  label  \\\n",
       "0           0  Sip N Shop Come thru right now #Marjais #Popul...      0   \n",
       "1           1  I don't know about you but My family and I wil...      1   \n",
       "2           2  @MSignorile Immunizations should be mandatory....      2   \n",
       "3           3  President Obama spoke in favor of vaccination ...      0   \n",
       "4           4  \"@myfoxla: Arizona monitoring hundreds for mea...      0   \n",
       "\n",
       "    vaccine  \n",
       "0   neutral  \n",
       "1  anti-vax  \n",
       "2   pro-vax  \n",
       "3   neutral  \n",
       "4   neutral  "
      ]
     },
     "execution_count": 9,
     "metadata": {},
     "output_type": "execute_result"
    }
   ],
   "source": [
    "# create a list of our conditions\n",
    "conditions = [\n",
    "    (df_train['label'] == 0),\n",
    "    (df_train['label'] == 1),\n",
    "    (df_train['label'] == 2)\n",
    "    ]\n",
    "# create a list of the values we want to assign for each condition\n",
    "values = ['neutral', 'anti-vax', 'pro-vax']\n",
    "\n",
    "# create a new column and use np.select to assign values to it using our lists as arguments\n",
    "df_train['vaccine'] = np.select(conditions, values)\n",
    "\n",
    "# display updated DataFrame\n",
    "df_train.head()\n"
   ]
  },
  {
   "cell_type": "code",
   "execution_count": 10,
   "metadata": {},
   "outputs": [
    {
     "data": {
      "text/html": [
       "<div>\n",
       "<style scoped>\n",
       "    .dataframe tbody tr th:only-of-type {\n",
       "        vertical-align: middle;\n",
       "    }\n",
       "\n",
       "    .dataframe tbody tr th {\n",
       "        vertical-align: top;\n",
       "    }\n",
       "\n",
       "    .dataframe thead th {\n",
       "        text-align: right;\n",
       "    }\n",
       "</style>\n",
       "<table border=\"1\" class=\"dataframe\">\n",
       "  <thead>\n",
       "    <tr style=\"text-align: right;\">\n",
       "      <th></th>\n",
       "      <th>Unnamed: 0</th>\n",
       "      <th>tweet</th>\n",
       "      <th>label</th>\n",
       "      <th>vaccine</th>\n",
       "    </tr>\n",
       "  </thead>\n",
       "  <tbody>\n",
       "    <tr>\n",
       "      <th>0</th>\n",
       "      <td>0</td>\n",
       "      <td>@user They had a massive surge in with covid d...</td>\n",
       "      <td>1</td>\n",
       "      <td>anti-vax</td>\n",
       "    </tr>\n",
       "    <tr>\n",
       "      <th>1</th>\n",
       "      <td>1</td>\n",
       "      <td>Required vaccines for school: Parents and guar...</td>\n",
       "      <td>0</td>\n",
       "      <td>neutral</td>\n",
       "    </tr>\n",
       "    <tr>\n",
       "      <th>2</th>\n",
       "      <td>2</td>\n",
       "      <td>“@KCStar: Two more Johnson County children hav...</td>\n",
       "      <td>0</td>\n",
       "      <td>neutral</td>\n",
       "    </tr>\n",
       "    <tr>\n",
       "      <th>3</th>\n",
       "      <td>3</td>\n",
       "      <td>NV can do better. Which states are the best (a...</td>\n",
       "      <td>2</td>\n",
       "      <td>pro-vax</td>\n",
       "    </tr>\n",
       "    <tr>\n",
       "      <th>4</th>\n",
       "      <td>4</td>\n",
       "      <td>Nothing like killing ourselves w/ our own fear...</td>\n",
       "      <td>2</td>\n",
       "      <td>pro-vax</td>\n",
       "    </tr>\n",
       "  </tbody>\n",
       "</table>\n",
       "</div>"
      ],
      "text/plain": [
       "   Unnamed: 0                                              tweet  label  \\\n",
       "0           0  @user They had a massive surge in with covid d...      1   \n",
       "1           1  Required vaccines for school: Parents and guar...      0   \n",
       "2           2  “@KCStar: Two more Johnson County children hav...      0   \n",
       "3           3  NV can do better. Which states are the best (a...      2   \n",
       "4           4  Nothing like killing ourselves w/ our own fear...      2   \n",
       "\n",
       "    vaccine  \n",
       "0  anti-vax  \n",
       "1   neutral  \n",
       "2   neutral  \n",
       "3   pro-vax  \n",
       "4   pro-vax  "
      ]
     },
     "execution_count": 10,
     "metadata": {},
     "output_type": "execute_result"
    }
   ],
   "source": [
    "# create a list of our conditions\n",
    "conditions = [\n",
    "    (df_test['label'] == 0),\n",
    "    (df_test['label'] == 1),\n",
    "    (df_test['label'] == 2)\n",
    "    ]\n",
    "# create a list of the values we want to assign for each condition\n",
    "values = ['neutral', 'anti-vax', 'pro-vax']\n",
    "\n",
    "# create a new column and use np.select to assign values to it using our lists as arguments\n",
    "df_test['vaccine'] = np.select(conditions, values)\n",
    "\n",
    "# display updated DataFrame\n",
    "df_test.head()\n"
   ]
  },
  {
   "cell_type": "markdown",
   "metadata": {},
   "source": [
    "### Error checking"
   ]
  },
  {
   "cell_type": "code",
   "execution_count": 11,
   "metadata": {},
   "outputs": [
    {
     "data": {
      "text/plain": [
       "Unnamed: 0    0\n",
       "tweet         0\n",
       "label         0\n",
       "vaccine       0\n",
       "dtype: int64"
      ]
     },
     "execution_count": 11,
     "metadata": {},
     "output_type": "execute_result"
    }
   ],
   "source": [
    "#Check for null values\n",
    "#In this case there are no missing values, so no action is needed\n",
    "df_train.isnull().sum()"
   ]
  },
  {
   "cell_type": "code",
   "execution_count": 12,
   "metadata": {},
   "outputs": [
    {
     "data": {
      "text/plain": [
       "Unnamed: 0    0\n",
       "tweet         0\n",
       "label         0\n",
       "vaccine       0\n",
       "dtype: int64"
      ]
     },
     "execution_count": 12,
     "metadata": {},
     "output_type": "execute_result"
    }
   ],
   "source": [
    "df_test.isnull().sum()"
   ]
  },
  {
   "cell_type": "markdown",
   "metadata": {},
   "source": [
    "# Softmax model from sklearn"
   ]
  },
  {
   "cell_type": "markdown",
   "metadata": {},
   "source": [
    "#### I transform tweets to vectors in order to pass them to the model"
   ]
  },
  {
   "cell_type": "code",
   "execution_count": 13,
   "metadata": {},
   "outputs": [],
   "source": [
    "vectorizer = TfidfVectorizer()\n",
    "\n",
    "# use the cv in our sets to convert the words\n",
    "#passing the train and test set and validation set from the csv\n",
    "X_train = vectorizer.fit_transform(df_train['tweet'])\n",
    "X_test = vectorizer.transform(df_test['tweet'])\n",
    "y_train = np.array(df_train['label']).reshape(-1,1)\n",
    "y_test = np.array(df_test['label']).reshape(-1,1)\n",
    "\n",
    "SM_model = LogisticRegression( multi_class='multinomial', solver='lbfgs',max_iter=10000)\n",
    "SM_model.fit(X_train, y_train.ravel())\n",
    "y_predict_lr = SM_model.predict(X_test)"
   ]
  },
  {
   "cell_type": "markdown",
   "metadata": {},
   "source": [
    "Getting coefficients for every class of dataframe"
   ]
  },
  {
   "cell_type": "code",
   "execution_count": 14,
   "metadata": {},
   "outputs": [
    {
     "data": {
      "text/plain": [
       "array([0, 1, 2])"
      ]
     },
     "execution_count": 14,
     "metadata": {},
     "output_type": "execute_result"
    }
   ],
   "source": [
    "SM_model.classes_"
   ]
  },
  {
   "cell_type": "markdown",
   "metadata": {},
   "source": [
    "Όπως βλέπουμε για την κλάση 0 το πρώτο feature δεν έχει μεγάλη απόκλιση από την μέση τιμή (ενδεικτική τιμή 0.2) , σε αντίθεση με το δεύτερο (ενδεικτική τιμή 0.6) όπου έχει πολύ μεγαλύτερη τιμή.Η μέση τιμή στην προκειμένη περίπτωση είναι κλάση 0 , δηλαδή neutral."
   ]
  },
  {
   "cell_type": "code",
   "execution_count": 15,
   "metadata": {},
   "outputs": [
    {
     "data": {
      "text/plain": [
       "array([[ 0.19464865,  0.59153453,  0.11937629, ...,  0.08347811,\n",
       "         0.08347811,  0.08347811],\n",
       "       [-0.20366406, -0.96671771, -0.03702462, ..., -0.02422091,\n",
       "        -0.02422091, -0.02422091],\n",
       "       [ 0.0090154 ,  0.37518318, -0.08235167, ..., -0.05925719,\n",
       "        -0.05925719, -0.05925719]])"
      ]
     },
     "execution_count": 15,
     "metadata": {},
     "output_type": "execute_result"
    }
   ],
   "source": [
    "SM_model.coef_"
   ]
  },
  {
   "cell_type": "markdown",
   "metadata": {},
   "source": [
    "# Confusion matrix"
   ]
  },
  {
   "cell_type": "markdown",
   "metadata": {},
   "source": [
    "Έχτισα τον πίνακα συγκρούσεων για να διαπιστώσω πόσα false positives έχω .Δηλαδή βλέποντας την πρώτη γραμμή του πίνακα βλέπω από τα 1065 neutral tweets 820 προβλέφτηκαν σωστά , 28 περάστηνκαν για antivax και 210 για provax."
   ]
  },
  {
   "cell_type": "code",
   "execution_count": 16,
   "metadata": {},
   "outputs": [
    {
     "data": {
      "text/html": [
       "<div>\n",
       "<style scoped>\n",
       "    .dataframe tbody tr th:only-of-type {\n",
       "        vertical-align: middle;\n",
       "    }\n",
       "\n",
       "    .dataframe tbody tr th {\n",
       "        vertical-align: top;\n",
       "    }\n",
       "\n",
       "    .dataframe thead th {\n",
       "        text-align: right;\n",
       "    }\n",
       "</style>\n",
       "<table border=\"1\" class=\"dataframe\">\n",
       "  <thead>\n",
       "    <tr style=\"text-align: right;\">\n",
       "      <th></th>\n",
       "      <th>neutral, predicted</th>\n",
       "      <th>anti-vax, predicted</th>\n",
       "      <th>pro-vax, predicted</th>\n",
       "      <th>sum</th>\n",
       "    </tr>\n",
       "  </thead>\n",
       "  <tbody>\n",
       "    <tr>\n",
       "      <th>neutral, true</th>\n",
       "      <td>820</td>\n",
       "      <td>28</td>\n",
       "      <td>217</td>\n",
       "      <td>1065</td>\n",
       "    </tr>\n",
       "    <tr>\n",
       "      <th>anti-vax, true</th>\n",
       "      <td>43</td>\n",
       "      <td>130</td>\n",
       "      <td>123</td>\n",
       "      <td>296</td>\n",
       "    </tr>\n",
       "    <tr>\n",
       "      <th>pro-vax, true</th>\n",
       "      <td>170</td>\n",
       "      <td>38</td>\n",
       "      <td>713</td>\n",
       "      <td>921</td>\n",
       "    </tr>\n",
       "    <tr>\n",
       "      <th>sum</th>\n",
       "      <td>1033</td>\n",
       "      <td>196</td>\n",
       "      <td>1053</td>\n",
       "      <td>2282</td>\n",
       "    </tr>\n",
       "  </tbody>\n",
       "</table>\n",
       "</div>"
      ],
      "text/plain": [
       "                neutral, predicted  anti-vax, predicted  pro-vax, predicted  \\\n",
       "neutral, true                  820                   28                 217   \n",
       "anti-vax, true                  43                  130                 123   \n",
       "pro-vax, true                  170                   38                 713   \n",
       "sum                           1033                  196                1053   \n",
       "\n",
       "                 sum  \n",
       "neutral, true   1065  \n",
       "anti-vax, true   296  \n",
       "pro-vax, true    921  \n",
       "sum             2282  "
      ]
     },
     "execution_count": 16,
     "metadata": {},
     "output_type": "execute_result"
    }
   ],
   "source": [
    "confusion_matrix(y_test, y_predict_lr)\n",
    "\n",
    "C = np.array(confusion_matrix(y_test, y_predict_lr))\n",
    "\n",
    "confmtrx = pd.DataFrame(C, index=['neutral, true','anti-vax, true','pro-vax, true'],\n",
    "columns=['neutral, predicted','anti-vax, predicted','pro-vax, predicted'])\n",
    "\n",
    "confmtrx.loc['sum'] = confmtrx.sum()\n",
    "confmtrx['sum'] = confmtrx.sum(axis=1)\n",
    "confmtrx"
   ]
  },
  {
   "cell_type": "markdown",
   "metadata": {},
   "source": [
    "# Accuracy statistics"
   ]
  },
  {
   "cell_type": "markdown",
   "metadata": {},
   "source": [
    "Διαπιστώνω ικανοποιητικά νούμερα για τα train και validation set που χρησιμοποίησα.Βέβαια για την κλάση 1 το recall και το f1 score είναι μικρά, πιθανόν γιατί έχουμε μικρό δείγμα."
   ]
  },
  {
   "cell_type": "code",
   "execution_count": 17,
   "metadata": {},
   "outputs": [
    {
     "name": "stdout",
     "output_type": "stream",
     "text": [
      "Accuracy Score: 0.7287467134092901\n",
      "              precision    recall  f1-score   support\n",
      "\n",
      "           0       0.79      0.77      0.78      1065\n",
      "           1       0.66      0.44      0.53       296\n",
      "           2       0.68      0.77      0.72       921\n",
      "\n",
      "    accuracy                           0.73      2282\n",
      "   macro avg       0.71      0.66      0.68      2282\n",
      "weighted avg       0.73      0.73      0.72      2282\n",
      "\n"
     ]
    }
   ],
   "source": [
    "#Accuracy statistics\n",
    "\n",
    "print('Accuracy Score:', metrics.accuracy_score(y_test, y_predict_lr))  \n",
    "\n",
    "#Create classification report\n",
    "class_report=classification_report(y_test, y_predict_lr)\n",
    "print(class_report)"
   ]
  },
  {
   "cell_type": "markdown",
   "metadata": {},
   "source": [
    "# Learning curves"
   ]
  },
  {
   "cell_type": "markdown",
   "metadata": {},
   "source": [
    "Χρησιμοποιώ samples για να μετρήσω το accuracy του μοντέλου ανάλογα με πόσα δεδομένα το κάνω train.Δημιουργώ μια λίστα από errors ώστε να βλέπω πώς αλλάζουν ανάλογα το training size.Μέσω αυτών θα δημιουργηθούν σημεία , τα αποία θα ενωθούν για να γίνουν οι καμπύλες μάθησης."
   ]
  },
  {
   "cell_type": "markdown",
   "metadata": {},
   "source": [
    "Γενικά οι καμπύλες μάθησης είναι ένα γράφημα που δείχνει χρόνο ή εμπειρία στον άξονα χ και μάθηση ή βελτίωση στον άξονα y.Τα Learning curves (LCs) αποδεικνύονται αποτελεσματικά εργαλεία μελέτης της απόδοσης των workers , όταν τους δίνεται ένα νέο task.Οι καμπύλες μάθησης παρουσιάζουν την διαδικασία μάθησης καθώς επαναλαμβάνονται διαδικασίες."
   ]
  },
  {
   "cell_type": "code",
   "execution_count": 18,
   "metadata": {},
   "outputs": [
    {
     "name": "stdout",
     "output_type": "stream",
     "text": [
      "[0.6260752900042735, 0.6499097071034434, 0.6622365493101543, 0.6613054623384989, 0.6643104877644547, 0.6750864594245549, 0.6768101885666219, 0.6741442979188164, 0.6772197690487081]\n",
      "[0.7077867217255861, 0.7003369335852264, 0.7062719367196986, 0.6949170163672136, 0.6855048831473236, 0.6937325750296243, 0.6850101646668034, 0.6814383404249236, 0.6862713730667358]\n"
     ]
    }
   ],
   "source": [
    "import numpy as np\n",
    "from sklearn.metrics import mean_squared_error, f1_score, precision_score, recall_score\n",
    "# define the sample sizesthat we'll be taking from the dataset\n",
    "sizes = [i * (len(df_train) // 10) for i in range (1,10)]\n",
    "\n",
    "# keep track of the errors\n",
    "err_test_list = []\n",
    "err_train_list = []\n",
    "\n",
    "#iterate all the different sizes\n",
    "for size in sizes:\n",
    "    # create the sets, based on what we did earlier\n",
    "    df_trimmed = df_train.sample(n = size)\n",
    "\n",
    "    #vectorize with min df param\n",
    "    #ignore terms that appear in more than 1% of the documents\n",
    "    vectorizer = TfidfVectorizer(min_df = 0.01)\n",
    "\n",
    "    # use the cv in our sets to convert the words\n",
    "    #use the trimmed csv for the training\n",
    "    X_train = vectorizer.fit_transform(df_trimmed['tweet'])\n",
    "    X_test = vectorizer.transform(df_test['tweet'])\n",
    "    #and the complete validation set from the other csv\n",
    "    y_train = np.array(df_trimmed['label']).reshape(-1,1)\n",
    "    y_test = np.array(df_test['label']).reshape(-1,1)\n",
    "\n",
    "    SM_model = LogisticRegression( multi_class='multinomial', solver='lbfgs',max_iter=10000)\n",
    "    SM_model.fit(X_train, y_train.ravel())\n",
    "    y_test_lr = SM_model.predict(X_test)\n",
    "    y_train_lr = SM_model.predict(X_train)\n",
    "    \n",
    "    err_test = f1_score(y_test, y_test_lr, average='weighted')\n",
    "    err_train = f1_score(y_train, y_train_lr, average='weighted')\n",
    "    # append its last value to the list\n",
    "    err_test_list.append(err_test)\n",
    "    err_train_list.append(err_train)\n",
    "\n",
    "print(err_test_list)\n",
    "print(err_train_list)"
   ]
  },
  {
   "cell_type": "markdown",
   "metadata": {},
   "source": [
    "Το min_df = 0.01 παρατηρώ ότι βοηθάει στην ομαλοποίηση των καμπυλών ώστε να έχουμε μια πιο καλή αποτύπωση των errors"
   ]
  },
  {
   "cell_type": "code",
   "execution_count": 19,
   "metadata": {},
   "outputs": [
    {
     "data": {
      "image/png": "[encoded data removed]",
      "text/plain": [
       "<matplotlib.figure.Figure at 0x7f12c4cba9e8>"
      ]
     },
     "metadata": {
      "needs_background": "light"
     },
     "output_type": "display_data"
    }
   ],
   "source": [
    "#plot the 2 graphs\n",
    "plt.figure(figsize = (12,8))\n",
    "plt.plot(sizes, err_train_list, label='Train')\n",
    "plt.plot(sizes, err_test_list, label=\"val\")\n",
    "plt.legend(loc='best')\n",
    "plt.xlabel(\"Training set size\", fontsize=15)\n",
    "plt.ylabel(\"f1\", rotation=0, fontsize=15)\n",
    "plt.gca().set_ylim([0,1])\n",
    "plt.show()"
   ]
  },
  {
   "cell_type": "markdown",
   "metadata": {},
   "source": [
    "Χαρακτηριστικά των καλών μοντέλων , χωρίς overfit , underfit :"
   ]
  },
  {
   "cell_type": "markdown",
   "metadata": {},
   "source": [
    "### Interpreting the training loss\n",
    "#### Learning curve of a good fit model has a moderately high training loss at the beginning which gradually decreases upon adding training examples and flattens gradually, indicating addition of more training examples doesn’t improve the model performance on training data.\n",
    "### Interpreting the validation loss\n",
    "#### Learning curve of a good fit model has a high validation loss at the beginning which gradually decreases upon adding training examples and flattens gradually, indicating addition of more training examples doesn’t improve the model performance on unseen data.\n",
    "#### We can also see that upon adding a reasonable number of training examples, both the training and validation loss moved close to each other.\n",
    "### Typical features of the learning curve of a good fit model\n",
    "#### Training loss and Validation loss are close to each other with validation loss being slightly greater than the training loss.\n",
    "#### Initially decreasing training and validation loss and a pretty flat training and validation loss after some point till the end."
   ]
  },
  {
   "cell_type": "markdown",
   "metadata": {},
   "source": [
    "Είναι πολύ καλό που σταθεροποιούνται οι καμπύλες καθώς προχωράει το training size καθώς και ότι οι καμπύλες συγκλίνουν σταδιακά.Δηλαδή το ότι το training error μειώνεται φανερώνει ότι δεν έχουμε underfit και το ότι συγκλίνουν οι καμπύλες δείχνει ότι δεν έχουμε overfit."
   ]
  },
  {
   "cell_type": "markdown",
   "metadata": {},
   "source": [
    "## Parameter tweaking"
   ]
  },
  {
   "cell_type": "code",
   "execution_count": 20,
   "metadata": {},
   "outputs": [],
   "source": [
    "vectorizer = TfidfVectorizer()\n",
    "\n",
    "X_train, X_test, y_train, y_test = train_test_split(df_train['tweet'],df_train['label'], test_size = 0.2, random_state = 42)\n",
    "\n",
    "# use the cv in our sets to convert the words\n",
    "X_train = vectorizer.fit_transform(X_train)\n",
    "X_test = vectorizer.transform(X_test)\n",
    "y_train = np.array(y_train).reshape(-1,1)\n",
    "\n",
    "SM_model = LogisticRegression( multi_class='multinomial', solver='lbfgs',max_iter=10000)\n",
    "SM_model.fit(X_train, y_train.ravel())\n",
    "y_predict_lr = SM_model.predict(X_test)"
   ]
  },
  {
   "cell_type": "code",
   "execution_count": 21,
   "metadata": {},
   "outputs": [
    {
     "name": "stdout",
     "output_type": "stream",
     "text": [
      "Accuracy Score: 0.7215269086357947\n",
      "              precision    recall  f1-score   support\n",
      "\n",
      "           0       0.77      0.79      0.78      1488\n",
      "           1       0.67      0.31      0.42       415\n",
      "           2       0.67      0.78      0.72      1293\n",
      "\n",
      "    accuracy                           0.72      3196\n",
      "   macro avg       0.71      0.62      0.64      3196\n",
      "weighted avg       0.72      0.72      0.71      3196\n",
      "\n"
     ]
    }
   ],
   "source": [
    "#Accuracy statistics\n",
    "\n",
    "print('Accuracy Score:', metrics.accuracy_score(y_test, y_predict_lr))  \n",
    "\n",
    "#Create classification report\n",
    "class_report=classification_report(y_test, y_predict_lr)\n",
    "print(class_report)"
   ]
  },
  {
   "cell_type": "code",
   "execution_count": 22,
   "metadata": {},
   "outputs": [
    {
     "name": "stdout",
     "output_type": "stream",
     "text": [
      "[0.6086638218446627, 0.6611103600080942, 0.6551763646367544, 0.6674972995035332, 0.6690421803673866, 0.6865491822101805, 0.6650457903104046, 0.6461134614131739, 0.675364363595122]\n",
      "[0.7263974774513583, 0.7269275440432728, 0.7031809046931669, 0.6940550286659334, 0.6921379814544513, 0.688227128946334, 0.6918901951440729, 0.693119954715522, 0.6892760254833822]\n"
     ]
    }
   ],
   "source": [
    "import numpy as np\n",
    "from sklearn.metrics import mean_squared_error, f1_score, precision_score, recall_score\n",
    "# define the sample sizesthat we'll be taking from the dataset\n",
    "sizes = [i * (len(df_train) // 10) for i in range (1,10)]\n",
    "\n",
    "# keep track of the errors\n",
    "err_test_list = []\n",
    "err_train_list = []\n",
    "\n",
    "#iterate all the different sizes\n",
    "for size in sizes:\n",
    "    # create the sets, based on what we did earlier\n",
    "    df_trimmed = df_train.sample(n = size)\n",
    "\n",
    "    vectorizer = TfidfVectorizer(min_df = 0.01)\n",
    "\n",
    "    X_train, X_test, y_train, y_test = train_test_split(df_trimmed['tweet'],df_trimmed['label'], test_size = 0.2, random_state = 42)\n",
    "\n",
    "    # use the cv in our sets to convert the words\n",
    "    X_train = vectorizer.fit_transform(X_train)\n",
    "    X_test = vectorizer.transform(X_test)\n",
    "    y_train = np.array(y_train).reshape(-1,1)\n",
    "\n",
    "    SM_model = LogisticRegression(multi_class='multinomial', solver='lbfgs',max_iter=10000)\n",
    "    SM_model.fit(X_train, y_train.ravel())\n",
    "    y_test_lr = SM_model.predict(X_test)\n",
    "    y_train_lr = SM_model.predict(X_train)\n",
    "    \n",
    "    err_test = f1_score(y_test, y_test_lr, average='weighted')\n",
    "    err_train = f1_score(y_train, y_train_lr, average='weighted')\n",
    "    # append its last value to the list\n",
    "    err_test_list.append(err_test)\n",
    "    err_train_list.append(err_train)\n",
    "\n",
    "print(err_test_list)\n",
    "print(err_train_list)"
   ]
  },
  {
   "cell_type": "code",
   "execution_count": 23,
   "metadata": {},
   "outputs": [
    {
     "data": {
      "image/png": "[encoded data removed]",
      "text/plain": [
       "<matplotlib.figure.Figure at 0x7f12c4617780>"
      ]
     },
     "metadata": {
      "needs_background": "light"
     },
     "output_type": "display_data"
    }
   ],
   "source": [
    "#plot the 2 graphs\n",
    "plt.figure(figsize = (12,8))\n",
    "plt.plot(sizes, err_train_list, label='Train')\n",
    "plt.plot(sizes, err_test_list, label=\"val\")\n",
    "plt.legend(loc='best')\n",
    "plt.xlabel(\"Training set size\", fontsize=15)\n",
    "plt.ylabel(\"f1\", rotation=0, fontsize=15)\n",
    "plt.gca().set_ylim([0,1])\n",
    "plt.show()"
   ]
  },
  {
   "cell_type": "markdown",
   "metadata": {},
   "source": [
    "Παρατηρώ ότι με train test split δεν έχει μεγάλη διαφορά από όταν βάζουμε το validation set για δοκιμές"
   ]
  },
  {
   "cell_type": "code",
   "execution_count": 24,
   "metadata": {},
   "outputs": [],
   "source": [
    "!pip3 install stopwords\n",
    "import nltk\n",
    "from nltk.corpus import stopwords\n",
    "nltk.download('stopwords')\n",
    "stopwords = set(stopwords.words('english'))"
   ]
  },
  {
   "cell_type": "code",
   "execution_count": 25,
   "metadata": {},
   "outputs": [],
   "source": [
    "vectorizer = TfidfVectorizer(max_df=0.5,sublinear_tf=True,stop_words=stopwords,use_idf=True, ngram_range=(1,2),norm = 'l2',decode_error='ignore',analyzer='word')\n",
    "\n",
    "# use the cv in our sets to convert the words\n",
    "#passing the train and test set and validation set from the csv\n",
    "X_train = vectorizer.fit_transform(df_train['tweet'])\n",
    "X_test = vectorizer.transform(df_test['tweet'])\n",
    "y_train = np.array(df_train['label']).reshape(-1,1)\n",
    "y_test = np.array(df_test['label']).reshape(-1,1)\n",
    "\n",
    "SM_model = LogisticRegression( multi_class='multinomial', solver='saga',max_iter=20000)\n",
    "SM_model.fit(X_train, y_train.ravel())\n",
    "y_predict_lr = SM_model.predict(X_test)"
   ]
  },
  {
   "cell_type": "code",
   "execution_count": 26,
   "metadata": {},
   "outputs": [
    {
     "name": "stdout",
     "output_type": "stream",
     "text": [
      "Accuracy Score: 0.738387379491674\n",
      "              precision    recall  f1-score   support\n",
      "\n",
      "           0       0.82      0.77      0.79      1065\n",
      "           1       0.72      0.40      0.51       296\n",
      "           2       0.67      0.82      0.74       921\n",
      "\n",
      "    accuracy                           0.74      2282\n",
      "   macro avg       0.74      0.66      0.68      2282\n",
      "weighted avg       0.75      0.74      0.73      2282\n",
      "\n"
     ]
    }
   ],
   "source": [
    "#Accuracy statistics\n",
    "\n",
    "print('Accuracy Score:', metrics.accuracy_score(y_test, y_predict_lr))  \n",
    "\n",
    "#Create classification report\n",
    "class_report=classification_report(y_test, y_predict_lr)\n",
    "print(class_report)"
   ]
  },
  {
   "cell_type": "markdown",
   "metadata": {},
   "source": [
    "Παρατηρώ μια μικρή βελτίωση της τάξης του 0.01 στην απόδοση (1%)"
   ]
  },
  {
   "cell_type": "code",
   "execution_count": 27,
   "metadata": {},
   "outputs": [
    {
     "name": "stdout",
     "output_type": "stream",
     "text": [
      "[0.43108744201834653, 0.34596173358408555, 0.4406873641734466, 0.4547854292055047, 0.4266445926149967, 0.42599005574194937, 0.44098996288507497, 0.4230960532988045, 0.4253589758438398, 0.41084464645633834, 0.43852086016920366, 0.4173535167947243, 0.41934866433773865, 0.44307510468815553, 0.4245831265297801, 0.4266788290504341, 0.43721410053896526, 0.4201328499932456, 0.44303371526526736]\n",
      "[0.851037851037851, 0.8884009299922498, 0.8421015465009533, 0.8481211961465571, 0.7961959469380294, 0.817281832095021, 0.7832319483108224, 0.8180422602350124, 0.8252042662314728, 0.863764984929769, 0.7532339138573132, 0.7722062010906271, 0.8112123893373894, 0.7907242522043281, 0.8108311362085069, 0.7984117362100777, 0.7992142382317503, 0.7744467386117975, 0.8001831914281603]\n"
     ]
    }
   ],
   "source": [
    "\n",
    "import numpy as np\n",
    "from sklearn.metrics import mean_squared_error, f1_score, precision_score, recall_score\n",
    "# define the sample sizesthat we'll be taking from the dataset\n",
    "sizes = [i * (len(df_train) // 20) for i in range (1,20)]\n",
    "\n",
    "# keep track of the errors\n",
    "err_test_list = []\n",
    "err_train_list = []\n",
    "\n",
    "#iterate all the different sizes\n",
    "for size in sizes:\n",
    "    # create the sets, based on what we did earlier\n",
    "    df_trimmed = df_train.sample(n = size)\n",
    "\n",
    "    vectorizer = TfidfVectorizer(max_df=1,min_df = 0.00001)\n",
    "\n",
    "    X_train, X_test, y_train, y_test = train_test_split(df_trimmed['tweet'],df_trimmed['label'], test_size = 0.95, random_state = 42)\n",
    "\n",
    "    # use the cv in our sets to convert the words\n",
    "    X_train = vectorizer.fit_transform(X_train)\n",
    "    X_test = vectorizer.transform(X_test)\n",
    "    y_train = np.array(y_train).reshape(-1,1)\n",
    "\n",
    "    SM_model = LogisticRegression(multi_class='multinomial', solver='lbfgs',max_iter=10000)\n",
    "    SM_model.fit(X_train, y_train.ravel())\n",
    "    y_test_lr = SM_model.predict(X_test)\n",
    "    y_train_lr = SM_model.predict(X_train)\n",
    "    \n",
    "    err_test = f1_score(y_test, y_test_lr, average='weighted')\n",
    "    err_train = f1_score(y_train, y_train_lr, average='weighted')\n",
    "    # append its last value to the list\n",
    "    err_test_list.append(err_test)\n",
    "    err_train_list.append(err_train)\n",
    "\n",
    "print(err_test_list)\n",
    "print(err_train_list)"
   ]
  },
  {
   "cell_type": "code",
   "execution_count": 28,
   "metadata": {},
   "outputs": [
    {
     "data": {
      "image/png": "[encoded data removed]",
      "text/plain": [
       "<matplotlib.figure.Figure at 0x7f12b81dcf60>"
      ]
     },
     "metadata": {
      "needs_background": "light"
     },
     "output_type": "display_data"
    }
   ],
   "source": [
    "#plot the 2 graphs\n",
    "plt.figure(figsize = (12,8))\n",
    "plt.plot(sizes, err_train_list, label='Train')\n",
    "plt.plot(sizes, err_test_list, label=\"val\")\n",
    "plt.legend(loc='best')\n",
    "plt.xlabel(\"Training set size\", fontsize=15)\n",
    "plt.ylabel(\"f1\", rotation=0, fontsize=15)\n",
    "plt.gca().set_ylim([0,1])\n",
    "plt.show()"
   ]
  },
  {
   "cell_type": "markdown",
   "metadata": {},
   "source": [
    "Παρατηρώ ότι οι αλλαγές στον vectorizer χαλάνε το σκορ στο validation set"
   ]
  },
  {
   "cell_type": "markdown",
   "metadata": {},
   "source": [
    "## Μερικά πράγματα που έμαθα από την εργασία:\n",
    "#### 1.Πως να μελετάω τα αρχικά δεδομένα για να παίρνω μια γενική ιδέα για αυτά.\n",
    "#### 2.Πως να μαθαίνω να εκτελώ μοντέλα μάθησης(όπως αυτό της softmax λογιστικής παλινδρόμησης ) για να αποκτάω πληροφορίες από αυτά\n",
    "#### 3.Πως να μαθαίνω την απόδοση των δεδομένων και να παρουσιάζω γραφηματα για τα αποτελέσματα τους\n",
    "#### 4.Πως να χρησιμοποιώ τις καμπύλες μάθησης για να βλέπω πως εξελίσσεται η απόδοση του μοντέλου ανάλογα του συνόλου εκπαίδευσης.\n",
    "#### Αυτή είναι πολύ χρίσιμη πληροφορία για να βλέπω τα λάθη του μοντέλου (overfit,underfit, proper fit)\n",
    "#### 5.Πως να πειραματίζομαι με την υλοποίηση μου και να δημιουργώ ένα ολοκληρωμένο report."
   ]
  },
  {
   "cell_type": "markdown",
   "metadata": {},
   "source": [
    "## Βιβλιογραφία :\n",
    "#### https://machinelearningmastery.com/\n",
    "#### http://rasbt.github.io/mlxtend/user_guide/classifier/SoftmaxRegression/\n",
    "#### https://www.kaggle.com/fengdanye/machine-learning-3-logistic-and-softmax-regression\n",
    "#### https://www.dataquest.io/blog/tutorial-add-column-pandas-dataframe-based-on-if-else-condition/\n",
    "#### https://stackoverflow.com/questions/28931224/adding-value-labels-on-a-matplotlib-bar-chart\n",
    "#### https://www.l3harrisgeospatial.com/docs/enviconfusionmatrix.html\n",
    "#### https://towardsdatascience.com/learning-curve-to-identify-overfitting-underfitting-problems-133177f38df5"
   ]
  }
 ],
 "metadata": {
  "interpreter": {
   "hash": "31f2aee4e71d21fbe5cf8b01ff0e069b9275f58929596ceb00d14d90e3e16cd6"
  },
  "kernelspec": {
   "display_name": "Python 3.6.9 64-bit",
   "language": "python",
   "name": "python3"
  },
  "language_info": {
   "codemirror_mode": {
    "name": "ipython",
    "version": 3
   },
   "file_extension": ".py",
   "mimetype": "text/x-python",
   "name": "python",
   "nbconvert_exporter": "python",
   "pygments_lexer": "ipython3",
   "version": "3.6.9"
  },
  "orig_nbformat": 4
 },
 "nbformat": 4,
 "nbformat_minor": 2
}
