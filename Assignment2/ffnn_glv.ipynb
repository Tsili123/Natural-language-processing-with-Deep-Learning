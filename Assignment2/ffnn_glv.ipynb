{
  "nbformat": 4,
  "nbformat_minor": 0,
  "metadata": {
    "colab": {
      "name": "ffnn_glv.ipynb",
      "provenance": [],
      "collapsed_sections": []
    },
    "kernelspec": {
      "name": "python3",
      "display_name": "Python 3"
    },
    "language_info": {
      "name": "python"
    }
  },
  "cells": [
    {
      "cell_type": "markdown",
      "source": [
        "# Άρης Τσιλιφώνης 1115201700170 \n",
        "# Εργασία 2 τεχνητής νοημοσύνης 2(Natural language processing with Deep Learning)"
      ],
      "metadata": {
        "id": "pfH5KBBJ_Jwq"
      }
    },
    {
      "cell_type": "markdown",
      "source": [
        "### Import required libraries for the project"
      ],
      "metadata": {
        "id": "Nv-arqiq_5uU"
      }
    },
    {
      "cell_type": "code",
      "execution_count": 1,
      "metadata": {
        "colab": {
          "base_uri": "https://localhost:8080/"
        },
        "id": "10ney044N0Ik",
        "outputId": "690c8b82-2d5e-4746-a347-19ffd7b61d74"
      },
      "outputs": [
        {
          "output_type": "stream",
          "name": "stdout",
          "text": [
            "[nltk_data] Downloading package brown to /root/nltk_data...\n",
            "[nltk_data]   Package brown is already up-to-date!\n",
            "[nltk_data] Downloading package punkt to /root/nltk_data...\n",
            "[nltk_data]   Package punkt is already up-to-date!\n",
            "[nltk_data] Downloading package wordnet to /root/nltk_data...\n",
            "[nltk_data]   Package wordnet is already up-to-date!\n",
            "[nltk_data] Downloading package averaged_perceptron_tagger to\n",
            "[nltk_data]     /root/nltk_data...\n",
            "[nltk_data]   Package averaged_perceptron_tagger is already up-to-\n",
            "[nltk_data]       date!\n",
            "[nltk_data] Downloading package conll2000 to /root/nltk_data...\n",
            "[nltk_data]   Package conll2000 is already up-to-date!\n",
            "[nltk_data] Downloading package movie_reviews to /root/nltk_data...\n",
            "[nltk_data]   Package movie_reviews is already up-to-date!\n",
            "Finished.\n",
            "[nltk_data] Downloading package stopwords to /root/nltk_data...\n",
            "[nltk_data]   Package stopwords is already up-to-date!\n"
          ]
        }
      ],
      "source": [
        "!python -m textblob.download_corpora\n",
        "# For NN models\n",
        "import torch.nn as nn\n",
        "import torch\n",
        "# For data vizualization \n",
        "import matplotlib as mpl\n",
        "import matplotlib.pyplot as plt\n",
        "# For large and multi-dimensional arrays\n",
        "import numpy as np\n",
        "# For basic cleaning and data preprocessing \n",
        "import re\n",
        "# For data manipulation and analysis\n",
        "import pandas as pd\n",
        "# Stop words\n",
        "import nltk \n",
        "nltk.download('stopwords')  \n",
        "#Data Preprocessing and Feature Engineering\n",
        "from textblob import TextBlob\n",
        "import scipy\n",
        "from nltk.corpus import stopwords\n",
        "from nltk.stem.wordnet import WordNetLemmatizer\n",
        "# Necessary for data format\n",
        "from sklearn.feature_extraction.text import CountVectorizer\n",
        "# Word embedings\n",
        "from sklearn.feature_extraction.text import TfidfVectorizer  \n",
        "# Machine learning model\n",
        "from sklearn.linear_model import LogisticRegression\n",
        "# Metrics\n",
        "from sklearn.metrics import accuracy_score\n",
        "from sklearn.metrics import classification_report,confusion_matrix\n",
        "from sklearn.metrics import precision_recall_fscore_support \n",
        "from sklearn.metrics import precision_score\n",
        "from sklearn.metrics import roc_curve\n",
        "from sklearn.metrics import roc_auc_score\n",
        "# Best parameters during classification\n",
        "from sklearn.model_selection import GridSearchCV\n",
        "# Data preprocessing\n",
        "from sklearn.model_selection import train_test_split\n",
        "# Validation of the model\n",
        "from sklearn.model_selection import KFold\n",
        "from sklearn.model_selection import cross_val_score\n",
        "from sklearn.model_selection import cross_validate\n",
        "import torchtext\n",
        "from torchtext.legacy import data"
      ]
    },
    {
      "cell_type": "markdown",
      "source": [
        "### Mount google drive"
      ],
      "metadata": {
        "id": "iDrLbAY0AD5V"
      }
    },
    {
      "cell_type": "code",
      "source": [
        "from google.colab import drive\n",
        "drive.mount('/content/drive')"
      ],
      "metadata": {
        "colab": {
          "base_uri": "https://localhost:8080/"
        },
        "id": "YGKgJ2xpGke9",
        "outputId": "07892178-0356-46e3-dbba-e1cc8a962c28"
      },
      "execution_count": 2,
      "outputs": [
        {
          "output_type": "stream",
          "name": "stdout",
          "text": [
            "Drive already mounted at /content/drive; to attempt to forcibly remount, call drive.mount(\"/content/drive\", force_remount=True).\n"
          ]
        }
      ]
    },
    {
      "cell_type": "markdown",
      "source": [
        "### Load files to dataframes"
      ],
      "metadata": {
        "id": "ykPV84PFAKir"
      }
    },
    {
      "cell_type": "code",
      "source": [
        "df_train = pd.read_csv(\"/content/drive/My Drive/vaccine_train_set.csv\")\n",
        "df_train.info()"
      ],
      "metadata": {
        "colab": {
          "base_uri": "https://localhost:8080/"
        },
        "id": "AsGr806AGoq1",
        "outputId": "51163daf-225a-4591-b337-c40a904bc6a0"
      },
      "execution_count": 3,
      "outputs": [
        {
          "output_type": "stream",
          "name": "stdout",
          "text": [
            "<class 'pandas.core.frame.DataFrame'>\n",
            "RangeIndex: 15976 entries, 0 to 15975\n",
            "Data columns (total 3 columns):\n",
            " #   Column      Non-Null Count  Dtype \n",
            "---  ------      --------------  ----- \n",
            " 0   Unnamed: 0  15976 non-null  int64 \n",
            " 1   tweet       15976 non-null  object\n",
            " 2   label       15976 non-null  int64 \n",
            "dtypes: int64(2), object(1)\n",
            "memory usage: 374.6+ KB\n"
          ]
        }
      ]
    },
    {
      "cell_type": "code",
      "source": [
        "df_valid = pd.read_csv(\"/content/drive/My Drive/vaccine_validation_set.csv\")"
      ],
      "metadata": {
        "id": "uNUQbokJGrZF"
      },
      "execution_count": 4,
      "outputs": []
    },
    {
      "cell_type": "markdown",
      "source": [
        "### Text processing for better perfomance"
      ],
      "metadata": {
        "id": "iROvKXXrAQP-"
      }
    },
    {
      "cell_type": "code",
      "source": [
        "def tweet_normalization(text):\n",
        "    # convert text to lowercase\n",
        "    text = text.lower()\n",
        "    # remove non alphanumeric character\n",
        "    text = re.sub(r'[^A-Za-z0-9]+', ' ', text)\n",
        "    # remove links\n",
        "    text = re.sub(r'https?:/\\/\\S+', ' ', text)\n",
        "\n",
        "    #apply blob techniques\n",
        "    tweet_blob = TextBlob(text)\n",
        "    #return normalized text\n",
        "    blob_res = ' '.join(tweet_blob.words)\n",
        "    #lematization techniques\n",
        "    lemmatizer = WordNetLemmatizer() \n",
        "    #stop words definition\n",
        "    stop_words = nltk.corpus.stopwords.words('english')\n",
        "    #combine all previous methods in order to clear the text\n",
        "    result = ' '.join(\n",
        "       lemmatizer.lemmatize(term) \n",
        "       for term in text.split()\n",
        "       if term not in set(stop_words)\n",
        "    )\n",
        "    return result"
      ],
      "metadata": {
        "id": "13YLX_vTGt9U"
      },
      "execution_count": 5,
      "outputs": []
    },
    {
      "cell_type": "code",
      "source": [
        "def preprocess(input_df):\n",
        "    # Remove rows with missing values in column col\n",
        "    input_df.dropna(inplace=True)\n",
        "    # Speed up code using numpy vectorization\n",
        "    vfunc = np.vectorize(tweet_normalization)\n",
        "    input_df.tweet = vfunc(input_df.tweet.values)\n",
        "    # return processed input_df\n",
        "    return input_df"
      ],
      "metadata": {
        "id": "cGqz4TxXGv9N"
      },
      "execution_count": 6,
      "outputs": []
    },
    {
      "cell_type": "code",
      "source": [
        "df_train = preprocess(df_train)\n",
        "df_train.head()"
      ],
      "metadata": {
        "colab": {
          "base_uri": "https://localhost:8080/",
          "height": 206
        },
        "id": "_l9GdvcDG-56",
        "outputId": "a189ffff-41f8-4ce0-cd8a-b2c024b52ca8"
      },
      "execution_count": 7,
      "outputs": [
        {
          "output_type": "execute_result",
          "data": {
            "text/html": [
              "\n",
              "  <div id=\"df-7c30710b-3b66-4f32-897f-f4e4263cff1a\">\n",
              "    <div class=\"colab-df-container\">\n",
              "      <div>\n",
              "<style scoped>\n",
              "    .dataframe tbody tr th:only-of-type {\n",
              "        vertical-align: middle;\n",
              "    }\n",
              "\n",
              "    .dataframe tbody tr th {\n",
              "        vertical-align: top;\n",
              "    }\n",
              "\n",
              "    .dataframe thead th {\n",
              "        text-align: right;\n",
              "    }\n",
              "</style>\n",
              "<table border=\"1\" class=\"dataframe\">\n",
              "  <thead>\n",
              "    <tr style=\"text-align: right;\">\n",
              "      <th></th>\n",
              "      <th>Unnamed: 0</th>\n",
              "      <th>tweet</th>\n",
              "      <th>label</th>\n",
              "    </tr>\n",
              "  </thead>\n",
              "  <tbody>\n",
              "    <tr>\n",
              "      <th>0</th>\n",
              "      <td>0</td>\n",
              "      <td>sip n shop come thru right marjais popularnobo...</td>\n",
              "      <td>0</td>\n",
              "    </tr>\n",
              "    <tr>\n",
              "      <th>1</th>\n",
              "      <td>1</td>\n",
              "      <td>know family take covid19 vaccine anytime soon</td>\n",
              "      <td>1</td>\n",
              "    </tr>\n",
              "    <tr>\n",
              "      <th>2</th>\n",
              "      <td>2</td>\n",
              "      <td>msignorile immunization mandatory period oklah...</td>\n",
              "      <td>2</td>\n",
              "    </tr>\n",
              "    <tr>\n",
              "      <th>3</th>\n",
              "      <td>3</td>\n",
              "      <td>president obama spoke favor vaccination child ...</td>\n",
              "      <td>0</td>\n",
              "    </tr>\n",
              "    <tr>\n",
              "      <th>4</th>\n",
              "      <td>4</td>\n",
              "      <td>myfoxla arizona monitoring hundred measles lin...</td>\n",
              "      <td>0</td>\n",
              "    </tr>\n",
              "  </tbody>\n",
              "</table>\n",
              "</div>\n",
              "      <button class=\"colab-df-convert\" onclick=\"convertToInteractive('df-7c30710b-3b66-4f32-897f-f4e4263cff1a')\"\n",
              "              title=\"Convert this dataframe to an interactive table.\"\n",
              "              style=\"display:none;\">\n",
              "        \n",
              "  <svg xmlns=\"http://www.w3.org/2000/svg\" height=\"24px\"viewBox=\"0 0 24 24\"\n",
              "       width=\"24px\">\n",
              "    <path d=\"M0 0h24v24H0V0z\" fill=\"none\"/>\n",
              "    <path d=\"M18.56 5.44l.94 2.06.94-2.06 2.06-.94-2.06-.94-.94-2.06-.94 2.06-2.06.94zm-11 1L8.5 8.5l.94-2.06 2.06-.94-2.06-.94L8.5 2.5l-.94 2.06-2.06.94zm10 10l.94 2.06.94-2.06 2.06-.94-2.06-.94-.94-2.06-.94 2.06-2.06.94z\"/><path d=\"M17.41 7.96l-1.37-1.37c-.4-.4-.92-.59-1.43-.59-.52 0-1.04.2-1.43.59L10.3 9.45l-7.72 7.72c-.78.78-.78 2.05 0 2.83L4 21.41c.39.39.9.59 1.41.59.51 0 1.02-.2 1.41-.59l7.78-7.78 2.81-2.81c.8-.78.8-2.07 0-2.86zM5.41 20L4 18.59l7.72-7.72 1.47 1.35L5.41 20z\"/>\n",
              "  </svg>\n",
              "      </button>\n",
              "      \n",
              "  <style>\n",
              "    .colab-df-container {\n",
              "      display:flex;\n",
              "      flex-wrap:wrap;\n",
              "      gap: 12px;\n",
              "    }\n",
              "\n",
              "    .colab-df-convert {\n",
              "      background-color: #E8F0FE;\n",
              "      border: none;\n",
              "      border-radius: 50%;\n",
              "      cursor: pointer;\n",
              "      display: none;\n",
              "      fill: #1967D2;\n",
              "      height: 32px;\n",
              "      padding: 0 0 0 0;\n",
              "      width: 32px;\n",
              "    }\n",
              "\n",
              "    .colab-df-convert:hover {\n",
              "      background-color: #E2EBFA;\n",
              "      box-shadow: 0px 1px 2px rgba(60, 64, 67, 0.3), 0px 1px 3px 1px rgba(60, 64, 67, 0.15);\n",
              "      fill: #174EA6;\n",
              "    }\n",
              "\n",
              "    [theme=dark] .colab-df-convert {\n",
              "      background-color: #3B4455;\n",
              "      fill: #D2E3FC;\n",
              "    }\n",
              "\n",
              "    [theme=dark] .colab-df-convert:hover {\n",
              "      background-color: #434B5C;\n",
              "      box-shadow: 0px 1px 3px 1px rgba(0, 0, 0, 0.15);\n",
              "      filter: drop-shadow(0px 1px 2px rgba(0, 0, 0, 0.3));\n",
              "      fill: #FFFFFF;\n",
              "    }\n",
              "  </style>\n",
              "\n",
              "      <script>\n",
              "        const buttonEl =\n",
              "          document.querySelector('#df-7c30710b-3b66-4f32-897f-f4e4263cff1a button.colab-df-convert');\n",
              "        buttonEl.style.display =\n",
              "          google.colab.kernel.accessAllowed ? 'block' : 'none';\n",
              "\n",
              "        async function convertToInteractive(key) {\n",
              "          const element = document.querySelector('#df-7c30710b-3b66-4f32-897f-f4e4263cff1a');\n",
              "          const dataTable =\n",
              "            await google.colab.kernel.invokeFunction('convertToInteractive',\n",
              "                                                     [key], {});\n",
              "          if (!dataTable) return;\n",
              "\n",
              "          const docLinkHtml = 'Like what you see? Visit the ' +\n",
              "            '<a target=\"_blank\" href=https://colab.research.google.com/notebooks/data_table.ipynb>data table notebook</a>'\n",
              "            + ' to learn more about interactive tables.';\n",
              "          element.innerHTML = '';\n",
              "          dataTable['output_type'] = 'display_data';\n",
              "          await google.colab.output.renderOutput(dataTable, element);\n",
              "          const docLink = document.createElement('div');\n",
              "          docLink.innerHTML = docLinkHtml;\n",
              "          element.appendChild(docLink);\n",
              "        }\n",
              "      </script>\n",
              "    </div>\n",
              "  </div>\n",
              "  "
            ],
            "text/plain": [
              "   Unnamed: 0                                              tweet  label\n",
              "0           0  sip n shop come thru right marjais popularnobo...      0\n",
              "1           1      know family take covid19 vaccine anytime soon      1\n",
              "2           2  msignorile immunization mandatory period oklah...      2\n",
              "3           3  president obama spoke favor vaccination child ...      0\n",
              "4           4  myfoxla arizona monitoring hundred measles lin...      0"
            ]
          },
          "metadata": {},
          "execution_count": 7
        }
      ]
    },
    {
      "cell_type": "code",
      "source": [
        "df_test = preprocess(df_valid)\n",
        "df_test.head()"
      ],
      "metadata": {
        "colab": {
          "base_uri": "https://localhost:8080/",
          "height": 206
        },
        "id": "_SBr1CppHAgz",
        "outputId": "8edd2c29-5ad5-4e7e-c9ec-c492612de681"
      },
      "execution_count": 8,
      "outputs": [
        {
          "output_type": "execute_result",
          "data": {
            "text/html": [
              "\n",
              "  <div id=\"df-9020fb65-6643-4a5c-872f-3bba761527e9\">\n",
              "    <div class=\"colab-df-container\">\n",
              "      <div>\n",
              "<style scoped>\n",
              "    .dataframe tbody tr th:only-of-type {\n",
              "        vertical-align: middle;\n",
              "    }\n",
              "\n",
              "    .dataframe tbody tr th {\n",
              "        vertical-align: top;\n",
              "    }\n",
              "\n",
              "    .dataframe thead th {\n",
              "        text-align: right;\n",
              "    }\n",
              "</style>\n",
              "<table border=\"1\" class=\"dataframe\">\n",
              "  <thead>\n",
              "    <tr style=\"text-align: right;\">\n",
              "      <th></th>\n",
              "      <th>Unnamed: 0</th>\n",
              "      <th>tweet</th>\n",
              "      <th>label</th>\n",
              "    </tr>\n",
              "  </thead>\n",
              "  <tbody>\n",
              "    <tr>\n",
              "      <th>0</th>\n",
              "      <td>0</td>\n",
              "      <td>user massive surge covid death immediately vac...</td>\n",
              "      <td>1</td>\n",
              "    </tr>\n",
              "    <tr>\n",
              "      <th>1</th>\n",
              "      <td>1</td>\n",
              "      <td>required vaccine school parent guardian child ...</td>\n",
              "      <td>0</td>\n",
              "    </tr>\n",
              "    <tr>\n",
              "      <th>2</th>\n",
              "      <td>2</td>\n",
              "      <td>kcstar two johnson county child measles http c...</td>\n",
              "      <td>0</td>\n",
              "    </tr>\n",
              "    <tr>\n",
              "      <th>3</th>\n",
              "      <td>3</td>\n",
              "      <td>nv better state best worst vaccinating kid htt...</td>\n",
              "      <td>2</td>\n",
              "    </tr>\n",
              "    <tr>\n",
              "      <th>4</th>\n",
              "      <td>4</td>\n",
              "      <td>nothing like killing w fear mt alyssa milano v...</td>\n",
              "      <td>2</td>\n",
              "    </tr>\n",
              "  </tbody>\n",
              "</table>\n",
              "</div>\n",
              "      <button class=\"colab-df-convert\" onclick=\"convertToInteractive('df-9020fb65-6643-4a5c-872f-3bba761527e9')\"\n",
              "              title=\"Convert this dataframe to an interactive table.\"\n",
              "              style=\"display:none;\">\n",
              "        \n",
              "  <svg xmlns=\"http://www.w3.org/2000/svg\" height=\"24px\"viewBox=\"0 0 24 24\"\n",
              "       width=\"24px\">\n",
              "    <path d=\"M0 0h24v24H0V0z\" fill=\"none\"/>\n",
              "    <path d=\"M18.56 5.44l.94 2.06.94-2.06 2.06-.94-2.06-.94-.94-2.06-.94 2.06-2.06.94zm-11 1L8.5 8.5l.94-2.06 2.06-.94-2.06-.94L8.5 2.5l-.94 2.06-2.06.94zm10 10l.94 2.06.94-2.06 2.06-.94-2.06-.94-.94-2.06-.94 2.06-2.06.94z\"/><path d=\"M17.41 7.96l-1.37-1.37c-.4-.4-.92-.59-1.43-.59-.52 0-1.04.2-1.43.59L10.3 9.45l-7.72 7.72c-.78.78-.78 2.05 0 2.83L4 21.41c.39.39.9.59 1.41.59.51 0 1.02-.2 1.41-.59l7.78-7.78 2.81-2.81c.8-.78.8-2.07 0-2.86zM5.41 20L4 18.59l7.72-7.72 1.47 1.35L5.41 20z\"/>\n",
              "  </svg>\n",
              "      </button>\n",
              "      \n",
              "  <style>\n",
              "    .colab-df-container {\n",
              "      display:flex;\n",
              "      flex-wrap:wrap;\n",
              "      gap: 12px;\n",
              "    }\n",
              "\n",
              "    .colab-df-convert {\n",
              "      background-color: #E8F0FE;\n",
              "      border: none;\n",
              "      border-radius: 50%;\n",
              "      cursor: pointer;\n",
              "      display: none;\n",
              "      fill: #1967D2;\n",
              "      height: 32px;\n",
              "      padding: 0 0 0 0;\n",
              "      width: 32px;\n",
              "    }\n",
              "\n",
              "    .colab-df-convert:hover {\n",
              "      background-color: #E2EBFA;\n",
              "      box-shadow: 0px 1px 2px rgba(60, 64, 67, 0.3), 0px 1px 3px 1px rgba(60, 64, 67, 0.15);\n",
              "      fill: #174EA6;\n",
              "    }\n",
              "\n",
              "    [theme=dark] .colab-df-convert {\n",
              "      background-color: #3B4455;\n",
              "      fill: #D2E3FC;\n",
              "    }\n",
              "\n",
              "    [theme=dark] .colab-df-convert:hover {\n",
              "      background-color: #434B5C;\n",
              "      box-shadow: 0px 1px 3px 1px rgba(0, 0, 0, 0.15);\n",
              "      filter: drop-shadow(0px 1px 2px rgba(0, 0, 0, 0.3));\n",
              "      fill: #FFFFFF;\n",
              "    }\n",
              "  </style>\n",
              "\n",
              "      <script>\n",
              "        const buttonEl =\n",
              "          document.querySelector('#df-9020fb65-6643-4a5c-872f-3bba761527e9 button.colab-df-convert');\n",
              "        buttonEl.style.display =\n",
              "          google.colab.kernel.accessAllowed ? 'block' : 'none';\n",
              "\n",
              "        async function convertToInteractive(key) {\n",
              "          const element = document.querySelector('#df-9020fb65-6643-4a5c-872f-3bba761527e9');\n",
              "          const dataTable =\n",
              "            await google.colab.kernel.invokeFunction('convertToInteractive',\n",
              "                                                     [key], {});\n",
              "          if (!dataTable) return;\n",
              "\n",
              "          const docLinkHtml = 'Like what you see? Visit the ' +\n",
              "            '<a target=\"_blank\" href=https://colab.research.google.com/notebooks/data_table.ipynb>data table notebook</a>'\n",
              "            + ' to learn more about interactive tables.';\n",
              "          element.innerHTML = '';\n",
              "          dataTable['output_type'] = 'display_data';\n",
              "          await google.colab.output.renderOutput(dataTable, element);\n",
              "          const docLink = document.createElement('div');\n",
              "          docLink.innerHTML = docLinkHtml;\n",
              "          element.appendChild(docLink);\n",
              "        }\n",
              "      </script>\n",
              "    </div>\n",
              "  </div>\n",
              "  "
            ],
            "text/plain": [
              "   Unnamed: 0                                              tweet  label\n",
              "0           0  user massive surge covid death immediately vac...      1\n",
              "1           1  required vaccine school parent guardian child ...      0\n",
              "2           2  kcstar two johnson county child measles http c...      0\n",
              "3           3  nv better state best worst vaccinating kid htt...      2\n",
              "4           4  nothing like killing w fear mt alyssa milano v...      2"
            ]
          },
          "metadata": {},
          "execution_count": 8
        }
      ]
    },
    {
      "cell_type": "markdown",
      "source": [
        "### Create format field for our dataset "
      ],
      "metadata": {
        "id": "Cd0D35FZAbuS"
      }
    },
    {
      "cell_type": "code",
      "source": [
        "TWEET = data.Field(tokenize = 'spacy', include_lengths=True)\n",
        "\n",
        "LABEL = data.LabelField(dtype = torch.float)\n",
        "\n",
        "# define which fiels we are going to process\n",
        "train_val_fields = [('tweet', TWEET),('label', LABEL)] # process it as tweet,label"
      ],
      "metadata": {
        "id": "5h9GO2qwKAmW"
      },
      "execution_count": 9,
      "outputs": []
    },
    {
      "cell_type": "markdown",
      "source": [
        "testing"
      ],
      "metadata": {
        "id": "bvxecioDAi7f"
      }
    },
    {
      "cell_type": "code",
      "source": [
        "print(df_train.loc[[100]])"
      ],
      "metadata": {
        "colab": {
          "base_uri": "https://localhost:8080/"
        },
        "id": "WCFlmVrInAk-",
        "outputId": "27a79e70-f2d2-4296-bfd1-0a409b791122"
      },
      "execution_count": 10,
      "outputs": [
        {
          "output_type": "stream",
          "name": "stdout",
          "text": [
            "     Unnamed: 0                                tweet  label\n",
            "100         100  psa vaccinate little dirty as child      2\n"
          ]
        }
      ]
    },
    {
      "cell_type": "markdown",
      "source": [
        "### Create dataset"
      ],
      "metadata": {
        "id": "8K5yW7pzBYrM"
      }
    },
    {
      "cell_type": "code",
      "source": [
        "class DataFrameDataset(data.Dataset):\n",
        "\n",
        "    def __init__(self, df, fields, is_test=False):\n",
        "        examples = []\n",
        "        # iterate all the rows in order to create the dataset dict\n",
        "        for _, row in df.iterrows():\n",
        "            label = row.label \n",
        "            tweet = row.tweet\n",
        "            examples.append(data.Example.fromlist([tweet, label], fields))\n",
        "\n",
        "        super().__init__(examples, fields)\n",
        "\n",
        "    # class method in order to return the dataset in an apropriate from\n",
        "    @classmethod\n",
        "    def splits(cls, fields, train_df, test_df=None):\n",
        "        train_data, test_data = (None, None)\n",
        "\n",
        "        train_data = cls(train_df.copy(), fields)\n",
        "        test_data = cls(test_df.copy(), fields, True)\n",
        "\n",
        "        return tuple(d for d in (train_data, test_data))"
      ],
      "metadata": {
        "id": "UlIHtlabj3u1"
      },
      "execution_count": 11,
      "outputs": []
    },
    {
      "cell_type": "code",
      "source": [
        "train_df, test_df = DataFrameDataset.splits(train_val_fields, train_df=df_train, test_df=df_test)"
      ],
      "metadata": {
        "id": "6stuB6V7koZC"
      },
      "execution_count": 12,
      "outputs": []
    },
    {
      "cell_type": "code",
      "source": [
        "print(vars(train_df[100]))"
      ],
      "metadata": {
        "colab": {
          "base_uri": "https://localhost:8080/"
        },
        "id": "V42bu3i2lfQa",
        "outputId": "dfe09040-4fb0-46a4-e719-f0072619167f"
      },
      "execution_count": 13,
      "outputs": [
        {
          "output_type": "stream",
          "name": "stdout",
          "text": [
            "{'tweet': ['psa', 'vaccinate', 'little', 'dirty', 'as', 'child'], 'label': 2}\n"
          ]
        }
      ]
    },
    {
      "cell_type": "markdown",
      "source": [
        "### Create vocabulary and its iterators"
      ],
      "metadata": {
        "id": "JeCTSxWgCCm7"
      }
    },
    {
      "cell_type": "code",
      "source": [
        "vocab_size = 20000\n",
        "# build the vocabulary for both of the fields\n",
        "TWEET.build_vocab(train_df,  max_size = vocab_size, vectors = 'glove.6B.50d', unk_init=torch.Tensor.normal_)\n",
        "\n",
        "LABEL.build_vocab(train_df)"
      ],
      "metadata": {
        "id": "ZYNu9r1QpDzk"
      },
      "execution_count": 14,
      "outputs": []
    },
    {
      "cell_type": "code",
      "source": [
        "# preferebly use gpu\n",
        "device = torch.device('cuda' if torch.cuda.is_available() else 'cpu')\n",
        "\n",
        "# create the 2 iterators\n",
        "train_iterator, valid_iterator = data.BucketIterator.splits((train_df, test_df),batch_size = 128,sort= False, device = device)#I put small batches for better perfomance"
      ],
      "metadata": {
        "id": "dIrHjuJ9qXgf"
      },
      "execution_count": 15,
      "outputs": []
    },
    {
      "cell_type": "code",
      "source": [
        "len(TWEET.vocab)"
      ],
      "metadata": {
        "colab": {
          "base_uri": "https://localhost:8080/"
        },
        "id": "LiRE-u2jq-KA",
        "outputId": "22878b50-98ff-4b1f-dfbb-3a3b6178bb75"
      },
      "execution_count": 16,
      "outputs": [
        {
          "output_type": "execute_result",
          "data": {
            "text/plain": [
              "20002"
            ]
          },
          "metadata": {},
          "execution_count": 16
        }
      ]
    },
    {
      "cell_type": "markdown",
      "source": [
        "## Define Feed forward Neural Network model"
      ],
      "metadata": {
        "id": "VBVeHCEHClCR"
      }
    },
    {
      "cell_type": "code",
      "source": [
        "class Sentiment_Model(nn.Module):\n",
        "  # init function\n",
        "  def __init__(self, input_size, embedding_neurons, hidden_neurons,output):\n",
        "    # initialization of mother class\n",
        "    super(Sentiment_Model, self).__init__()\n",
        "\n",
        "    # embedding layer: input -> embeding [embedding layer for glove vectors]\n",
        "    self.embedding = nn.Embedding(input_size, embedding_neurons)\n",
        "\n",
        "    # 1st linear function: embeding -> hidden_neurons\n",
        "    self.layer_1 = nn.Linear(embedding_neurons, hidden_neurons)\n",
        "    # activation function for 1st layer\n",
        "    self.relu_1 = nn.ReLU()\n",
        "\n",
        "    # output layer: hidden_neurons -> 3 neuros (classification)\n",
        "    self.output = nn.Linear(hidden_neurons, output)\n",
        "    # activation using the sigmoid function\n",
        "    self.activation =  nn.Sigmoid()\n",
        " \n",
        "\n",
        "  def forward(self, x, lengths):\n",
        "\n",
        "    out = self.embedding(x).sum(dim=0)\n",
        "\n",
        "    out = self.layer_1(out)\n",
        "    out = self.relu_1(out)\n",
        "\n",
        "    out = self.output(out)\n",
        "    out = self.activation(out)\n",
        "\n",
        "    return out"
      ],
      "metadata": {
        "id": "NBo4uvOOtBuR"
      },
      "execution_count": 17,
      "outputs": []
    },
    {
      "cell_type": "markdown",
      "source": [
        "### Initialize parameters"
      ],
      "metadata": {
        "id": "DXpYDsJrCwMG"
      }
    },
    {
      "cell_type": "code",
      "source": [
        "#Define layer sizes\n",
        "D_in = len(TWEET.vocab)\n",
        "embedding_neuros = len(TWEET.vocab.vectors[0])\n",
        "H = 128\n",
        "D_out = 3\n",
        "\n",
        "# #Define Hyperparameters\n",
        "learning_rate = 0.01\n",
        "\n",
        "#Initialize model, loss, optimizer\n",
        "model = Sentiment_Model(D_in,embedding_neuros,H, D_out)\n",
        "loss_func = nn.MSELoss(reduction='sum')\n",
        "optimizer = torch.optim.SGD(model.parameters(), lr=learning_rate)\n",
        "\n",
        "# initialize the weights\n",
        "model.embedding.weight.data.copy_(TWEET.vocab.vectors)"
      ],
      "metadata": {
        "colab": {
          "base_uri": "https://localhost:8080/"
        },
        "id": "lw5EGdVitjyq",
        "outputId": "9670d0a8-7267-4acd-e580-51bd22116687"
      },
      "execution_count": 18,
      "outputs": [
        {
          "output_type": "execute_result",
          "data": {
            "text/plain": [
              "tensor([[-0.4595, -1.0170, -0.3225,  ..., -3.0707,  0.7460,  0.3085],\n",
              "        [ 0.2526,  0.9939,  0.1907,  ...,  1.0561,  2.7283, -0.0338],\n",
              "        [ 1.2358, -0.0211,  0.5030,  ...,  0.6742,  0.2743, -0.2233],\n",
              "        ...,\n",
              "        [ 0.4312, -0.9816,  0.0041,  ...,  1.1172, -0.3061, -1.4230],\n",
              "        [ 0.1534, -1.2581,  2.3579,  ...,  0.3486,  0.1710,  0.0486],\n",
              "        [-1.1669,  1.3459, -0.9558,  ...,  0.1423, -2.1708, -1.4410]])"
            ]
          },
          "metadata": {},
          "execution_count": 18
        }
      ]
    },
    {
      "cell_type": "markdown",
      "source": [
        "### Loss function and accuracy score require binary format"
      ],
      "metadata": {
        "id": "dT-X1PsyC7IX"
      }
    },
    {
      "cell_type": "code",
      "source": [
        "def one_hot_encoder(train_labels):\n",
        "    onehot_encoded = list()\n",
        "    for value in train_labels:\n",
        "      letter = [float(0) for _ in range(3)]\n",
        "      letter[int(value)] = float(1)\n",
        "      onehot_encoded.append(letter)\n",
        "    return np.array(onehot_encoded)"
      ],
      "metadata": {
        "id": "EVaAhjNXxQJH"
      },
      "execution_count": 19,
      "outputs": []
    },
    {
      "cell_type": "markdown",
      "source": [
        "### Training function "
      ],
      "metadata": {
        "id": "6BA6SkSBDZpQ"
      }
    },
    {
      "cell_type": "code",
      "source": [
        "def eval_model(model, iterator, optimizer, loss, flag):\n",
        "\n",
        "  epoch_loss = 0\n",
        "  epoch_accuracy = 0\n",
        "  # hold the n of items in the iterator in order to return the mean loss and accuracy\n",
        "  items = 0\n",
        "  epoch_recall = 0\n",
        "  epoch_f1 = 0\n",
        "\n",
        "  # do training only on training set\n",
        "  if(flag==0):\n",
        "    model.train()\n",
        "  \n",
        "  for batch in iterator:\n",
        "    items += 1\n",
        "    # get text info\n",
        "    tweet, len = batch.tweet\n",
        "    # clear gradients\n",
        "    optimizer.zero_grad()\n",
        "\n",
        "    # forward propagation\n",
        "    outputs = model.forward(tweet, len)\n",
        "    \n",
        "    #print(outputs)\n",
        "    yprev_batch = batch.label\n",
        "    batch.label = one_hot_encoder(batch.label)\n",
        "    # model requires data as tensors\n",
        "    batch.label = torch.as_tensor(batch.label, dtype=torch.float32)\n",
        "    #print(batch.label)\n",
        "\n",
        "    # compute loss\n",
        "    ret_loss = loss(outputs, batch.label)\n",
        "    # compute accuracy\n",
        "    # one hot encoding for predictions\n",
        "    y_pred = torch.argmax(outputs,dim=1)    \n",
        "    y_pred = torch.as_tensor(y_pred, dtype=torch.int32)\n",
        "    yprev_batch = torch.flatten(yprev_batch)\n",
        "    yprev_batch = torch.as_tensor(yprev_batch, dtype=torch.int32)\n",
        "    metrics_list = precision_recall_fscore_support( yprev_batch ,y_pred, average='weighted',warn_for=tuple())\n",
        "\n",
        "    # pass gradients back, startiing on loss value\n",
        "    ret_loss.backward()\n",
        "    # update parameters\n",
        "    optimizer.step()\n",
        "    # compute loss and accuracy\n",
        "    epoch_loss += ret_loss.item()\n",
        "    epoch_accuracy += metrics_list[0]\n",
        "    epoch_recall +=  metrics_list[1]\n",
        "    epoch_f1 += metrics_list[2]\n",
        "\n",
        "  return round(epoch_loss/items,4),round(epoch_accuracy/items,4),round(epoch_recall/items,4),round(epoch_f1/items,4)"
      ],
      "metadata": {
        "id": "RfoIxC3ywWrF"
      },
      "execution_count": 20,
      "outputs": []
    },
    {
      "cell_type": "markdown",
      "source": [
        "### Training with epochs"
      ],
      "metadata": {
        "id": "GY4MnhqOEnh2"
      }
    },
    {
      "cell_type": "code",
      "source": [
        "def train(model, epochs, optimizer, iterator, loss,flag):\n",
        "  losses = []\n",
        "  epoch_accuracy = []\n",
        "\n",
        "  for epoch in range(epochs):\n",
        "    epoch_loss, epoch_accuracy , epoch_recall ,epoch_f1 = eval_model(model, iterator, optimizer, loss,flag)\n",
        "    print(\"Epoch: \", epoch, \" loss: \", round(epoch_loss,4), \" precision: \", round(epoch_accuracy, 4), \" recall: \", round(epoch_recall, 4), \" f1_score \", round(epoch_f1, 4))\n",
        "    losses.append(epoch_loss)\n",
        "\n",
        "  return losses,epoch_accuracy"
      ],
      "metadata": {
        "id": "YERVlwLNv0WT"
      },
      "execution_count": 21,
      "outputs": []
    },
    {
      "cell_type": "code",
      "source": [
        "losses,_ = train(model, 20, optimizer, train_iterator, loss_func,0)"
      ],
      "metadata": {
        "colab": {
          "base_uri": "https://localhost:8080/"
        },
        "id": "yhJYABMRwf6a",
        "outputId": "1644110c-00e2-4417-de83-a2c9cb04e6ff"
      },
      "execution_count": 22,
      "outputs": [
        {
          "output_type": "stream",
          "name": "stdout",
          "text": [
            "Epoch:  0  loss:  136.6654  precision:  0.2186  recall:  0.4649  f1_score  0.2967\n",
            "Epoch:  1  loss:  136.288  precision:  0.22  recall:  0.4669  f1_score  0.2985\n",
            "Epoch:  2  loss:  136.288  precision:  0.2198  recall:  0.4667  f1_score  0.2983\n",
            "Epoch:  3  loss:  136.288  precision:  0.2195  recall:  0.467  f1_score  0.2982\n",
            "Epoch:  4  loss:  136.288  precision:  0.2199  recall:  0.4668  f1_score  0.2984\n",
            "Epoch:  5  loss:  136.288  precision:  0.22  recall:  0.4666  f1_score  0.2984\n",
            "Epoch:  6  loss:  136.288  precision:  0.2201  recall:  0.4668  f1_score  0.2985\n",
            "Epoch:  7  loss:  136.288  precision:  0.2194  recall:  0.4668  f1_score  0.2981\n",
            "Epoch:  8  loss:  136.288  precision:  0.2199  recall:  0.4667  f1_score  0.2983\n",
            "Epoch:  9  loss:  136.288  precision:  0.2196  recall:  0.4667  f1_score  0.2982\n",
            "Epoch:  10  loss:  136.288  precision:  0.2206  recall:  0.4668  f1_score  0.2988\n",
            "Epoch:  11  loss:  136.288  precision:  0.2205  recall:  0.4669  f1_score  0.2988\n",
            "Epoch:  12  loss:  136.288  precision:  0.2199  recall:  0.4669  f1_score  0.2984\n",
            "Epoch:  13  loss:  136.288  precision:  0.2194  recall:  0.4668  f1_score  0.2981\n",
            "Epoch:  14  loss:  136.288  precision:  0.2198  recall:  0.4669  f1_score  0.2984\n",
            "Epoch:  15  loss:  136.288  precision:  0.2198  recall:  0.4668  f1_score  0.2983\n",
            "Epoch:  16  loss:  136.288  precision:  0.2198  recall:  0.4669  f1_score  0.2984\n",
            "Epoch:  17  loss:  136.288  precision:  0.2199  recall:  0.4669  f1_score  0.2984\n",
            "Epoch:  18  loss:  136.288  precision:  0.22  recall:  0.4667  f1_score  0.2984\n",
            "Epoch:  19  loss:  136.288  precision:  0.2198  recall:  0.4669  f1_score  0.2984\n"
          ]
        }
      ]
    },
    {
      "cell_type": "markdown",
      "source": [
        "# Diagram MSE/epochs (y/x)"
      ],
      "metadata": {
        "id": "xmDHmaggE35w"
      }
    },
    {
      "cell_type": "code",
      "source": [
        "plt.plot(losses)\n",
        "plt.xlabel(\"Epochs\", fontsize=15)\n",
        "plt.ylabel(\"MSE Loss\", fontsize=15)\n",
        "plt.show()"
      ],
      "metadata": {
        "colab": {
          "base_uri": "https://localhost:8080/",
          "height": 284
        },
        "id": "ttpq0hpp0fkF",
        "outputId": "520323f6-760a-4ce3-b6a3-f298bb3954ae"
      },
      "execution_count": 23,
      "outputs": [
        {
          "output_type": "display_data",
          "data": {
            "image/png": "[encoded data removed]",
            "text/plain": [
              "<Figure size 432x288 with 1 Axes>"
            ]
          },
          "metadata": {
            "needs_background": "light"
          }
        }
      ]
    },
    {
      "cell_type": "markdown",
      "source": [
        "### Define second model"
      ],
      "metadata": {
        "id": "ypMj6ZxgFAKm"
      }
    },
    {
      "cell_type": "code",
      "source": [
        "#Define layer sizes\n",
        "D_in = len(TWEET.vocab)\n",
        "embedding_neuros = 50\n",
        "H = 256\n",
        "D_out = 3\n",
        "\n",
        "# #Define Hyperparameters\n",
        "learning_rate = 0.003\n",
        "\n",
        "#Initialize model, loss, optimizer\n",
        "model2 = Sentiment_Model(D_in,embedding_neuros,H, D_out)\n",
        "loss_func =  nn.BCELoss()\n",
        "optimizer = torch.optim.Adam(model2.parameters(), lr=learning_rate)\n",
        "\n",
        "# initialize the weights\n",
        "model.embedding.weight.data.copy_(TWEET.vocab.vectors)"
      ],
      "metadata": {
        "colab": {
          "base_uri": "https://localhost:8080/"
        },
        "id": "XSF_ZVFE0xrJ",
        "outputId": "471e9796-1560-410e-c7f1-28ad5cd4f118"
      },
      "execution_count": 24,
      "outputs": [
        {
          "output_type": "execute_result",
          "data": {
            "text/plain": [
              "tensor([[-0.4595, -1.0170, -0.3225,  ..., -3.0707,  0.7460,  0.3085],\n",
              "        [ 0.2526,  0.9939,  0.1907,  ...,  1.0561,  2.7283, -0.0338],\n",
              "        [ 1.2358, -0.0211,  0.5030,  ...,  0.6742,  0.2743, -0.2233],\n",
              "        ...,\n",
              "        [ 0.4312, -0.9816,  0.0041,  ...,  1.1172, -0.3061, -1.4230],\n",
              "        [ 0.1534, -1.2581,  2.3579,  ...,  0.3486,  0.1710,  0.0486],\n",
              "        [-1.1669,  1.3459, -0.9558,  ...,  0.1423, -2.1708, -1.4410]])"
            ]
          },
          "metadata": {},
          "execution_count": 24
        }
      ]
    },
    {
      "cell_type": "code",
      "source": [
        "losses,accuracies = train(model2, 20, optimizer, train_iterator, loss_func,0)"
      ],
      "metadata": {
        "colab": {
          "base_uri": "https://localhost:8080/"
        },
        "id": "Y1j_KIQx07eX",
        "outputId": "ca979fc3-f4f6-4ada-e82a-436b85946cf5"
      },
      "execution_count": 25,
      "outputs": [
        {
          "output_type": "stream",
          "name": "stdout",
          "text": [
            "Epoch:  0  loss:  0.7515  precision:  0.5301  recall:  0.5346  f1_score  0.4768\n",
            "Epoch:  1  loss:  0.4691  precision:  0.6537  recall:  0.6606  f1_score  0.6312\n",
            "Epoch:  2  loss:  0.4088  precision:  0.7307  recall:  0.7236  f1_score  0.7045\n",
            "Epoch:  3  loss:  0.3554  precision:  0.7741  recall:  0.7638  f1_score  0.752\n",
            "Epoch:  4  loss:  0.3231  precision:  0.8084  recall:  0.7968  f1_score  0.7881\n",
            "Epoch:  5  loss:  0.294  precision:  0.8309  recall:  0.8143  f1_score  0.809\n",
            "Epoch:  6  loss:  0.2468  precision:  0.8658  recall:  0.8544  f1_score  0.8515\n",
            "Epoch:  7  loss:  0.2191  precision:  0.882  recall:  0.8728  f1_score  0.8703\n",
            "Epoch:  8  loss:  0.1998  precision:  0.8992  recall:  0.8859  f1_score  0.8835\n",
            "Epoch:  9  loss:  0.1604  precision:  0.9148  recall:  0.9085  f1_score  0.9077\n",
            "Epoch:  10  loss:  0.1357  precision:  0.9315  recall:  0.9266  f1_score  0.926\n",
            "Epoch:  11  loss:  0.1296  precision:  0.9369  recall:  0.9314  f1_score  0.9306\n",
            "Epoch:  12  loss:  0.1167  precision:  0.9435  recall:  0.9376  f1_score  0.9373\n",
            "Epoch:  13  loss:  0.1139  precision:  0.9477  recall:  0.9428  f1_score  0.942\n",
            "Epoch:  14  loss:  0.0835  precision:  0.959  recall:  0.957  f1_score  0.9569\n",
            "Epoch:  15  loss:  0.0815  precision:  0.961  recall:  0.9576  f1_score  0.9574\n",
            "Epoch:  16  loss:  0.0982  precision:  0.958  recall:  0.9519  f1_score  0.9513\n",
            "Epoch:  17  loss:  0.076  precision:  0.9639  recall:  0.9606  f1_score  0.9605\n",
            "Epoch:  18  loss:  0.0643  precision:  0.9706  recall:  0.9686  f1_score  0.9685\n",
            "Epoch:  19  loss:  0.0539  precision:  0.9755  recall:  0.974  f1_score  0.974\n"
          ]
        }
      ]
    },
    {
      "cell_type": "code",
      "source": [
        "plt.plot(losses)\n",
        "plt.xlabel(\"Epochs\", fontsize=15)\n",
        "plt.ylabel(\"BCE\", fontsize=15)\n",
        "plt.show()"
      ],
      "metadata": {
        "colab": {
          "base_uri": "https://localhost:8080/",
          "height": 284
        },
        "id": "LCPVPDBn2NUG",
        "outputId": "1209488a-40ff-4bc8-b11f-8ed9a082bcd3"
      },
      "execution_count": 26,
      "outputs": [
        {
          "output_type": "display_data",
          "data": {
            "image/png": "[encoded data removed]",
            "text/plain": [
              "<Figure size 432x288 with 1 Axes>"
            ]
          },
          "metadata": {
            "needs_background": "light"
          }
        }
      ]
    },
    {
      "cell_type": "code",
      "source": [
        "prec_score_test = np.mean(accuracies)\n",
        "print(prec_score_test)"
      ],
      "metadata": {
        "colab": {
          "base_uri": "https://localhost:8080/"
        },
        "id": "Tu80p2yzGiE2",
        "outputId": "4807864c-4f65-4aa3-d990-c091e29b68d7"
      },
      "execution_count": 27,
      "outputs": [
        {
          "output_type": "stream",
          "name": "stdout",
          "text": [
            "0.9755\n"
          ]
        }
      ]
    },
    {
      "cell_type": "code",
      "source": [
        "print(len(test_df))"
      ],
      "metadata": {
        "colab": {
          "base_uri": "https://localhost:8080/"
        },
        "id": "IB8OutJdQDFr",
        "outputId": "bbbaf4a7-7b0b-4e4b-ecc6-9f9b180af815"
      },
      "execution_count": 28,
      "outputs": [
        {
          "output_type": "stream",
          "name": "stdout",
          "text": [
            "2282\n"
          ]
        }
      ]
    },
    {
      "cell_type": "code",
      "source": [
        "test_iterator = data.BucketIterator(test_df, batch_size=2282, device=device)"
      ],
      "metadata": {
        "id": "8D57j8xFQBes"
      },
      "execution_count": 29,
      "outputs": []
    },
    {
      "cell_type": "markdown",
      "source": [
        "### Test model"
      ],
      "metadata": {
        "id": "Inu688vDFOXE"
      }
    },
    {
      "cell_type": "code",
      "source": [
        "def test_epoch(model, iterator):\n",
        "\n",
        "  epoch_loss = 0\n",
        "  epoch_accuracy = 0\n",
        "  # hold the n of items in the iterator in order to return the mean loss and accuracy\n",
        "  items = 0\n",
        "  epoch_recall = 0\n",
        "  epoch_f1 = 0\n",
        "  \n",
        "  for batch in iterator:\n",
        "    items += 1\n",
        "    # get text info\n",
        "    tweet, len = batch.tweet\n",
        "\n",
        "    # forward probagation\n",
        "    outputs = model.forward(tweet, len)\n",
        "    \n",
        "    y_pred_test = torch.argmax(outputs,dim=1)\n",
        "    Y_test = batch.label\n",
        "    print(y_pred_test)\n",
        "    print(batch.label)\n",
        "    Y_test = torch.flatten(Y_test)\n",
        "    Y_test = torch.as_tensor(Y_test, dtype=torch.int32)\n",
        "    \n",
        "    print(\"Accuracy score: {}\".format(round(accuracy_score(Y_test ,y_pred_test),2)))\n",
        "    print(classification_report(Y_test,y_pred_test))    \n",
        "\n",
        "    return Y_test,y_pred_test,outputs"
      ],
      "metadata": {
        "id": "NhGTXoIbQtZz"
      },
      "execution_count": 30,
      "outputs": []
    },
    {
      "cell_type": "markdown",
      "source": [
        "Same testing as tf-idf(same testing pool)"
      ],
      "metadata": {
        "id": "K3t4zT2QWcdI"
      }
    },
    {
      "cell_type": "code",
      "source": [
        "Y_test,y_pred_test,outputs = test_epoch(model2, test_iterator)"
      ],
      "metadata": {
        "colab": {
          "base_uri": "https://localhost:8080/"
        },
        "id": "RduzY1y8QcZ-",
        "outputId": "e2e7668e-d272-44af-fb6c-87ffa4e6fa05"
      },
      "execution_count": 31,
      "outputs": [
        {
          "output_type": "stream",
          "name": "stdout",
          "text": [
            "tensor([0, 0, 0,  ..., 1, 0, 1])\n",
            "tensor([1., 0., 2.,  ..., 1., 0., 1.])\n",
            "Accuracy score: 0.65\n",
            "              precision    recall  f1-score   support\n",
            "\n",
            "           0       0.67      0.78      0.72      1065\n",
            "           1       0.66      0.55      0.60       921\n",
            "           2       0.49      0.47      0.48       296\n",
            "\n",
            "    accuracy                           0.65      2282\n",
            "   macro avg       0.61      0.60      0.60      2282\n",
            "weighted avg       0.64      0.65      0.64      2282\n",
            "\n"
          ]
        }
      ]
    },
    {
      "cell_type": "markdown",
      "source": [
        "## Confusion matrix"
      ],
      "metadata": {
        "id": "8NYS43cLFT9n"
      }
    },
    {
      "cell_type": "code",
      "source": [
        "C = np.array(confusion_matrix(Y_test ,y_pred_test))\n",
        "\n",
        "confmtrx = pd.DataFrame(C, index=['neutral, true','anti-vax, true','pro-vax, true'],\n",
        "columns=['neutral, predicted','anti-vax, predicted','pro-vax, predicted'])\n",
        "\n",
        "confmtrx.loc['sum'] = confmtrx.sum()\n",
        "confmtrx['sum'] = confmtrx.sum(axis=1)\n",
        "    \n",
        "confmtrx"
      ],
      "metadata": {
        "colab": {
          "base_uri": "https://localhost:8080/",
          "height": 175
        },
        "id": "bF76_tqVTCXs",
        "outputId": "37e46618-b043-4952-80de-bded6464536d"
      },
      "execution_count": 32,
      "outputs": [
        {
          "output_type": "execute_result",
          "data": {
            "text/html": [
              "\n",
              "  <div id=\"df-abb5e14d-b737-46ff-9f49-05a259776fec\">\n",
              "    <div class=\"colab-df-container\">\n",
              "      <div>\n",
              "<style scoped>\n",
              "    .dataframe tbody tr th:only-of-type {\n",
              "        vertical-align: middle;\n",
              "    }\n",
              "\n",
              "    .dataframe tbody tr th {\n",
              "        vertical-align: top;\n",
              "    }\n",
              "\n",
              "    .dataframe thead th {\n",
              "        text-align: right;\n",
              "    }\n",
              "</style>\n",
              "<table border=\"1\" class=\"dataframe\">\n",
              "  <thead>\n",
              "    <tr style=\"text-align: right;\">\n",
              "      <th></th>\n",
              "      <th>neutral, predicted</th>\n",
              "      <th>anti-vax, predicted</th>\n",
              "      <th>pro-vax, predicted</th>\n",
              "      <th>sum</th>\n",
              "    </tr>\n",
              "  </thead>\n",
              "  <tbody>\n",
              "    <tr>\n",
              "      <th>neutral, true</th>\n",
              "      <td>831</td>\n",
              "      <td>177</td>\n",
              "      <td>57</td>\n",
              "      <td>1065</td>\n",
              "    </tr>\n",
              "    <tr>\n",
              "      <th>anti-vax, true</th>\n",
              "      <td>329</td>\n",
              "      <td>505</td>\n",
              "      <td>87</td>\n",
              "      <td>921</td>\n",
              "    </tr>\n",
              "    <tr>\n",
              "      <th>pro-vax, true</th>\n",
              "      <td>77</td>\n",
              "      <td>81</td>\n",
              "      <td>138</td>\n",
              "      <td>296</td>\n",
              "    </tr>\n",
              "    <tr>\n",
              "      <th>sum</th>\n",
              "      <td>1237</td>\n",
              "      <td>763</td>\n",
              "      <td>282</td>\n",
              "      <td>2282</td>\n",
              "    </tr>\n",
              "  </tbody>\n",
              "</table>\n",
              "</div>\n",
              "      <button class=\"colab-df-convert\" onclick=\"convertToInteractive('df-abb5e14d-b737-46ff-9f49-05a259776fec')\"\n",
              "              title=\"Convert this dataframe to an interactive table.\"\n",
              "              style=\"display:none;\">\n",
              "        \n",
              "  <svg xmlns=\"http://www.w3.org/2000/svg\" height=\"24px\"viewBox=\"0 0 24 24\"\n",
              "       width=\"24px\">\n",
              "    <path d=\"M0 0h24v24H0V0z\" fill=\"none\"/>\n",
              "    <path d=\"M18.56 5.44l.94 2.06.94-2.06 2.06-.94-2.06-.94-.94-2.06-.94 2.06-2.06.94zm-11 1L8.5 8.5l.94-2.06 2.06-.94-2.06-.94L8.5 2.5l-.94 2.06-2.06.94zm10 10l.94 2.06.94-2.06 2.06-.94-2.06-.94-.94-2.06-.94 2.06-2.06.94z\"/><path d=\"M17.41 7.96l-1.37-1.37c-.4-.4-.92-.59-1.43-.59-.52 0-1.04.2-1.43.59L10.3 9.45l-7.72 7.72c-.78.78-.78 2.05 0 2.83L4 21.41c.39.39.9.59 1.41.59.51 0 1.02-.2 1.41-.59l7.78-7.78 2.81-2.81c.8-.78.8-2.07 0-2.86zM5.41 20L4 18.59l7.72-7.72 1.47 1.35L5.41 20z\"/>\n",
              "  </svg>\n",
              "      </button>\n",
              "      \n",
              "  <style>\n",
              "    .colab-df-container {\n",
              "      display:flex;\n",
              "      flex-wrap:wrap;\n",
              "      gap: 12px;\n",
              "    }\n",
              "\n",
              "    .colab-df-convert {\n",
              "      background-color: #E8F0FE;\n",
              "      border: none;\n",
              "      border-radius: 50%;\n",
              "      cursor: pointer;\n",
              "      display: none;\n",
              "      fill: #1967D2;\n",
              "      height: 32px;\n",
              "      padding: 0 0 0 0;\n",
              "      width: 32px;\n",
              "    }\n",
              "\n",
              "    .colab-df-convert:hover {\n",
              "      background-color: #E2EBFA;\n",
              "      box-shadow: 0px 1px 2px rgba(60, 64, 67, 0.3), 0px 1px 3px 1px rgba(60, 64, 67, 0.15);\n",
              "      fill: #174EA6;\n",
              "    }\n",
              "\n",
              "    [theme=dark] .colab-df-convert {\n",
              "      background-color: #3B4455;\n",
              "      fill: #D2E3FC;\n",
              "    }\n",
              "\n",
              "    [theme=dark] .colab-df-convert:hover {\n",
              "      background-color: #434B5C;\n",
              "      box-shadow: 0px 1px 3px 1px rgba(0, 0, 0, 0.15);\n",
              "      filter: drop-shadow(0px 1px 2px rgba(0, 0, 0, 0.3));\n",
              "      fill: #FFFFFF;\n",
              "    }\n",
              "  </style>\n",
              "\n",
              "      <script>\n",
              "        const buttonEl =\n",
              "          document.querySelector('#df-abb5e14d-b737-46ff-9f49-05a259776fec button.colab-df-convert');\n",
              "        buttonEl.style.display =\n",
              "          google.colab.kernel.accessAllowed ? 'block' : 'none';\n",
              "\n",
              "        async function convertToInteractive(key) {\n",
              "          const element = document.querySelector('#df-abb5e14d-b737-46ff-9f49-05a259776fec');\n",
              "          const dataTable =\n",
              "            await google.colab.kernel.invokeFunction('convertToInteractive',\n",
              "                                                     [key], {});\n",
              "          if (!dataTable) return;\n",
              "\n",
              "          const docLinkHtml = 'Like what you see? Visit the ' +\n",
              "            '<a target=\"_blank\" href=https://colab.research.google.com/notebooks/data_table.ipynb>data table notebook</a>'\n",
              "            + ' to learn more about interactive tables.';\n",
              "          element.innerHTML = '';\n",
              "          dataTable['output_type'] = 'display_data';\n",
              "          await google.colab.output.renderOutput(dataTable, element);\n",
              "          const docLink = document.createElement('div');\n",
              "          docLink.innerHTML = docLinkHtml;\n",
              "          element.appendChild(docLink);\n",
              "        }\n",
              "      </script>\n",
              "    </div>\n",
              "  </div>\n",
              "  "
            ],
            "text/plain": [
              "                neutral, predicted  ...   sum\n",
              "neutral, true                  831  ...  1065\n",
              "anti-vax, true                 329  ...   921\n",
              "pro-vax, true                   77  ...   296\n",
              "sum                           1237  ...  2282\n",
              "\n",
              "[4 rows x 4 columns]"
            ]
          },
          "metadata": {},
          "execution_count": 32
        }
      ]
    },
    {
      "cell_type": "markdown",
      "source": [
        "## ROC Scores"
      ],
      "metadata": {
        "id": "LLvrDviqFlXL"
      }
    },
    {
      "cell_type": "code",
      "source": [
        "import sklearn.metrics as metrics\n",
        "\n",
        "probs = outputs\n",
        "\n",
        "# keep probabilities for the positive outcome only\n",
        "ns_probs = [[0,0,0] for _ in range(len(Y_test))]\n",
        "\n",
        "print(Y_test)\n",
        "Y_testb = one_hot_encoder(Y_test)\n",
        "Y_testb = torch.as_tensor(Y_testb, dtype=torch.float32)\n",
        "\n",
        "print(Y_testb)\n",
        "probs = torch.argmax(probs,dim=1)\n",
        "probs = one_hot_encoder(probs)\n",
        "probs = torch.as_tensor(probs, dtype=torch.float32)\n",
        "print(probs)\n",
        "\n",
        "ns_auc = roc_auc_score(Y_testb, ns_probs, multi_class=\"ovr\")\n",
        "lr_auc = roc_auc_score(Y_testb, probs, multi_class=\"ovr\")\n",
        "\n",
        "# summarize scores\n",
        "print('No Skill: ROC AUC=%.3f' % (ns_auc))\n",
        "print('Logistic: ROC AUC=%.3f' % (lr_auc))"
      ],
      "metadata": {
        "colab": {
          "base_uri": "https://localhost:8080/"
        },
        "id": "cJVoUcj2b9mh",
        "outputId": "18f2936d-2a1d-4fc4-f94f-89ef208012e7"
      },
      "execution_count": 33,
      "outputs": [
        {
          "output_type": "stream",
          "name": "stdout",
          "text": [
            "tensor([1, 0, 2,  ..., 1, 0, 1], dtype=torch.int32)\n",
            "tensor([[0., 1., 0.],\n",
            "        [1., 0., 0.],\n",
            "        [0., 0., 1.],\n",
            "        ...,\n",
            "        [0., 1., 0.],\n",
            "        [1., 0., 0.],\n",
            "        [0., 1., 0.]])\n",
            "tensor([[1., 0., 0.],\n",
            "        [1., 0., 0.],\n",
            "        [1., 0., 0.],\n",
            "        ...,\n",
            "        [0., 1., 0.],\n",
            "        [1., 0., 0.],\n",
            "        [0., 1., 0.]])\n",
            "No Skill: ROC AUC=0.500\n",
            "Logistic: ROC AUC=0.700\n"
          ]
        }
      ]
    },
    {
      "cell_type": "markdown",
      "source": [
        "### ROC Curves"
      ],
      "metadata": {
        "id": "zPiJbekhFo18"
      }
    },
    {
      "cell_type": "code",
      "source": [
        "import matplotlib.pyplot as plt\n",
        "from sklearn import svm, datasets\n",
        "from sklearn.model_selection import train_test_split\n",
        "from sklearn.preprocessing import label_binarize\n",
        "from sklearn.metrics import roc_curve, auc\n",
        "from sklearn.multiclass import OneVsRestClassifier\n",
        "import numpy as np\n",
        "import matplotlib.pyplot as plt\n",
        "from itertools import cycle\n",
        "\n",
        "predict_outs = outputs\n",
        "predict_outs = predict_outs.detach().numpy()\n",
        "\n",
        "fpr = dict()\n",
        "tpr = dict()\n",
        "roc_auc = dict()\n",
        "for i in range(3):\n",
        "    fpr[i], tpr[i], _ = roc_curve(Y_testb[:, i],predict_outs[:, i] )\n",
        "    roc_auc[i] = auc(fpr[i], tpr[i])\n",
        "\n",
        "colors = cycle(['blue', 'red', 'green'])\n",
        "for i, color in zip(range(3), colors):\n",
        "    plt.plot(fpr[i], tpr[i], color=color,\n",
        "             label='ROC curve of class {0} (area = {1:0.2f})'\n",
        "             ''.format(i, roc_auc[i]))\n",
        "plt.plot([0, 1], [0, 1], 'k--')\n",
        "plt.xlim([-0.05, 1.0])\n",
        "plt.ylim([0.0, 1.05])\n",
        "plt.xlabel('False Positive Rate')\n",
        "plt.ylabel('True Positive Rate')\n",
        "plt.title('Receiver operating characteristic for multi-class data')\n",
        "plt.legend(loc=\"lower right\")\n",
        "plt.show()"
      ],
      "metadata": {
        "colab": {
          "base_uri": "https://localhost:8080/",
          "height": 295
        },
        "id": "vXhjFaescXEB",
        "outputId": "7f9ac22c-1f01-4a10-e76c-8a6f94b7ee61"
      },
      "execution_count": 34,
      "outputs": [
        {
          "output_type": "display_data",
          "data": {
            "image/png": "[encoded data removed]",
            "text/plain": [
              "<Figure size 432x288 with 1 Axes>"
            ]
          },
          "metadata": {
            "needs_background": "light"
          }
        }
      ]
    }
  ]
}