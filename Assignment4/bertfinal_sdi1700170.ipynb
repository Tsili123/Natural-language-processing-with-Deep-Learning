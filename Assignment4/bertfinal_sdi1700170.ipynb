{
  "cells": [
    {
      "cell_type": "markdown",
      "source": [
        "# Aris Tsilifonis sdi1700170 - Artificial Intelligence 2 (NLP with Deep Learning)\n",
        "\n",
        "## 4th assignment - Text classification with bert for sentiment analysis\n",
        "## Question A\n",
        "### We will be using the BERT (Bidirectional Encoder Representations from Transformers) model from [hugging face page](https://huggingface.co/models).\n",
        "\n",
        "### Transformer models are relatively larger than the others that we have used before. Because of that, we are going to have pre-trained transformers from imported library.We will build pytorch dataset and we will prepare data for bert(tokenization,attention masks and padding).Also we will use Transfer learning approach and create a classifier for sentiment analysis by transformers library.Finally, we will evaluate model on test set and will predict sentiment on plain text.:"
      ],
      "metadata": {
        "id": "Vy-nwCSdy2uo"
      }
    },
    {
      "cell_type": "markdown",
      "source": [
        "###Import required libraries"
      ],
      "metadata": {
        "id": "zQziK8Uc0Ayk"
      }
    },
    {
      "cell_type": "code",
      "execution_count": null,
      "metadata": {
        "colab": {
          "base_uri": "https://localhost:8080/"
        },
        "id": "RBnQFnVmedNk",
        "outputId": "ace2b1e1-7ca6-4051-f5ff-b5c220f0e9de"
      },
      "outputs": [
        {
          "output_type": "stream",
          "name": "stdout",
          "text": [
            "[nltk_data] Downloading package brown to /root/nltk_data...\n",
            "[nltk_data]   Unzipping corpora/brown.zip.\n",
            "[nltk_data] Downloading package punkt to /root/nltk_data...\n",
            "[nltk_data]   Unzipping tokenizers/punkt.zip.\n",
            "[nltk_data] Downloading package wordnet to /root/nltk_data...\n",
            "[nltk_data]   Unzipping corpora/wordnet.zip.\n",
            "[nltk_data] Downloading package averaged_perceptron_tagger to\n",
            "[nltk_data]     /root/nltk_data...\n",
            "[nltk_data]   Unzipping taggers/averaged_perceptron_tagger.zip.\n",
            "[nltk_data] Downloading package conll2000 to /root/nltk_data...\n",
            "[nltk_data]   Unzipping corpora/conll2000.zip.\n",
            "[nltk_data] Downloading package movie_reviews to /root/nltk_data...\n",
            "[nltk_data]   Unzipping corpora/movie_reviews.zip.\n",
            "Finished.\n",
            "[nltk_data] Downloading package stopwords to /root/nltk_data...\n",
            "[nltk_data]   Unzipping corpora/stopwords.zip.\n"
          ]
        }
      ],
      "source": [
        "!python -m textblob.download_corpora\n",
        "# Metrics\n",
        "from sklearn.metrics import accuracy_score\n",
        "from sklearn.metrics import classification_report,confusion_matrix\n",
        "from sklearn.metrics import precision_recall_fscore_support \n",
        "from sklearn.metrics import precision_score\n",
        "from sklearn.metrics import roc_curve\n",
        "from sklearn.metrics import roc_auc_score\n",
        "# Best parameters during classification\n",
        "from sklearn.model_selection import GridSearchCV\n",
        "# Data preprocessing\n",
        "from sklearn.model_selection import train_test_split\n",
        "# Validation of the model\n",
        "from sklearn.model_selection import KFold\n",
        "from sklearn.model_selection import cross_val_score\n",
        "from sklearn.model_selection import cross_validate\n",
        "import torchtext\n",
        "from torchtext.legacy import data\n",
        "# For NN models\n",
        "import torch.nn as nn\n",
        "import torch\n",
        "# For data vizualization \n",
        "import matplotlib as mpl\n",
        "import matplotlib.pyplot as plt\n",
        "# For large and multi-dimensional arrays\n",
        "import numpy as np\n",
        "# For basic cleaning and data preprocessing \n",
        "import re\n",
        "# For data manipulation and analysis\n",
        "import pandas as pd\n",
        "# Stop words\n",
        "import nltk \n",
        "nltk.download('stopwords')  \n",
        "#Data Preprocessing and Feature Engineering\n",
        "from textblob import TextBlob\n",
        "import scipy\n",
        "from nltk.corpus import stopwords\n",
        "from nltk.stem.wordnet import WordNetLemmatizer\n",
        "# Necessary for data format\n",
        "from sklearn.feature_extraction.text import CountVectorizer\n",
        "# Word embedings\n",
        "from sklearn.feature_extraction.text import TfidfVectorizer  \n",
        "# Machine learning model\n",
        "from sklearn.linear_model import LogisticRegression\n"
      ]
    },
    {
      "cell_type": "markdown",
      "source": [
        "###Check gpu memory"
      ],
      "metadata": {
        "id": "inCE0bQ60YIT"
      }
    },
    {
      "cell_type": "code",
      "execution_count": null,
      "metadata": {
        "colab": {
          "base_uri": "https://localhost:8080/"
        },
        "id": "-5bwG9fXdHsd",
        "outputId": "50924ba7-6bfd-4eff-8c7d-ff2288c4b640"
      },
      "outputs": [
        {
          "output_type": "stream",
          "name": "stdout",
          "text": [
            "Wed Mar  9 23:58:04 2022       \n",
            "+-----------------------------------------------------------------------------+\n",
            "| NVIDIA-SMI 460.32.03    Driver Version: 460.32.03    CUDA Version: 11.2     |\n",
            "|-------------------------------+----------------------+----------------------+\n",
            "| GPU  Name        Persistence-M| Bus-Id        Disp.A | Volatile Uncorr. ECC |\n",
            "| Fan  Temp  Perf  Pwr:Usage/Cap|         Memory-Usage | GPU-Util  Compute M. |\n",
            "|                               |                      |               MIG M. |\n",
            "|===============================+======================+======================|\n",
            "|   0  Tesla P100-PCIE...  Off  | 00000000:00:04.0 Off |                    0 |\n",
            "| N/A   38C    P0    26W / 250W |      0MiB / 16280MiB |      0%      Default |\n",
            "|                               |                      |                  N/A |\n",
            "+-------------------------------+----------------------+----------------------+\n",
            "                                                                               \n",
            "+-----------------------------------------------------------------------------+\n",
            "| Processes:                                                                  |\n",
            "|  GPU   GI   CI        PID   Type   Process name                  GPU Memory |\n",
            "|        ID   ID                                                   Usage      |\n",
            "|=============================================================================|\n",
            "|  No running processes found                                                 |\n",
            "+-----------------------------------------------------------------------------+\n"
          ]
        }
      ],
      "source": [
        "!nvidia-smi"
      ]
    },
    {
      "cell_type": "markdown",
      "source": [
        "### Install transformers"
      ],
      "metadata": {
        "id": "um_PGxfZ0bXp"
      }
    },
    {
      "cell_type": "code",
      "execution_count": null,
      "metadata": {
        "colab": {
          "base_uri": "https://localhost:8080/"
        },
        "id": "hWC91V-7dsCk",
        "outputId": "c083dbb4-5a2c-49f3-e6c1-7dad2fd06678"
      },
      "outputs": [
        {
          "output_type": "stream",
          "name": "stdout",
          "text": [
            "Collecting transformers==3\n",
            "  Downloading transformers-3.0.0-py3-none-any.whl (754 kB)\n",
            "\u001b[K     |████████████████████████████████| 754 kB 3.2 MB/s \n",
            "\u001b[?25hRequirement already satisfied: regex!=2019.12.17 in /usr/local/lib/python3.7/dist-packages (from transformers==3) (2019.12.20)\n",
            "Requirement already satisfied: requests in /usr/local/lib/python3.7/dist-packages (from transformers==3) (2.23.0)\n",
            "Requirement already satisfied: tqdm>=4.27 in /usr/local/lib/python3.7/dist-packages (from transformers==3) (4.63.0)\n",
            "Requirement already satisfied: filelock in /usr/local/lib/python3.7/dist-packages (from transformers==3) (3.6.0)\n",
            "Collecting sacremoses\n",
            "  Downloading sacremoses-0.0.47-py2.py3-none-any.whl (895 kB)\n",
            "\u001b[K     |████████████████████████████████| 895 kB 41.9 MB/s \n",
            "\u001b[?25hCollecting tokenizers==0.8.0-rc4\n",
            "  Downloading tokenizers-0.8.0rc4-cp37-cp37m-manylinux1_x86_64.whl (3.0 MB)\n",
            "\u001b[K     |████████████████████████████████| 3.0 MB 38.0 MB/s \n",
            "\u001b[?25hRequirement already satisfied: packaging in /usr/local/lib/python3.7/dist-packages (from transformers==3) (21.3)\n",
            "Collecting sentencepiece\n",
            "  Downloading sentencepiece-0.1.96-cp37-cp37m-manylinux_2_17_x86_64.manylinux2014_x86_64.whl (1.2 MB)\n",
            "\u001b[K     |████████████████████████████████| 1.2 MB 47.2 MB/s \n",
            "\u001b[?25hRequirement already satisfied: numpy in /usr/local/lib/python3.7/dist-packages (from transformers==3) (1.21.5)\n",
            "Requirement already satisfied: pyparsing!=3.0.5,>=2.0.2 in /usr/local/lib/python3.7/dist-packages (from packaging->transformers==3) (3.0.7)\n",
            "Requirement already satisfied: chardet<4,>=3.0.2 in /usr/local/lib/python3.7/dist-packages (from requests->transformers==3) (3.0.4)\n",
            "Requirement already satisfied: certifi>=2017.4.17 in /usr/local/lib/python3.7/dist-packages (from requests->transformers==3) (2021.10.8)\n",
            "Requirement already satisfied: idna<3,>=2.5 in /usr/local/lib/python3.7/dist-packages (from requests->transformers==3) (2.10)\n",
            "Requirement already satisfied: urllib3!=1.25.0,!=1.25.1,<1.26,>=1.21.1 in /usr/local/lib/python3.7/dist-packages (from requests->transformers==3) (1.24.3)\n",
            "Requirement already satisfied: joblib in /usr/local/lib/python3.7/dist-packages (from sacremoses->transformers==3) (1.1.0)\n",
            "Requirement already satisfied: click in /usr/local/lib/python3.7/dist-packages (from sacremoses->transformers==3) (7.1.2)\n",
            "Requirement already satisfied: six in /usr/local/lib/python3.7/dist-packages (from sacremoses->transformers==3) (1.15.0)\n",
            "Installing collected packages: tokenizers, sentencepiece, sacremoses, transformers\n",
            "Successfully installed sacremoses-0.0.47 sentencepiece-0.1.96 tokenizers-0.8.0rc4 transformers-3.0.0\n"
          ]
        }
      ],
      "source": [
        "!pip install transformers==3"
      ]
    },
    {
      "cell_type": "code",
      "execution_count": null,
      "metadata": {
        "colab": {
          "base_uri": "https://localhost:8080/"
        },
        "id": "0xUGMLp5dnko",
        "outputId": "aa7f979c-f133-43f9-d666-fc6b9ece5a5f"
      },
      "outputs": [
        {
          "output_type": "stream",
          "name": "stdout",
          "text": [
            "\u001b[31mERROR: pip's dependency resolver does not currently take into account all the packages that are installed. This behaviour is the source of the following dependency conflicts.\n",
            "markdown 3.3.6 requires importlib-metadata>=4.4; python_version < \"3.10\", but you have importlib-metadata 2.1.3 which is incompatible.\u001b[0m\n",
            "Python implementation: CPython\n",
            "Python version       : 3.7.12\n",
            "IPython version      : 5.5.0\n",
            "\n",
            "numpy       : 1.21.5\n",
            "pandas      : 1.3.5\n",
            "torch       : 1.10.0+cu111\n",
            "transformers: 3.0.0\n",
            "\n"
          ]
        }
      ],
      "source": [
        "!pip install -q -U watermark\n",
        "%reload_ext watermark\n",
        "%watermark -v -p numpy,pandas,torch,transformers"
      ]
    },
    {
      "cell_type": "markdown",
      "source": [
        "### Load preprocessed datasets"
      ],
      "metadata": {
        "id": "odJFtaO30j8X"
      }
    },
    {
      "cell_type": "code",
      "execution_count": null,
      "metadata": {
        "colab": {
          "base_uri": "https://localhost:8080/"
        },
        "id": "ATIpPrLwe5Uz",
        "outputId": "b1733d36-2074-4cd6-d83d-cb73b2e2b761"
      },
      "outputs": [
        {
          "output_type": "stream",
          "name": "stdout",
          "text": [
            "Drive already mounted at /content/drive; to attempt to forcibly remount, call drive.mount(\"/content/drive\", force_remount=True).\n"
          ]
        }
      ],
      "source": [
        "from google.colab import drive\n",
        "drive.mount('/content/drive')"
      ]
    },
    {
      "cell_type": "code",
      "execution_count": null,
      "metadata": {
        "colab": {
          "base_uri": "https://localhost:8080/"
        },
        "id": "Pyji0svWeYcA",
        "outputId": "5fea4610-0568-4b54-a68c-0cfe5c366e84"
      },
      "outputs": [
        {
          "output_type": "stream",
          "name": "stdout",
          "text": [
            "<class 'pandas.core.frame.DataFrame'>\n",
            "RangeIndex: 13979 entries, 0 to 13978\n",
            "Data columns (total 2 columns):\n",
            " #   Column  Non-Null Count  Dtype \n",
            "---  ------  --------------  ----- \n",
            " 0   tweet   13979 non-null  object\n",
            " 1   label   13979 non-null  int64 \n",
            "dtypes: int64(1), object(1)\n",
            "memory usage: 218.5+ KB\n"
          ]
        }
      ],
      "source": [
        "df_train = pd.read_csv(\"/content/drive/My Drive/train_sdi1700170.csv\")\n",
        "df_train.info()"
      ]
    },
    {
      "cell_type": "code",
      "execution_count": null,
      "metadata": {
        "colab": {
          "base_uri": "https://localhost:8080/"
        },
        "id": "jyWa9WTCfDD5",
        "outputId": "15acf999-cf1f-4ee7-803c-1e617db4887e"
      },
      "outputs": [
        {
          "output_type": "stream",
          "name": "stdout",
          "text": [
            "<class 'pandas.core.frame.DataFrame'>\n",
            "RangeIndex: 2282 entries, 0 to 2281\n",
            "Data columns (total 2 columns):\n",
            " #   Column  Non-Null Count  Dtype \n",
            "---  ------  --------------  ----- \n",
            " 0   tweet   2282 non-null   object\n",
            " 1   label   2282 non-null   int64 \n",
            "dtypes: int64(1), object(1)\n",
            "memory usage: 35.8+ KB\n"
          ]
        }
      ],
      "source": [
        "df_valid = pd.read_csv(\"/content/drive/My Drive/valid_sdi1700170.csv\")\n",
        "df_valid.info()"
      ]
    },
    {
      "cell_type": "code",
      "execution_count": null,
      "metadata": {
        "colab": {
          "base_uri": "https://localhost:8080/"
        },
        "id": "x1q0y1AQfFcN",
        "outputId": "3cdf9b5d-dce4-40d3-b803-ee186efefb71"
      },
      "outputs": [
        {
          "output_type": "stream",
          "name": "stdout",
          "text": [
            "<class 'pandas.core.frame.DataFrame'>\n",
            "RangeIndex: 1997 entries, 0 to 1996\n",
            "Data columns (total 2 columns):\n",
            " #   Column  Non-Null Count  Dtype \n",
            "---  ------  --------------  ----- \n",
            " 0   tweet   1997 non-null   object\n",
            " 1   label   1997 non-null   int64 \n",
            "dtypes: int64(1), object(1)\n",
            "memory usage: 31.3+ KB\n"
          ]
        }
      ],
      "source": [
        "df_test = pd.read_csv(\"/content/drive/My Drive/test_sdi1700170.csv\")\n",
        "df_test.info()"
      ]
    },
    {
      "cell_type": "markdown",
      "source": [
        "#Create bert base cased pretrained model"
      ],
      "metadata": {
        "id": "ifgWqHDW07BI"
      }
    },
    {
      "cell_type": "markdown",
      "source": [
        "## Main ideas\n",
        "\n",
        "1. As we know,the Transformer reads entire sequences of tokens at once. While   LSTMs read sequentially (left-to-right or right-to-left) , bert model is undirectional.The built-in attention allows for learning  relations between words.\n",
        "2. Also, the model is bidirectional because it has to look back (at the text) and forward (at the next text) to understand the context.\n",
        "3. Finally, bert has pre-trained word embeddings, so we do not need glove-vectors from the previous assignment.\n",
        "\n",
        "BERT was trained by masking 15% of the tokens with the goal to guess them.Another goal was to predict the next sentence. For example,\n",
        "\n",
        "Input = [CLS] I [mask] never do [mask] vaccine. [SEP] Vaccine is dangerous for our health! [SEP]\n",
        "\n",
        "Label = IsNext\n",
        "\n",
        "Input = [CLS] I [mask] never do [mask] vaccine. [SEP] Vaccine is good for your health! [SEP]\n",
        "\n",
        "Label = NotNext\n"
      ],
      "metadata": {
        "id": "FCcPdiCfALxH"
      }
    },
    {
      "cell_type": "code",
      "execution_count": null,
      "metadata": {
        "id": "TYO26N7-fgG5"
      },
      "outputs": [],
      "source": [
        "import transformers\n",
        "from transformers import BertModel, BertTokenizer, AdamW, get_linear_schedule_with_warmup\n",
        "import torch"
      ]
    },
    {
      "cell_type": "code",
      "execution_count": null,
      "metadata": {
        "id": "t_3g1svzfNlB"
      },
      "outputs": [],
      "source": [
        "PRE_TRAINED_MODEL_NAME = 'bert-base-cased'"
      ]
    },
    {
      "cell_type": "markdown",
      "source": [
        "## Create tokenizer with predefined max length"
      ],
      "metadata": {
        "id": "G54I_-tV1CNL"
      }
    },
    {
      "cell_type": "code",
      "execution_count": null,
      "metadata": {
        "id": "EOBATYRKfRCT",
        "colab": {
          "base_uri": "https://localhost:8080/",
          "height": 49,
          "referenced_widgets": [
            "495c517245124d56bac7e3f340eb4541",
            "4f59692d2f384a49a0deffd0e26ff446",
            "56c466796d344058858f5758dc94d108",
            "154262bbdaa04fb8a11aaffdbacf24dd",
            "c3f393fb14384bc4972a9e3c5731e4e2",
            "3125ecc8579b47cf9bad4b35616fb043",
            "112d2431441145ccb20603d5ea593e9e",
            "274442729aa44151894e4132fabde0d1",
            "0f61b9cc413247a8b3613f12a2d231b7",
            "08de4ce51a284a07a16198f902ee6969",
            "e6247ba1fb1c4ce0959a06b005a8e38d"
          ]
        },
        "outputId": "2a6bca1d-f8ba-430d-a5fc-56261a6e9d0c"
      },
      "outputs": [
        {
          "output_type": "display_data",
          "data": {
            "application/vnd.jupyter.widget-view+json": {
              "model_id": "495c517245124d56bac7e3f340eb4541",
              "version_minor": 0,
              "version_major": 2
            },
            "text/plain": [
              "Downloading:   0%|          | 0.00/213k [00:00<?, ?B/s]"
            ]
          },
          "metadata": {}
        }
      ],
      "source": [
        "tokenizer = BertTokenizer.from_pretrained(PRE_TRAINED_MODEL_NAME,model_max_length=512)"
      ]
    },
    {
      "cell_type": "markdown",
      "source": [
        "##Experiment with one text sample"
      ],
      "metadata": {
        "id": "tA-Ng83q11Ky"
      }
    },
    {
      "cell_type": "markdown",
      "source": [
        ""
      ],
      "metadata": {
        "id": "7jdYHm7_H83O"
      }
    },
    {
      "cell_type": "code",
      "execution_count": null,
      "metadata": {
        "id": "2XiHliccfmGa"
      },
      "outputs": [],
      "source": [
        "txt_sample = 'I have been inside the house for too long.I have to go out!'"
      ]
    },
    {
      "cell_type": "code",
      "execution_count": null,
      "metadata": {
        "colab": {
          "base_uri": "https://localhost:8080/"
        },
        "id": "SGRWio8bfn5p",
        "outputId": "1df26d63-336f-4b3b-e28b-db2dec0428d7"
      },
      "outputs": [
        {
          "output_type": "stream",
          "name": "stdout",
          "text": [
            " Sentence: I have been inside the house for too long.I have to go out!\n",
            "   Tokens: ['I', 'have', 'been', 'inside', 'the', 'house', 'for', 'too', 'long', '.', 'I', 'have', 'to', 'go', 'out', '!']\n",
            "Token IDs: [146, 1138, 1151, 1656, 1103, 1402, 1111, 1315, 1263, 119, 146, 1138, 1106, 1301, 1149, 106]\n"
          ]
        }
      ],
      "source": [
        "tokens = tokenizer.tokenize(txt_sample)\n",
        "token_ids = tokenizer.convert_tokens_to_ids(tokens)\n",
        "\n",
        "print(f' Sentence: {txt_sample}')\n",
        "print(f'   Tokens: {tokens}')\n",
        "print(f'Token IDs: {token_ids}')"
      ]
    },
    {
      "cell_type": "markdown",
      "source": [
        "CLS token is at the start of every sentence"
      ],
      "metadata": {
        "id": "0eSzHZQcHItB"
      }
    },
    {
      "cell_type": "code",
      "execution_count": null,
      "metadata": {
        "colab": {
          "base_uri": "https://localhost:8080/"
        },
        "id": "GJv29_zKfr0n",
        "outputId": "5604cdb3-ccf1-4678-ba52-996e413f5164"
      },
      "outputs": [
        {
          "output_type": "execute_result",
          "data": {
            "text/plain": [
              "('[CLS]', 101)"
            ]
          },
          "metadata": {},
          "execution_count": 14
        }
      ],
      "source": [
        "tokenizer.cls_token, tokenizer.cls_token_id"
      ]
    },
    {
      "cell_type": "markdown",
      "source": [
        "Marker for ending of a sentence"
      ],
      "metadata": {
        "id": "Ql0KvNSuHK4k"
      }
    },
    {
      "cell_type": "code",
      "execution_count": null,
      "metadata": {
        "colab": {
          "base_uri": "https://localhost:8080/"
        },
        "id": "L4vfAI8MfqTt",
        "outputId": "f8435a70-5473-42d2-ba38-1f751b4573f9"
      },
      "outputs": [
        {
          "output_type": "execute_result",
          "data": {
            "text/plain": [
              "('[SEP]', 102)"
            ]
          },
          "metadata": {},
          "execution_count": 15
        }
      ],
      "source": [
        "tokenizer.sep_token, tokenizer.sep_token_id"
      ]
    },
    {
      "cell_type": "markdown",
      "source": [
        "Undestand tokens that are on the training set. Unk token stands for unknown"
      ],
      "metadata": {
        "id": "GrblPZGxHbZo"
      }
    },
    {
      "cell_type": "code",
      "execution_count": null,
      "metadata": {
        "colab": {
          "base_uri": "https://localhost:8080/"
        },
        "id": "cAFpj0gmfxEz",
        "outputId": "d53ee683-9b26-4960-987a-f6a6e73882f8"
      },
      "outputs": [
        {
          "output_type": "execute_result",
          "data": {
            "text/plain": [
              "('[UNK]', 100)"
            ]
          },
          "metadata": {},
          "execution_count": 16
        }
      ],
      "source": [
        "tokenizer.unk_token, tokenizer.unk_token_id"
      ]
    },
    {
      "cell_type": "markdown",
      "source": [
        "Padding token"
      ],
      "metadata": {
        "id": "SGbGMGhFHscI"
      }
    },
    {
      "cell_type": "code",
      "execution_count": null,
      "metadata": {
        "colab": {
          "base_uri": "https://localhost:8080/"
        },
        "id": "NEKOxsp1fuH-",
        "outputId": "c8d3e789-207b-4180-b80a-42212fdd48ca"
      },
      "outputs": [
        {
          "output_type": "execute_result",
          "data": {
            "text/plain": [
              "('[PAD]', 0)"
            ]
          },
          "metadata": {},
          "execution_count": 17
        }
      ],
      "source": [
        "tokenizer.pad_token, tokenizer.pad_token_id"
      ]
    },
    {
      "cell_type": "markdown",
      "source": [
        "We are using encode plus for the specific example"
      ],
      "metadata": {
        "id": "WU0-rNX57CyR"
      }
    },
    {
      "cell_type": "code",
      "execution_count": null,
      "metadata": {
        "colab": {
          "base_uri": "https://localhost:8080/"
        },
        "id": "adHYsyn0f3rO",
        "outputId": "6a3678de-9fe0-4ce5-8dc4-12b73effbf04"
      },
      "outputs": [
        {
          "output_type": "stream",
          "name": "stderr",
          "text": [
            "Truncation was not explicitely activated but `max_length` is provided a specific value, please use `truncation=True` to explicitely truncate examples to max length. Defaulting to 'only_first' truncation strategy. If you encode pairs of sequences (GLUE-style) with the tokenizer you may want to check this is the right behavior.\n"
          ]
        },
        {
          "output_type": "execute_result",
          "data": {
            "text/plain": [
              "dict_keys(['input_ids', 'attention_mask'])"
            ]
          },
          "metadata": {},
          "execution_count": 19
        }
      ],
      "source": [
        "encoding = tokenizer.encode_plus(\n",
        "  txt_sample,\n",
        "  max_length=32,\n",
        "  add_special_tokens=True, # Add '[CLS]' and '[SEP]'\n",
        "  return_token_type_ids=False,\n",
        "  pad_to_max_length=True,\n",
        "  return_attention_mask=True,\n",
        "  return_tensors='pt',  # Return PyTorch tensors\n",
        ")\n",
        "\n",
        "encoding.keys()"
      ]
    },
    {
      "cell_type": "markdown",
      "source": [
        "Review input ids of the encoding"
      ],
      "metadata": {
        "id": "F_FauOZO7Y3q"
      }
    },
    {
      "cell_type": "code",
      "execution_count": null,
      "metadata": {
        "colab": {
          "base_uri": "https://localhost:8080/"
        },
        "id": "3PAfqJyGhIKP",
        "outputId": "765b03a3-ad4c-467c-8a37-706ce3e0d1cc"
      },
      "outputs": [
        {
          "output_type": "stream",
          "name": "stdout",
          "text": [
            "32\n"
          ]
        },
        {
          "output_type": "execute_result",
          "data": {
            "text/plain": [
              "tensor([ 101,  146, 1138, 1151, 1656, 1103, 1402, 1111, 1315, 1263,  119,  146,\n",
              "        1138, 1106, 1301, 1149,  106,  102,    0,    0,    0,    0,    0,    0,\n",
              "           0,    0,    0,    0,    0,    0,    0,    0])"
            ]
          },
          "metadata": {},
          "execution_count": 20
        }
      ],
      "source": [
        "print(len(encoding['input_ids'][0]))\n",
        "encoding['input_ids'][0]"
      ]
    },
    {
      "cell_type": "markdown",
      "source": [
        "Review attention masks of the encoding"
      ],
      "metadata": {
        "id": "Sjz1Y6KN7jdX"
      }
    },
    {
      "cell_type": "code",
      "execution_count": null,
      "metadata": {
        "colab": {
          "base_uri": "https://localhost:8080/"
        },
        "id": "JXAzNbH5hKIE",
        "outputId": "502461b9-9889-4b0e-b194-00570fffbdbd"
      },
      "outputs": [
        {
          "output_type": "stream",
          "name": "stdout",
          "text": [
            "32\n"
          ]
        },
        {
          "output_type": "execute_result",
          "data": {
            "text/plain": [
              "tensor([[1, 1, 1, 1, 1, 1, 1, 1, 1, 1, 1, 1, 1, 1, 1, 1, 1, 1, 0, 0, 0, 0, 0, 0,\n",
              "         0, 0, 0, 0, 0, 0, 0, 0]])"
            ]
          },
          "metadata": {},
          "execution_count": 21
        }
      ],
      "source": [
        "print(len(encoding['attention_mask'][0]))\n",
        "encoding['attention_mask']"
      ]
    },
    {
      "cell_type": "markdown",
      "source": [
        "Inverse the tokenization to have a look at the special tokens:"
      ],
      "metadata": {
        "id": "a6jJiljr7a2h"
      }
    },
    {
      "cell_type": "code",
      "execution_count": null,
      "metadata": {
        "colab": {
          "base_uri": "https://localhost:8080/"
        },
        "id": "StqtIQwXhMjz",
        "outputId": "fe402c38-029f-4dff-c7fe-f5b6f29f4e3a"
      },
      "outputs": [
        {
          "output_type": "execute_result",
          "data": {
            "text/plain": [
              "['[CLS]',\n",
              " 'I',\n",
              " 'have',\n",
              " 'been',\n",
              " 'inside',\n",
              " 'the',\n",
              " 'house',\n",
              " 'for',\n",
              " 'too',\n",
              " 'long',\n",
              " '.',\n",
              " 'I',\n",
              " 'have',\n",
              " 'to',\n",
              " 'go',\n",
              " 'out',\n",
              " '!',\n",
              " '[SEP]',\n",
              " '[PAD]',\n",
              " '[PAD]',\n",
              " '[PAD]',\n",
              " '[PAD]',\n",
              " '[PAD]',\n",
              " '[PAD]',\n",
              " '[PAD]',\n",
              " '[PAD]',\n",
              " '[PAD]',\n",
              " '[PAD]',\n",
              " '[PAD]',\n",
              " '[PAD]',\n",
              " '[PAD]',\n",
              " '[PAD]']"
            ]
          },
          "metadata": {},
          "execution_count": 22
        }
      ],
      "source": [
        "tokenizer.convert_ids_to_tokens(encoding['input_ids'][0])"
      ]
    },
    {
      "cell_type": "markdown",
      "source": [
        "Import libraries for graphs"
      ],
      "metadata": {
        "id": "PeWtG0zD7pWm"
      }
    },
    {
      "cell_type": "code",
      "execution_count": null,
      "metadata": {
        "colab": {
          "base_uri": "https://localhost:8080/"
        },
        "id": "n9pcGN2iik_k",
        "outputId": "96df86ee-e4ac-443d-9feb-21cfb526316b"
      },
      "outputs": [
        {
          "output_type": "execute_result",
          "data": {
            "text/plain": [
              "device(type='cuda', index=0)"
            ]
          },
          "metadata": {},
          "execution_count": 23
        }
      ],
      "source": [
        "import transformers\n",
        "from transformers import BertModel, BertTokenizer, AdamW, get_linear_schedule_with_warmup\n",
        "import torch\n",
        "\n",
        "import numpy as np\n",
        "import pandas as pd\n",
        "import seaborn as sns\n",
        "from pylab import rcParams\n",
        "import matplotlib.pyplot as plt\n",
        "from matplotlib import rc\n",
        "from sklearn.model_selection import train_test_split\n",
        "from sklearn.metrics import confusion_matrix, classification_report\n",
        "from collections import defaultdict\n",
        "from textwrap import wrap\n",
        "\n",
        "from torch import nn, optim\n",
        "from torch.utils.data import Dataset, DataLoader\n",
        "import torch.nn.functional as F\n",
        "\n",
        "%matplotlib inline\n",
        "%config InlineBackend.figure_format='retina'\n",
        "\n",
        "sns.set(style='whitegrid', palette='muted', font_scale=1.2)\n",
        "\n",
        "HAPPY_COLORS_PALETTE = [\"#01BEFE\", \"#FFDD00\", \"#FF7D00\", \"#FF006D\", \"#ADFF02\", \"#8F00FF\"]\n",
        "\n",
        "sns.set_palette(sns.color_palette(HAPPY_COLORS_PALETTE))\n",
        "\n",
        "rcParams['figure.figsize'] = 12, 8\n",
        "\n",
        "RANDOM_SEED = 42\n",
        "np.random.seed(RANDOM_SEED)\n",
        "torch.manual_seed(RANDOM_SEED)\n",
        "\n",
        "device = torch.device(\"cuda:0\" if torch.cuda.is_available() else \"cpu\")\n",
        "device"
      ]
    },
    {
      "cell_type": "markdown",
      "source": [
        "Find required max length for tokenization"
      ],
      "metadata": {
        "id": "jhcl4RIk700P"
      }
    },
    {
      "cell_type": "code",
      "execution_count": null,
      "metadata": {
        "id": "y7WV73yOhxrI"
      },
      "outputs": [],
      "source": [
        "# Merging 3 or more dataframes base on a common column\n",
        "import pandas as pd\n",
        "from functools import reduce\n",
        "\n",
        "#Create a list of df to combine\n",
        "list_of_df = [df_train,df_test,df_valid]\n",
        "\n",
        "#merge them together\n",
        "df_combined = reduce(lambda left,right: pd.merge(left,right,on='tweet'), list_of_df)"
      ]
    },
    {
      "cell_type": "code",
      "execution_count": null,
      "metadata": {
        "id": "kkG0by8JhRjq"
      },
      "outputs": [],
      "source": [
        "token_lens = []\n",
        "\n",
        "for txt in df_combined.tweet:\n",
        "  tokens = tokenizer.encode(txt, max_length=512,truncation=True)\n",
        "  token_lens.append(len(tokens))"
      ]
    },
    {
      "cell_type": "code",
      "execution_count": null,
      "metadata": {
        "colab": {
          "base_uri": "https://localhost:8080/",
          "height": 563
        },
        "id": "JbzY1YRyiUog",
        "outputId": "551bc3bb-3de6-44a7-ef51-e8445d49a7fe"
      },
      "outputs": [
        {
          "output_type": "stream",
          "name": "stderr",
          "text": [
            "/usr/local/lib/python3.7/dist-packages/seaborn/distributions.py:2619: FutureWarning: `distplot` is a deprecated function and will be removed in a future version. Please adapt your code to use either `displot` (a figure-level function with similar flexibility) or `histplot` (an axes-level function for histograms).\n",
            "  warnings.warn(msg, FutureWarning)\n"
          ]
        },
        {
          "output_type": "display_data",
          "data": {
            "image/png": "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\n",
            "text/plain": [
              "<Figure size 864x576 with 1 Axes>"
            ]
          },
          "metadata": {
            "image/png": {
              "width": 749,
              "height": 489
            }
          }
        }
      ],
      "source": [
        "sns.distplot(token_lens)\n",
        "plt.xlim([0, 50]);\n",
        "plt.xlabel('Token count');"
      ]
    },
    {
      "cell_type": "code",
      "execution_count": null,
      "metadata": {
        "id": "AXXNppHijy4Y"
      },
      "outputs": [],
      "source": [
        "MAX_LEN = 50"
      ]
    },
    {
      "cell_type": "markdown",
      "source": [
        "Convert tweets to tokens in order to be processed by bert model\n",
        "As we see, tokenizer helps us achieve that goal easily with the proper parameters.Input ids and attention masks lists of the encoding need to be flatten in order to be processed."
      ],
      "metadata": {
        "id": "4en5sA1y8KKV"
      }
    },
    {
      "cell_type": "code",
      "execution_count": null,
      "metadata": {
        "id": "60DyhhlwkKSJ"
      },
      "outputs": [],
      "source": [
        "class TweetsDataset(Dataset):\n",
        "    def __init__(self, tweets, labels, tokenizer, max_len):\n",
        "        self.tweets = tweets\n",
        "        self.labels = labels\n",
        "        self.tokenizer = tokenizer\n",
        "        self.max_len = max_len\n",
        "\n",
        "    def __init__(self, tweets, labels, tokenizer, max_len):\n",
        "\n",
        "        self.tokenizer = tokenizer\n",
        "        self.max_len = max_len\n",
        "        self.tweets = tweets\n",
        "        self.labels = labels\n",
        "        \n",
        "    def __getitem__(self, item):\n",
        "        tweet = str(self.tweets[item])\n",
        "        target = self.labels[item]\n",
        "        encoding = self.tokenizer.encode_plus(\n",
        "          tweet,\n",
        "          add_special_tokens=True,\n",
        "          max_length=self.max_len,\n",
        "          truncation=True,\n",
        "          return_token_type_ids=False,\n",
        "          pad_to_max_length=True,\n",
        "          return_attention_mask=True,\n",
        "          return_tensors='pt'\n",
        "    )\n",
        "        return {\n",
        "          'tweets': tweet,\n",
        "          'input_ids': encoding['input_ids'].flatten(),\n",
        "          'attention_mask': encoding['attention_mask'].flatten(),\n",
        "          'labels': torch.tensor(target, dtype=torch.long)\n",
        "        }\n",
        "\n",
        "    def __len__(self):\n",
        "        return len(self.tweets)"
      ]
    },
    {
      "cell_type": "code",
      "execution_count": null,
      "metadata": {
        "colab": {
          "base_uri": "https://localhost:8080/"
        },
        "id": "og3mqa8RkNhA",
        "outputId": "2578b293-f46a-4f98-f756-38c5146345fc"
      },
      "outputs": [
        {
          "output_type": "execute_result",
          "data": {
            "text/plain": [
              "((13979, 2), (2282, 2), (1997, 2))"
            ]
          },
          "metadata": {},
          "execution_count": 29
        }
      ],
      "source": [
        "df_train.shape, df_valid.shape, df_test.shape"
      ]
    },
    {
      "cell_type": "markdown",
      "source": [
        "A helper function to create the dataloaders of train and validation sets."
      ],
      "metadata": {
        "id": "bQss24Hl8_93"
      }
    },
    {
      "cell_type": "code",
      "execution_count": null,
      "metadata": {
        "id": "-hzN03OtkWKH"
      },
      "outputs": [],
      "source": [
        "def create_data_loader(df, tokenizer, max_len, batch_size):\n",
        "  ds = TweetsDataset(\n",
        "    tweets=df.tweet.to_numpy(),\n",
        "    labels=df.label.to_numpy(),\n",
        "    tokenizer=tokenizer,\n",
        "    max_len=max_len\n",
        "  )\n",
        "\n",
        "  return DataLoader(\n",
        "    ds,\n",
        "    batch_size=batch_size,\n",
        "    num_workers=2\n",
        "  )"
      ]
    },
    {
      "cell_type": "markdown",
      "source": [
        "Batch size 16 showed the best accuracy(another option was 32 for good results with faster runtime)"
      ],
      "metadata": {
        "id": "9KUYbkIO96cu"
      }
    },
    {
      "cell_type": "code",
      "execution_count": null,
      "metadata": {
        "id": "3mlmqJp8krXO"
      },
      "outputs": [],
      "source": [
        "BATCH_SIZE = 16\n",
        "\n",
        "train_data_loader = create_data_loader(df_train, tokenizer, MAX_LEN, BATCH_SIZE)\n",
        "valid_data_loader = create_data_loader(df_valid, tokenizer, MAX_LEN, BATCH_SIZE)\n",
        "test_data_loader = create_data_loader(df_test, tokenizer, MAX_LEN, BATCH_SIZE)"
      ]
    },
    {
      "cell_type": "markdown",
      "source": [
        "Here is an example batch from our training data loader"
      ],
      "metadata": {
        "id": "qmamTQF8-FTO"
      }
    },
    {
      "cell_type": "code",
      "execution_count": null,
      "metadata": {
        "colab": {
          "base_uri": "https://localhost:8080/"
        },
        "id": "7m0Yu6pmkzXL",
        "outputId": "0e0f719d-0e54-4266-9c9b-a369e5d20e4f"
      },
      "outputs": [
        {
          "output_type": "execute_result",
          "data": {
            "text/plain": [
              "dict_keys(['tweets', 'input_ids', 'attention_mask', 'labels'])"
            ]
          },
          "metadata": {},
          "execution_count": 32
        }
      ],
      "source": [
        "data = next(iter(train_data_loader))\n",
        "data.keys()"
      ]
    },
    {
      "cell_type": "markdown",
      "source": [
        "Find data shape"
      ],
      "metadata": {
        "id": "O9SA3iUE-NIB"
      }
    },
    {
      "cell_type": "code",
      "execution_count": null,
      "metadata": {
        "colab": {
          "base_uri": "https://localhost:8080/"
        },
        "id": "U1C5eZbvk_tT",
        "outputId": "fc0566ad-6396-4546-e682-5b946e74ef55"
      },
      "outputs": [
        {
          "output_type": "stream",
          "name": "stdout",
          "text": [
            "torch.Size([16, 50])\n",
            "torch.Size([16, 50])\n",
            "torch.Size([16])\n"
          ]
        }
      ],
      "source": [
        "print(data['input_ids'].shape)\n",
        "print(data['attention_mask'].shape)\n",
        "print(data['labels'].shape)"
      ]
    },
    {
      "cell_type": "markdown",
      "source": [
        "Load bert model - cased(in order to catch the sentiment more accurately)"
      ],
      "metadata": {
        "id": "ZyUGznp2-QBh"
      }
    },
    {
      "cell_type": "code",
      "execution_count": null,
      "metadata": {
        "id": "Lbt-8Lm3lZKS",
        "colab": {
          "base_uri": "https://localhost:8080/",
          "height": 81,
          "referenced_widgets": [
            "8a4b4cf53db6426ea8ce0376d8acc3ba",
            "1205b8744af947e38d9b5d0feac1a7f7",
            "e1bce4846019490d89231c44753d8b39",
            "463cef10d996464d814e83bb388b4a4b",
            "cc53f00130314e3cba730c491bf6914d",
            "7096811681024beab5afdf5c54ac8262",
            "e6fed7e340e94526aa895302c44c5cb9",
            "e75088452fe140328307cb5c9e8270dd",
            "103d335310bc40278f23cad08d814b5e",
            "c7a4bc14b1d9457a9819ef642db58645",
            "c9bab13cbf2b46b6bcee4fb13855db23",
            "ca61e19842a948a297e50e65c04fb3d7",
            "39800c23e4484de891d6f7e783b284db",
            "7ebdfc657e2b4898a93c4b8ed0367106",
            "aebcfb330c494e978294670828868629",
            "799b337006264571ba3c715fcae12bbf",
            "42b0479d98d84827b7bbbd59aaad9bf3",
            "1dcd658c565e478489ab7ae07da21be2",
            "fad8261b0f944f6fa5a5c830b2df5d03",
            "a5ed53c48abe487f9f628cbd63679ba3",
            "16aaedc503494199bcd1d9fffb4307be",
            "56a4a6dfa6534b4e8501215523bbce8a"
          ]
        },
        "outputId": "9a0bbe54-f580-4fe2-b33a-dcabc1bbd9bf"
      },
      "outputs": [
        {
          "output_type": "display_data",
          "data": {
            "application/vnd.jupyter.widget-view+json": {
              "model_id": "8a4b4cf53db6426ea8ce0376d8acc3ba",
              "version_minor": 0,
              "version_major": 2
            },
            "text/plain": [
              "Downloading:   0%|          | 0.00/433 [00:00<?, ?B/s]"
            ]
          },
          "metadata": {}
        },
        {
          "output_type": "display_data",
          "data": {
            "application/vnd.jupyter.widget-view+json": {
              "model_id": "ca61e19842a948a297e50e65c04fb3d7",
              "version_minor": 0,
              "version_major": 2
            },
            "text/plain": [
              "Downloading:   0%|          | 0.00/436M [00:00<?, ?B/s]"
            ]
          },
          "metadata": {}
        }
      ],
      "source": [
        "bert_model = BertModel.from_pretrained(PRE_TRAINED_MODEL_NAME)"
      ]
    },
    {
      "cell_type": "markdown",
      "source": [
        "The last_hidden_state is the sequence of hidden states in the last layer. By applying the bert pooler on last_hidden_state we get pooled output:"
      ],
      "metadata": {
        "id": "7DqzDuJX_JT-"
      }
    },
    {
      "cell_type": "code",
      "execution_count": null,
      "metadata": {
        "id": "MbZDUXLDlc8E"
      },
      "outputs": [],
      "source": [
        "last_hidden_state, pooled_output = bert_model(\n",
        "  input_ids=encoding['input_ids'], \n",
        "  attention_mask=encoding['attention_mask']\n",
        ")"
      ]
    },
    {
      "cell_type": "code",
      "execution_count": null,
      "metadata": {
        "colab": {
          "base_uri": "https://localhost:8080/"
        },
        "id": "sCgR9BqvlfEz",
        "outputId": "f3bd858c-e48a-452d-c1fa-aaff8961a37c"
      },
      "outputs": [
        {
          "output_type": "execute_result",
          "data": {
            "text/plain": [
              "torch.Size([1, 32, 768])"
            ]
          },
          "metadata": {},
          "execution_count": 36
        }
      ],
      "source": [
        "last_hidden_state.shape"
      ]
    },
    {
      "cell_type": "code",
      "execution_count": null,
      "metadata": {
        "colab": {
          "base_uri": "https://localhost:8080/"
        },
        "id": "Y81Xe3M4lhmh",
        "outputId": "61562a83-007b-41cb-c6da-4d854560c658"
      },
      "outputs": [
        {
          "output_type": "execute_result",
          "data": {
            "text/plain": [
              "768"
            ]
          },
          "metadata": {},
          "execution_count": 37
        }
      ],
      "source": [
        "bert_model.config.hidden_size"
      ]
    },
    {
      "cell_type": "markdown",
      "source": [
        "We have the hidden state for each of our 32 tokens . 768 is the number of hidden units in the feedforward-networks. That is showed by config."
      ],
      "metadata": {
        "id": "6_8T8EuB-2fi"
      }
    },
    {
      "cell_type": "code",
      "execution_count": null,
      "metadata": {
        "colab": {
          "base_uri": "https://localhost:8080/"
        },
        "id": "jocX0QjflkIU",
        "outputId": "5a0abfb2-4399-4e86-e63c-4da819e187a8"
      },
      "outputs": [
        {
          "output_type": "execute_result",
          "data": {
            "text/plain": [
              "torch.Size([1, 768])"
            ]
          },
          "metadata": {},
          "execution_count": 38
        }
      ],
      "source": [
        "pooled_output.shape"
      ]
    },
    {
      "cell_type": "markdown",
      "source": [
        "We build our sentiment classifier on top of bert model. Below we load it"
      ],
      "metadata": {
        "id": "WLhdNaqD-k5o"
      }
    },
    {
      "cell_type": "code",
      "execution_count": null,
      "metadata": {
        "id": "tmHq8LaplnT8"
      },
      "outputs": [],
      "source": [
        "class SentimentClassifier(nn.Module):\n",
        "\n",
        "  def __init__(self, n_classes):\n",
        "    super(SentimentClassifier, self).__init__()\n",
        "    self.bert = BertModel.from_pretrained(PRE_TRAINED_MODEL_NAME)\n",
        "    self.drop = nn.Dropout(p=0.3)\n",
        "    self.out = nn.Linear(self.bert.config.hidden_size, n_classes)\n",
        "  \n",
        "  def forward(self, input_ids, attention_mask):\n",
        "    _, pooled_output = self.bert(\n",
        "      input_ids=input_ids,\n",
        "      attention_mask=attention_mask\n",
        "    )\n",
        "    output = self.drop(pooled_output)\n",
        "    return self.out(output)"
      ]
    },
    {
      "cell_type": "markdown",
      "source": [
        "Bert Model does the majority of the work . We have a dropout layer for regularization and a compeltely connected layer for output. We are returning the output of the last layer and that is passed to loss function.\n",
        "\n",
        "Build an instance and move it to the GPU:"
      ],
      "metadata": {
        "id": "JWypRd4u_q1t"
      }
    },
    {
      "cell_type": "code",
      "execution_count": null,
      "metadata": {
        "id": "oTxUIb-jlq4a"
      },
      "outputs": [],
      "source": [
        "model = SentimentClassifier(3)\n",
        "model = model.to(device)"
      ]
    },
    {
      "cell_type": "markdown",
      "source": [
        "Move example to gpu"
      ],
      "metadata": {
        "id": "qOeXgM61AiFC"
      }
    },
    {
      "cell_type": "code",
      "execution_count": null,
      "metadata": {
        "colab": {
          "base_uri": "https://localhost:8080/"
        },
        "id": "7nVf3SCclvtS",
        "outputId": "af9f09e3-6f3c-4466-aedc-d35e6e7d421a"
      },
      "outputs": [
        {
          "output_type": "stream",
          "name": "stdout",
          "text": [
            "torch.Size([16, 50])\n",
            "torch.Size([16, 50])\n"
          ]
        }
      ],
      "source": [
        "input_ids = data['input_ids'].to(device)\n",
        "attention_mask = data['attention_mask'].to(device)\n",
        "\n",
        "print(input_ids.shape) # batch size x seq length\n",
        "print(attention_mask.shape) # batch size x seq length"
      ]
    },
    {
      "cell_type": "markdown",
      "source": [
        "To get the predicted probabilities from our model, we have softmax function to produce probabilities"
      ],
      "metadata": {
        "id": "ScMl3PztAgNs"
      }
    },
    {
      "cell_type": "code",
      "execution_count": null,
      "metadata": {
        "colab": {
          "base_uri": "https://localhost:8080/"
        },
        "id": "MpWgFbsRlMhz",
        "outputId": "56f4572f-82ef-4186-b6ec-7e5afbda847e"
      },
      "outputs": [
        {
          "output_type": "execute_result",
          "data": {
            "text/plain": [
              "tensor([[0.4314, 0.1850, 0.3837],\n",
              "        [0.4885, 0.1480, 0.3635],\n",
              "        [0.2628, 0.1586, 0.5786],\n",
              "        [0.5358, 0.1317, 0.3325],\n",
              "        [0.5742, 0.1774, 0.2484],\n",
              "        [0.3348, 0.1627, 0.5025],\n",
              "        [0.4189, 0.1284, 0.4527],\n",
              "        [0.3180, 0.2757, 0.4063],\n",
              "        [0.2945, 0.1333, 0.5722],\n",
              "        [0.2507, 0.2066, 0.5427],\n",
              "        [0.4126, 0.1771, 0.4103],\n",
              "        [0.4130, 0.2016, 0.3853],\n",
              "        [0.5571, 0.0874, 0.3555],\n",
              "        [0.5046, 0.1492, 0.3462],\n",
              "        [0.4003, 0.1815, 0.4182],\n",
              "        [0.3625, 0.1919, 0.4456]], device='cuda:0', grad_fn=<SoftmaxBackward0>)"
            ]
          },
          "metadata": {},
          "execution_count": 42
        }
      ],
      "source": [
        "F.softmax(model(input_ids, attention_mask), dim=1)"
      ]
    },
    {
      "cell_type": "markdown",
      "source": [
        "We will use the AdamW optimizer provided by Hugging Face to produce results from the BERT paper. It corrects weight decay"
      ],
      "metadata": {
        "id": "NtTyanLjA5bn"
      }
    },
    {
      "cell_type": "markdown",
      "source": [
        "## Training and evaluation of the model\n",
        "\n",
        "I observed that increasing the batch size reduces the training time significantly, but gives me lower accuracy.\n",
        "\n",
        "2 epochs prevented the model form overfitting\n",
        "\n",
        "2e-5 learning rate gave the best results"
      ],
      "metadata": {
        "id": "pBuQzwMFBkJ3"
      }
    },
    {
      "cell_type": "code",
      "execution_count": null,
      "metadata": {
        "id": "Bx8Z44etl391"
      },
      "outputs": [],
      "source": [
        "EPOCHS = 2\n",
        "\n",
        "optimizer = AdamW(model.parameters(), lr=2e-5, correct_bias=False)\n",
        "total_steps = len(train_data_loader) * EPOCHS\n",
        "\n",
        "scheduler = get_linear_schedule_with_warmup(\n",
        "  optimizer,\n",
        "  num_warmup_steps=0,\n",
        "  num_training_steps=total_steps\n",
        ")\n",
        "\n",
        "loss_fn = nn.CrossEntropyLoss().to(device)"
      ]
    },
    {
      "cell_type": "markdown",
      "source": [
        "Training the model should look familiar to the previous assignments, except for two aspects. The scheduler gets called every time a batch is fed to the model.  Exploding gradients are avoided by clipping the gradients of the model using clip_gradnorm."
      ],
      "metadata": {
        "id": "1As9hFm2CO4x"
      }
    },
    {
      "cell_type": "code",
      "execution_count": null,
      "metadata": {
        "id": "uVMvoUg6l9r4"
      },
      "outputs": [],
      "source": [
        "def train_epoch(\n",
        "  model, \n",
        "  data_loader, \n",
        "  loss_fn, \n",
        "  optimizer, \n",
        "  device, \n",
        "  scheduler, \n",
        "  n_examples\n",
        "):\n",
        "  model = model.train()\n",
        "\n",
        "  losses = []\n",
        "  correct_predictions = 0\n",
        "  epoch_f1 = 0\n",
        "  epoch_recall = 0\n",
        "  epoch_accuracy = 0\n",
        "  \n",
        "  for d in data_loader:\n",
        "    input_ids = d[\"input_ids\"].to(device)\n",
        "    attention_mask = d[\"attention_mask\"].to(device)\n",
        "    labels = d[\"labels\"].to(device)\n",
        "\n",
        "    outputs = model(\n",
        "      input_ids=input_ids,\n",
        "      attention_mask=attention_mask\n",
        "    )\n",
        "\n",
        "    _, preds = torch.max(outputs, dim=1)\n",
        "    loss = loss_fn(outputs, labels)\n",
        "\n",
        "    losses.append(loss.item())\n",
        "\n",
        "    loss.backward()\n",
        "    nn.utils.clip_grad_norm_(model.parameters(), max_norm=1.0)\n",
        "    metrics_list = precision_recall_fscore_support( preds.cpu(),labels.cpu(), average='weighted',warn_for=tuple())\n",
        "    epoch_accuracy += metrics_list[0]\n",
        "    epoch_recall +=  metrics_list[1]\n",
        "    epoch_f1 += metrics_list[2]\n",
        "    optimizer.step()\n",
        "    scheduler.step()\n",
        "    optimizer.zero_grad()\n",
        "\n",
        "  return epoch_accuracy / len(data_loader),epoch_recall / len(data_loader),epoch_f1 / len(data_loader),np.mean(losses)"
      ]
    },
    {
      "cell_type": "markdown",
      "source": [
        "We return proper accuracy scores by applying mean value for all the epochs"
      ],
      "metadata": {
        "id": "3naDB700ChQ8"
      }
    },
    {
      "cell_type": "code",
      "execution_count": null,
      "metadata": {
        "id": "qgVYIFEnmBQT"
      },
      "outputs": [],
      "source": [
        "def eval_model(model, data_loader, loss_fn, device, n_examples):\n",
        "  model = model.eval()\n",
        "\n",
        "  losses = []\n",
        "  correct_predictions = 0\n",
        "  epoch_f1 = 0\n",
        "  epoch_recall = 0\n",
        "  epoch_accuracy = 0\n",
        "\n",
        "  with torch.no_grad():\n",
        "    for d in data_loader:\n",
        "      input_ids = d[\"input_ids\"].to(device)\n",
        "      attention_mask = d[\"attention_mask\"].to(device)\n",
        "      labels = d[\"labels\"].to(device)\n",
        "\n",
        "      outputs = model(\n",
        "        input_ids=input_ids,\n",
        "        attention_mask=attention_mask\n",
        "      )\n",
        "      _, preds = torch.max(outputs, dim=1)\n",
        "\n",
        "      loss = loss_fn(outputs, labels)\n",
        "\n",
        "      metrics_list = precision_recall_fscore_support( preds.cpu(),labels.cpu(), average='weighted',warn_for=tuple())\n",
        "      epoch_accuracy += metrics_list[0]\n",
        "      epoch_recall +=  metrics_list[1]\n",
        "      epoch_f1 += metrics_list[2]\n",
        "      losses.append(loss.item())\n",
        "\n",
        "  return  epoch_accuracy / len(data_loader),epoch_recall / len(data_loader),epoch_f1 / len(data_loader),np.mean(losses)"
      ]
    },
    {
      "cell_type": "markdown",
      "source": [
        "Note that we're storing the state of the best model (the one that has the best accuracy)"
      ],
      "metadata": {
        "id": "6_BFMQYKDHmz"
      }
    },
    {
      "cell_type": "code",
      "execution_count": null,
      "metadata": {
        "colab": {
          "base_uri": "https://localhost:8080/"
        },
        "id": "0vyn-nmXmESm",
        "outputId": "41e5a047-2327-4572-f28f-ecee991f1691"
      },
      "outputs": [
        {
          "output_type": "stream",
          "name": "stdout",
          "text": [
            "Epoch 1/2\n",
            "----------\n",
            "Train loss 0.7178563089099301 Train Acc 0.779612590800377 Train Rec 0.6938384127314333 Train f1 0.7128345509578589\n",
            "Val   loss 0.6138974605323552 Val accuracy 0.7645929102463193 Val Rec 0.7335664335664336 Val f1 0.7290012534370618\n",
            "\n",
            "Epoch 2/2\n",
            "----------\n",
            "Train loss 0.49263139022194546 Train Acc 0.839490660663072 Train Rec 0.8056805179945913 Train f1 0.8075002121823459\n",
            "Val   loss 0.6452886037059598 Val accuracy 0.7918630990221897 Val Rec 0.7458041958041959 Val f1 0.7490136121967694\n",
            "\n",
            "CPU times: user 3min 17s, sys: 2.28 s, total: 3min 20s\n",
            "Wall time: 3min 25s\n"
          ]
        }
      ],
      "source": [
        "%%time\n",
        "\n",
        "history = defaultdict(list)\n",
        "best_accuracy = 0\n",
        "\n",
        "for epoch in range(EPOCHS):\n",
        "\n",
        "  print(f'Epoch {epoch + 1}/{EPOCHS}')\n",
        "  print('-' * 10)\n",
        "\n",
        "  train_acc,train_rec,train_f1, train_loss = train_epoch(\n",
        "    model,\n",
        "    train_data_loader,    \n",
        "    loss_fn, \n",
        "    optimizer, \n",
        "    device, \n",
        "    scheduler, \n",
        "    len(df_train)\n",
        "  )\n",
        "\n",
        "  print(f'Train loss {train_loss} Train Acc {train_acc} Train Rec {train_rec} Train f1 {train_f1}')\n",
        "\n",
        "  val_acc,val_rec,val_f1, val_loss = eval_model(\n",
        "    model,\n",
        "    valid_data_loader,\n",
        "    loss_fn, \n",
        "    device, \n",
        "    len(df_valid)\n",
        "  )\n",
        "\n",
        "  print(f'Val   loss {val_loss} Val accuracy {val_acc} Val Rec {val_rec} Val f1 {val_f1}')\n",
        "  print()\n",
        "\n",
        "  history['train_acc'].append(train_acc)\n",
        "  history['train_loss'].append(train_loss)\n",
        "  history['val_acc'].append(val_acc)\n",
        "  history['val_loss'].append(val_loss)\n",
        "\n",
        "  if val_acc > best_accuracy:\n",
        "    torch.save(model.state_dict(), 'best_model_state.bin')\n",
        "    best_accuracy = val_acc"
      ]
    },
    {
      "cell_type": "markdown",
      "source": [
        "Plot of validation and training lost after every epoch. As we see it is reduced after every epoch.We want to prevent overfitting and that is achieved by saving the best state of the model."
      ],
      "metadata": {
        "id": "rTWMgShyDgWe"
      }
    },
    {
      "cell_type": "code",
      "execution_count": null,
      "metadata": {
        "id": "E0gtDpN4x5Mk",
        "colab": {
          "base_uri": "https://localhost:8080/",
          "height": 541
        },
        "outputId": "0423393c-f494-4b99-a123-a9aaf771a909"
      },
      "outputs": [
        {
          "output_type": "execute_result",
          "data": {
            "text/plain": [
              "<matplotlib.legend.Legend at 0x7fe1d4238950>"
            ]
          },
          "metadata": {},
          "execution_count": 47
        },
        {
          "output_type": "display_data",
          "data": {
            "image/png": "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\n",
            "text/plain": [
              "<Figure size 864x576 with 1 Axes>"
            ]
          },
          "metadata": {
            "image/png": {
              "width": 740,
              "height": 506
            }
          }
        }
      ],
      "source": [
        "plt.plot(history['train_loss'], label='train loss')\n",
        "plt.plot(history['val_loss'], label='validation loss')\n",
        "\n",
        "plt.title('Training history')\n",
        "plt.ylabel('Loss')\n",
        "plt.xlabel('Epoch')\n",
        "plt.legend()"
      ]
    },
    {
      "cell_type": "markdown",
      "source": [
        "Get the accuracy scores of the testing set.These are the most reliable results."
      ],
      "metadata": {
        "id": "IEbjZADJD_RH"
      }
    },
    {
      "cell_type": "code",
      "execution_count": null,
      "metadata": {
        "colab": {
          "base_uri": "https://localhost:8080/"
        },
        "id": "4-iKS9fHrpMV",
        "outputId": "d4599fe7-89b5-4bcc-bcc8-b499f63bae0d"
      },
      "outputs": [
        {
          "output_type": "stream",
          "name": "stdout",
          "text": [
            "test accuracy 0.7919091366966368 test Rec 0.7561538461538462 test f1 0.7605687716566201\n"
          ]
        }
      ],
      "source": [
        "test_acc,test_rec,test_f1, _ = eval_model(\n",
        "  model,\n",
        "  test_data_loader,\n",
        "  loss_fn,\n",
        "  device,\n",
        "  len(df_test)\n",
        ")\n",
        "\n",
        "print(f'test accuracy {test_acc} test Rec {test_rec} test f1 {test_f1}')"
      ]
    },
    {
      "cell_type": "markdown",
      "source": [
        "As we see it has quite better results than previous assignments"
      ],
      "metadata": {
        "id": "kNmzYALyKhAo"
      }
    },
    {
      "cell_type": "markdown",
      "source": [
        "Create classification report in order to review the accuracy scores of the specific classes.This is achieved by producing probabilities of the model from the test set.I freeze the gradients as you see below."
      ],
      "metadata": {
        "id": "HLoD-rLSEMKv"
      }
    },
    {
      "cell_type": "code",
      "execution_count": null,
      "metadata": {
        "id": "yNh2LqxbssBQ"
      },
      "outputs": [],
      "source": [
        "def get_predictions(model, data_loader):\n",
        "  model = model.eval()\n",
        "  \n",
        "  tweets = []\n",
        "  predictions = []\n",
        "  prediction_probs = []\n",
        "  real_values = []\n",
        "\n",
        "  with torch.no_grad():\n",
        "    for d in data_loader:\n",
        "\n",
        "      texts = d[\"tweets\"]\n",
        "      input_ids = d[\"input_ids\"].to(device)\n",
        "      attention_mask = d[\"attention_mask\"].to(device)\n",
        "      labels = d[\"labels\"].to(device)\n",
        "\n",
        "      outputs = model(\n",
        "        input_ids=input_ids,\n",
        "        attention_mask=attention_mask\n",
        "      )\n",
        "      _, preds = torch.max(outputs, dim=1)\n",
        "\n",
        "      probs = F.softmax(outputs, dim=1)\n",
        "\n",
        "      tweets.extend(texts)\n",
        "      predictions.extend(preds)\n",
        "      prediction_probs.extend(probs)\n",
        "      real_values.extend(labels)\n",
        "\n",
        "  predictions = torch.stack(predictions).cpu()\n",
        "  prediction_probs = torch.stack(prediction_probs).cpu()\n",
        "  real_values = torch.stack(real_values).cpu()\n",
        "  return tweets, predictions, prediction_probs, real_values"
      ]
    },
    {
      "cell_type": "code",
      "execution_count": null,
      "metadata": {
        "id": "SptkijjUs-oF"
      },
      "outputs": [],
      "source": [
        "y_review_texts, y_pred, y_pred_probs, y_test = get_predictions(\n",
        "  model,\n",
        "  test_data_loader\n",
        ")"
      ]
    },
    {
      "cell_type": "code",
      "execution_count": null,
      "metadata": {
        "id": "h9xYKXo1tUxV"
      },
      "outputs": [],
      "source": [
        "class_names = ['0', '1', '2']"
      ]
    },
    {
      "cell_type": "code",
      "execution_count": null,
      "metadata": {
        "colab": {
          "base_uri": "https://localhost:8080/"
        },
        "id": "DTeEuY3mtDIr",
        "outputId": "3a3bfce6-dc2e-4dd7-9207-f5de6a0e2a42"
      },
      "outputs": [
        {
          "output_type": "stream",
          "name": "stdout",
          "text": [
            "              precision    recall  f1-score   support\n",
            "\n",
            "           0       0.83      0.79      0.81       932\n",
            "           1       0.58      0.45      0.51       247\n",
            "           2       0.72      0.81      0.77       818\n",
            "\n",
            "    accuracy                           0.76      1997\n",
            "   macro avg       0.71      0.68      0.69      1997\n",
            "weighted avg       0.75      0.76      0.75      1997\n",
            "\n"
          ]
        }
      ],
      "source": [
        "print(classification_report(y_test, y_pred, target_names=class_names))"
      ]
    },
    {
      "cell_type": "markdown",
      "source": [
        "The results for every class are satisfying regarding the unbalanced dataset."
      ],
      "metadata": {
        "id": "7ur6FSokEoiQ"
      }
    },
    {
      "cell_type": "markdown",
      "source": [
        "##Confusion matrix"
      ],
      "metadata": {
        "id": "i_cFeAuME7JZ"
      }
    },
    {
      "cell_type": "code",
      "execution_count": null,
      "metadata": {
        "colab": {
          "base_uri": "https://localhost:8080/",
          "height": 509
        },
        "id": "izptCEx1tNRJ",
        "outputId": "219ba5ad-5b31-4b07-8b08-8f807e226c54"
      },
      "outputs": [
        {
          "output_type": "display_data",
          "data": {
            "image/png": "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\n",
            "text/plain": [
              "<Figure size 864x576 with 2 Axes>"
            ]
          },
          "metadata": {
            "image/png": {
              "width": 675,
              "height": 492
            }
          }
        }
      ],
      "source": [
        "def show_confusion_matrix(confusion_matrix):\n",
        "  hmap = sns.heatmap(confusion_matrix, annot=True, fmt=\"d\", cmap=\"Blues\")\n",
        "  hmap.yaxis.set_ticklabels(hmap.yaxis.get_ticklabels(), rotation=0, ha='right')\n",
        "  hmap.xaxis.set_ticklabels(hmap.xaxis.get_ticklabels(), rotation=30, ha='right')\n",
        "  plt.ylabel('True sentiment')\n",
        "  plt.xlabel('Predicted sentiment');\n",
        "\n",
        "cm = confusion_matrix(y_test, y_pred)\n",
        "df_cm = pd.DataFrame(cm, index=class_names, columns=class_names)\n",
        "show_confusion_matrix(df_cm)"
      ]
    },
    {
      "cell_type": "markdown",
      "source": [
        "The diagonal shows the correctly predicted outcomes"
      ],
      "metadata": {
        "id": "XHS6A70_E-nG"
      }
    },
    {
      "cell_type": "markdown",
      "source": [
        "##Predicting on Raw Text"
      ],
      "metadata": {
        "id": "QjxwTndsFP6l"
      }
    },
    {
      "cell_type": "code",
      "execution_count": null,
      "metadata": {
        "id": "EKZ2YcWzueo7"
      },
      "outputs": [],
      "source": [
        "text = \"Vaccine is dangerous for your health\""
      ]
    },
    {
      "cell_type": "code",
      "execution_count": null,
      "metadata": {
        "id": "hjB2osoKujnH"
      },
      "outputs": [],
      "source": [
        "encoded_review = tokenizer.encode_plus(\n",
        "  text,\n",
        "  truncation = True,\n",
        "  max_length=MAX_LEN,\n",
        "  add_special_tokens=True,\n",
        "  return_token_type_ids=False,\n",
        "  pad_to_max_length=True,\n",
        "  return_attention_mask=True,\n",
        "  return_tensors='pt',\n",
        ")"
      ]
    },
    {
      "cell_type": "code",
      "execution_count": null,
      "metadata": {
        "colab": {
          "base_uri": "https://localhost:8080/"
        },
        "id": "YzzPJD5UutYb",
        "outputId": "6a30b771-a7d3-4199-b9fe-0b5a659bd97d"
      },
      "outputs": [
        {
          "output_type": "stream",
          "name": "stdout",
          "text": [
            "Review text: Vaccine is dangerous for your health\n",
            "Sentiment  : 1\n"
          ]
        }
      ],
      "source": [
        "input_ids = encoded_review['input_ids'].to(device)\n",
        "attention_mask = encoded_review['attention_mask'].to(device)\n",
        "\n",
        "output = model(input_ids, attention_mask)\n",
        "_, prediction = torch.max(output, dim=1)\n",
        "\n",
        "print(f'Review text: {text}')\n",
        "print(f'Sentiment  : {class_names[prediction]}')"
      ]
    },
    {
      "cell_type": "markdown",
      "source": [
        "The text is classified correctly as you see (negative class),indicating the good performance that out model has.In that way , we can put any text about the vaccine and get the sentiment prediction by our classifier."
      ],
      "metadata": {
        "id": "btHbx0yjFS_X"
      }
    }
  ],
  "metadata": {
    "accelerator": "GPU",
    "colab": {
      "name": "bertfinal_sdi1700170.ipynb",
      "provenance": [],
      "collapsed_sections": []
    },
    "kernelspec": {
      "display_name": "Python 3",
      "name": "python3"
    },
    "language_info": {
      "name": "python"
    },
    ,
  "nbformat": 4,
  "nbformat_minor": 0
}
